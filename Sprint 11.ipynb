{
 "cells": [
  {
   "cell_type": "markdown",
   "metadata": {},
   "source": [
    "<div class=\"alert alert-success\">\n",
    "<b>Reviewer's comment V3</b>\n",
    "\n",
    "Thanks for taking the time to improve the project! It is now accepted. Good luck on the final sprint!\n",
    "\n",
    "</div>"
   ]
  },
  {
   "cell_type": "markdown",
   "metadata": {},
   "source": [
    "**Review**\n",
    "\n",
    "Hi, my name is Dmitry and I will be reviewing your project.\n",
    "  \n",
    "You can find my comments in colored markdown cells:\n",
    "  \n",
    "<div class=\"alert alert-success\">\n",
    "  If everything is done successfully.\n",
    "</div>\n",
    "  \n",
    "<div class=\"alert alert-warning\">\n",
    "  If I have some (optional) suggestions, or questions to think about, or general comments.\n",
    "</div>\n",
    "  \n",
    "<div class=\"alert alert-danger\">\n",
    "  If a section requires some corrections. Work can't be accepted with red comments.\n",
    "</div>\n",
    "  \n",
    "Please don't remove my comments, as it will make further review iterations much harder for me.\n",
    "  \n",
    "Feel free to reply to my comments or ask questions using the following template:\n",
    "  \n",
    "<div class=\"alert alert-info\">\n",
    "  For your comments and questions.\n",
    "</div>\n",
    "  \n",
    "First of all, thank you for turning in the project! You did a pretty good job overall, but there are a couple of problems that need to be fixed before the project is accepted. Let me know if you have questions!"
   ]
  },
  {
   "cell_type": "markdown",
   "metadata": {},
   "source": [
    "# Description of the data"
   ]
  },
  {
   "cell_type": "markdown",
   "metadata": {},
   "source": [
    "**Every observation in the dataset contains monthly behavior information about one user.**\n",
    "\n",
    "*datasets/users_behavior.csv*\n",
    "\n",
    "**The information given is as follows:**\n",
    "* *сalls* — number of calls,\n",
    "* *minutes* — total call duration in minutes,\n",
    "* *messages* — number of text messages,\n",
    "* *mb_used* — Internet traffic used in MB,\n",
    "* *is_ultra* — plan for the current month (Ultra - 1, Smart - 0)."
   ]
  },
  {
   "cell_type": "markdown",
   "metadata": {},
   "source": [
    "## Download the data and prepare it for analysis"
   ]
  },
  {
   "cell_type": "code",
   "execution_count": 1,
   "metadata": {},
   "outputs": [],
   "source": [
    "import pandas as pd\n",
    "from sklearn.model_selection import train_test_split\n",
    "from sklearn.tree import DecisionTreeRegressor\n",
    "from sklearn.ensemble import RandomForestRegressor\n",
    "from sklearn.ensemble import RandomForestClassifier\n",
    "from sklearn.linear_model import LinearRegression\n",
    "from sklearn.linear_model import LogisticRegression\n",
    "from sklearn.tree import DecisionTreeClassifier\n",
    "from sklearn.metrics import mean_squared_error\n",
    "from sklearn.metrics import accuracy_score\n",
    "import numpy as np"
   ]
  },
  {
   "cell_type": "code",
   "execution_count": 2,
   "metadata": {},
   "outputs": [],
   "source": [
    "data = pd.read_csv('/datasets/users_behavior.csv')"
   ]
  },
  {
   "cell_type": "code",
   "execution_count": 3,
   "metadata": {},
   "outputs": [
    {
     "name": "stdout",
     "output_type": "stream",
     "text": [
      "<class 'pandas.core.frame.DataFrame'>\n",
      "RangeIndex: 3214 entries, 0 to 3213\n",
      "Data columns (total 5 columns):\n",
      " #   Column    Non-Null Count  Dtype  \n",
      "---  ------    --------------  -----  \n",
      " 0   calls     3214 non-null   float64\n",
      " 1   minutes   3214 non-null   float64\n",
      " 2   messages  3214 non-null   float64\n",
      " 3   mb_used   3214 non-null   float64\n",
      " 4   is_ultra  3214 non-null   int64  \n",
      "dtypes: float64(4), int64(1)\n",
      "memory usage: 125.7 KB\n"
     ]
    }
   ],
   "source": [
    "data.info()"
   ]
  },
  {
   "cell_type": "code",
   "execution_count": 4,
   "metadata": {},
   "outputs": [
    {
     "data": {
      "text/html": [
       "<div>\n",
       "<style scoped>\n",
       "    .dataframe tbody tr th:only-of-type {\n",
       "        vertical-align: middle;\n",
       "    }\n",
       "\n",
       "    .dataframe tbody tr th {\n",
       "        vertical-align: top;\n",
       "    }\n",
       "\n",
       "    .dataframe thead th {\n",
       "        text-align: right;\n",
       "    }\n",
       "</style>\n",
       "<table border=\"1\" class=\"dataframe\">\n",
       "  <thead>\n",
       "    <tr style=\"text-align: right;\">\n",
       "      <th></th>\n",
       "      <th>calls</th>\n",
       "      <th>minutes</th>\n",
       "      <th>messages</th>\n",
       "      <th>mb_used</th>\n",
       "      <th>is_ultra</th>\n",
       "    </tr>\n",
       "  </thead>\n",
       "  <tbody>\n",
       "    <tr>\n",
       "      <th>0</th>\n",
       "      <td>40.0</td>\n",
       "      <td>311.90</td>\n",
       "      <td>83.0</td>\n",
       "      <td>19915.42</td>\n",
       "      <td>0</td>\n",
       "    </tr>\n",
       "    <tr>\n",
       "      <th>1</th>\n",
       "      <td>85.0</td>\n",
       "      <td>516.75</td>\n",
       "      <td>56.0</td>\n",
       "      <td>22696.96</td>\n",
       "      <td>0</td>\n",
       "    </tr>\n",
       "    <tr>\n",
       "      <th>2</th>\n",
       "      <td>77.0</td>\n",
       "      <td>467.66</td>\n",
       "      <td>86.0</td>\n",
       "      <td>21060.45</td>\n",
       "      <td>0</td>\n",
       "    </tr>\n",
       "    <tr>\n",
       "      <th>3</th>\n",
       "      <td>106.0</td>\n",
       "      <td>745.53</td>\n",
       "      <td>81.0</td>\n",
       "      <td>8437.39</td>\n",
       "      <td>1</td>\n",
       "    </tr>\n",
       "    <tr>\n",
       "      <th>4</th>\n",
       "      <td>66.0</td>\n",
       "      <td>418.74</td>\n",
       "      <td>1.0</td>\n",
       "      <td>14502.75</td>\n",
       "      <td>0</td>\n",
       "    </tr>\n",
       "    <tr>\n",
       "      <th>...</th>\n",
       "      <td>...</td>\n",
       "      <td>...</td>\n",
       "      <td>...</td>\n",
       "      <td>...</td>\n",
       "      <td>...</td>\n",
       "    </tr>\n",
       "    <tr>\n",
       "      <th>3209</th>\n",
       "      <td>122.0</td>\n",
       "      <td>910.98</td>\n",
       "      <td>20.0</td>\n",
       "      <td>35124.90</td>\n",
       "      <td>1</td>\n",
       "    </tr>\n",
       "    <tr>\n",
       "      <th>3210</th>\n",
       "      <td>25.0</td>\n",
       "      <td>190.36</td>\n",
       "      <td>0.0</td>\n",
       "      <td>3275.61</td>\n",
       "      <td>0</td>\n",
       "    </tr>\n",
       "    <tr>\n",
       "      <th>3211</th>\n",
       "      <td>97.0</td>\n",
       "      <td>634.44</td>\n",
       "      <td>70.0</td>\n",
       "      <td>13974.06</td>\n",
       "      <td>0</td>\n",
       "    </tr>\n",
       "    <tr>\n",
       "      <th>3212</th>\n",
       "      <td>64.0</td>\n",
       "      <td>462.32</td>\n",
       "      <td>90.0</td>\n",
       "      <td>31239.78</td>\n",
       "      <td>0</td>\n",
       "    </tr>\n",
       "    <tr>\n",
       "      <th>3213</th>\n",
       "      <td>80.0</td>\n",
       "      <td>566.09</td>\n",
       "      <td>6.0</td>\n",
       "      <td>29480.52</td>\n",
       "      <td>1</td>\n",
       "    </tr>\n",
       "  </tbody>\n",
       "</table>\n",
       "<p>3214 rows × 5 columns</p>\n",
       "</div>"
      ],
      "text/plain": [
       "      calls  minutes  messages   mb_used  is_ultra\n",
       "0      40.0   311.90      83.0  19915.42         0\n",
       "1      85.0   516.75      56.0  22696.96         0\n",
       "2      77.0   467.66      86.0  21060.45         0\n",
       "3     106.0   745.53      81.0   8437.39         1\n",
       "4      66.0   418.74       1.0  14502.75         0\n",
       "...     ...      ...       ...       ...       ...\n",
       "3209  122.0   910.98      20.0  35124.90         1\n",
       "3210   25.0   190.36       0.0   3275.61         0\n",
       "3211   97.0   634.44      70.0  13974.06         0\n",
       "3212   64.0   462.32      90.0  31239.78         0\n",
       "3213   80.0   566.09       6.0  29480.52         1\n",
       "\n",
       "[3214 rows x 5 columns]"
      ]
     },
     "execution_count": 4,
     "metadata": {},
     "output_type": "execute_result"
    }
   ],
   "source": [
    "data.columns = data.columns.str.lower()\n",
    "data"
   ]
  },
  {
   "cell_type": "code",
   "execution_count": 5,
   "metadata": {},
   "outputs": [
    {
     "data": {
      "text/html": [
       "<div>\n",
       "<style scoped>\n",
       "    .dataframe tbody tr th:only-of-type {\n",
       "        vertical-align: middle;\n",
       "    }\n",
       "\n",
       "    .dataframe tbody tr th {\n",
       "        vertical-align: top;\n",
       "    }\n",
       "\n",
       "    .dataframe thead th {\n",
       "        text-align: right;\n",
       "    }\n",
       "</style>\n",
       "<table border=\"1\" class=\"dataframe\">\n",
       "  <thead>\n",
       "    <tr style=\"text-align: right;\">\n",
       "      <th>is_ultra</th>\n",
       "      <th>0</th>\n",
       "      <th>1</th>\n",
       "    </tr>\n",
       "  </thead>\n",
       "  <tbody>\n",
       "    <tr>\n",
       "      <th>calls</th>\n",
       "      <td>58.463437</td>\n",
       "      <td>73.392893</td>\n",
       "    </tr>\n",
       "    <tr>\n",
       "      <th>minutes</th>\n",
       "      <td>405.942952</td>\n",
       "      <td>511.224569</td>\n",
       "    </tr>\n",
       "    <tr>\n",
       "      <th>messages</th>\n",
       "      <td>33.384029</td>\n",
       "      <td>49.363452</td>\n",
       "    </tr>\n",
       "    <tr>\n",
       "      <th>mb_used</th>\n",
       "      <td>16208.466949</td>\n",
       "      <td>19468.823228</td>\n",
       "    </tr>\n",
       "  </tbody>\n",
       "</table>\n",
       "</div>"
      ],
      "text/plain": [
       "is_ultra             0             1\n",
       "calls        58.463437     73.392893\n",
       "minutes     405.942952    511.224569\n",
       "messages     33.384029     49.363452\n",
       "mb_used   16208.466949  19468.823228"
      ]
     },
     "execution_count": 5,
     "metadata": {},
     "output_type": "execute_result"
    }
   ],
   "source": [
    "data.groupby(['is_ultra']).mean().T"
   ]
  },
  {
   "cell_type": "code",
   "execution_count": 6,
   "metadata": {},
   "outputs": [
    {
     "name": "stdout",
     "output_type": "stream",
     "text": [
      "Basic statistics for Legancy Plan group\n",
      "========================================================\n"
     ]
    },
    {
     "data": {
      "text/html": [
       "<div>\n",
       "<style scoped>\n",
       "    .dataframe tbody tr th:only-of-type {\n",
       "        vertical-align: middle;\n",
       "    }\n",
       "\n",
       "    .dataframe tbody tr th {\n",
       "        vertical-align: top;\n",
       "    }\n",
       "\n",
       "    .dataframe thead th {\n",
       "        text-align: right;\n",
       "    }\n",
       "</style>\n",
       "<table border=\"1\" class=\"dataframe\">\n",
       "  <thead>\n",
       "    <tr style=\"text-align: right;\">\n",
       "      <th></th>\n",
       "      <th>calls</th>\n",
       "      <th>minutes</th>\n",
       "      <th>messages</th>\n",
       "      <th>mb_used</th>\n",
       "      <th>is_ultra</th>\n",
       "    </tr>\n",
       "  </thead>\n",
       "  <tbody>\n",
       "    <tr>\n",
       "      <th>count</th>\n",
       "      <td>2229.000000</td>\n",
       "      <td>2229.000000</td>\n",
       "      <td>2229.000000</td>\n",
       "      <td>2229.000000</td>\n",
       "      <td>2229.0</td>\n",
       "    </tr>\n",
       "    <tr>\n",
       "      <th>mean</th>\n",
       "      <td>58.463437</td>\n",
       "      <td>405.942952</td>\n",
       "      <td>33.384029</td>\n",
       "      <td>16208.466949</td>\n",
       "      <td>0.0</td>\n",
       "    </tr>\n",
       "    <tr>\n",
       "      <th>std</th>\n",
       "      <td>25.939858</td>\n",
       "      <td>184.512604</td>\n",
       "      <td>28.227876</td>\n",
       "      <td>5870.498853</td>\n",
       "      <td>0.0</td>\n",
       "    </tr>\n",
       "    <tr>\n",
       "      <th>min</th>\n",
       "      <td>0.000000</td>\n",
       "      <td>0.000000</td>\n",
       "      <td>0.000000</td>\n",
       "      <td>0.000000</td>\n",
       "      <td>0.0</td>\n",
       "    </tr>\n",
       "    <tr>\n",
       "      <th>25%</th>\n",
       "      <td>40.000000</td>\n",
       "      <td>274.230000</td>\n",
       "      <td>10.000000</td>\n",
       "      <td>12643.050000</td>\n",
       "      <td>0.0</td>\n",
       "    </tr>\n",
       "    <tr>\n",
       "      <th>50%</th>\n",
       "      <td>60.000000</td>\n",
       "      <td>410.560000</td>\n",
       "      <td>28.000000</td>\n",
       "      <td>16506.930000</td>\n",
       "      <td>0.0</td>\n",
       "    </tr>\n",
       "    <tr>\n",
       "      <th>75%</th>\n",
       "      <td>76.000000</td>\n",
       "      <td>529.510000</td>\n",
       "      <td>51.000000</td>\n",
       "      <td>20043.060000</td>\n",
       "      <td>0.0</td>\n",
       "    </tr>\n",
       "    <tr>\n",
       "      <th>max</th>\n",
       "      <td>198.000000</td>\n",
       "      <td>1390.220000</td>\n",
       "      <td>143.000000</td>\n",
       "      <td>38552.620000</td>\n",
       "      <td>0.0</td>\n",
       "    </tr>\n",
       "  </tbody>\n",
       "</table>\n",
       "</div>"
      ],
      "text/plain": [
       "             calls      minutes     messages       mb_used  is_ultra\n",
       "count  2229.000000  2229.000000  2229.000000   2229.000000    2229.0\n",
       "mean     58.463437   405.942952    33.384029  16208.466949       0.0\n",
       "std      25.939858   184.512604    28.227876   5870.498853       0.0\n",
       "min       0.000000     0.000000     0.000000      0.000000       0.0\n",
       "25%      40.000000   274.230000    10.000000  12643.050000       0.0\n",
       "50%      60.000000   410.560000    28.000000  16506.930000       0.0\n",
       "75%      76.000000   529.510000    51.000000  20043.060000       0.0\n",
       "max     198.000000  1390.220000   143.000000  38552.620000       0.0"
      ]
     },
     "metadata": {},
     "output_type": "display_data"
    },
    {
     "name": "stdout",
     "output_type": "stream",
     "text": [
      "Basic statistics for Ultra group\n",
      "========================================================\n"
     ]
    },
    {
     "data": {
      "text/html": [
       "<div>\n",
       "<style scoped>\n",
       "    .dataframe tbody tr th:only-of-type {\n",
       "        vertical-align: middle;\n",
       "    }\n",
       "\n",
       "    .dataframe tbody tr th {\n",
       "        vertical-align: top;\n",
       "    }\n",
       "\n",
       "    .dataframe thead th {\n",
       "        text-align: right;\n",
       "    }\n",
       "</style>\n",
       "<table border=\"1\" class=\"dataframe\">\n",
       "  <thead>\n",
       "    <tr style=\"text-align: right;\">\n",
       "      <th></th>\n",
       "      <th>calls</th>\n",
       "      <th>minutes</th>\n",
       "      <th>messages</th>\n",
       "      <th>mb_used</th>\n",
       "      <th>is_ultra</th>\n",
       "    </tr>\n",
       "  </thead>\n",
       "  <tbody>\n",
       "    <tr>\n",
       "      <th>count</th>\n",
       "      <td>985.000000</td>\n",
       "      <td>985.000000</td>\n",
       "      <td>985.000000</td>\n",
       "      <td>985.000000</td>\n",
       "      <td>985.0</td>\n",
       "    </tr>\n",
       "    <tr>\n",
       "      <th>mean</th>\n",
       "      <td>73.392893</td>\n",
       "      <td>511.224569</td>\n",
       "      <td>49.363452</td>\n",
       "      <td>19468.823228</td>\n",
       "      <td>1.0</td>\n",
       "    </tr>\n",
       "    <tr>\n",
       "      <th>std</th>\n",
       "      <td>43.916853</td>\n",
       "      <td>308.031100</td>\n",
       "      <td>47.804457</td>\n",
       "      <td>10087.178654</td>\n",
       "      <td>0.0</td>\n",
       "    </tr>\n",
       "    <tr>\n",
       "      <th>min</th>\n",
       "      <td>0.000000</td>\n",
       "      <td>0.000000</td>\n",
       "      <td>0.000000</td>\n",
       "      <td>0.000000</td>\n",
       "      <td>1.0</td>\n",
       "    </tr>\n",
       "    <tr>\n",
       "      <th>25%</th>\n",
       "      <td>41.000000</td>\n",
       "      <td>276.030000</td>\n",
       "      <td>6.000000</td>\n",
       "      <td>11770.280000</td>\n",
       "      <td>1.0</td>\n",
       "    </tr>\n",
       "    <tr>\n",
       "      <th>50%</th>\n",
       "      <td>74.000000</td>\n",
       "      <td>502.550000</td>\n",
       "      <td>38.000000</td>\n",
       "      <td>19308.010000</td>\n",
       "      <td>1.0</td>\n",
       "    </tr>\n",
       "    <tr>\n",
       "      <th>75%</th>\n",
       "      <td>104.000000</td>\n",
       "      <td>730.050000</td>\n",
       "      <td>79.000000</td>\n",
       "      <td>26837.720000</td>\n",
       "      <td>1.0</td>\n",
       "    </tr>\n",
       "    <tr>\n",
       "      <th>max</th>\n",
       "      <td>244.000000</td>\n",
       "      <td>1632.060000</td>\n",
       "      <td>224.000000</td>\n",
       "      <td>49745.730000</td>\n",
       "      <td>1.0</td>\n",
       "    </tr>\n",
       "  </tbody>\n",
       "</table>\n",
       "</div>"
      ],
      "text/plain": [
       "            calls      minutes    messages       mb_used  is_ultra\n",
       "count  985.000000   985.000000  985.000000    985.000000     985.0\n",
       "mean    73.392893   511.224569   49.363452  19468.823228       1.0\n",
       "std     43.916853   308.031100   47.804457  10087.178654       0.0\n",
       "min      0.000000     0.000000    0.000000      0.000000       1.0\n",
       "25%     41.000000   276.030000    6.000000  11770.280000       1.0\n",
       "50%     74.000000   502.550000   38.000000  19308.010000       1.0\n",
       "75%    104.000000   730.050000   79.000000  26837.720000       1.0\n",
       "max    244.000000  1632.060000  224.000000  49745.730000       1.0"
      ]
     },
     "metadata": {},
     "output_type": "display_data"
    }
   ],
   "source": [
    "for group in data['is_ultra'].unique():\n",
    "    if group == 1:\n",
    "        result = 'Ultra'\n",
    "    else:\n",
    "        result = 'Legancy Plan'\n",
    "    print(\"Basic statistics for\",result,\"group\")\n",
    "    print(\"========================================================\")\n",
    "    display(data[data.is_ultra==group].describe())"
   ]
  },
  {
   "cell_type": "markdown",
   "metadata": {},
   "source": [
    "<div class=\"alert alert-success\">\n",
    "<b>Reviewer's comment</b>\n",
    "\n",
    "The data was loaded and inspected\n",
    "\n",
    "</div>"
   ]
  },
  {
   "cell_type": "markdown",
   "metadata": {},
   "source": [
    "## Split the source data into a training set, a validation set, and a test set."
   ]
  },
  {
   "cell_type": "markdown",
   "metadata": {},
   "source": [
    "* **Training Set**: Typically, this set constitutes about 60-80% of the data. It is used to train the machine learning model.\n",
    "* **Validation Set**: This set is often about 10-20% of the data and is used to fine-tune the model parameters and to provide an unbiased evaluation of a model fit during the training phase.\n",
    "* **Test Set**: This is also about 10-20% of the data, used to provide an unbiased evaluation of a final model fit."
   ]
  },
  {
   "cell_type": "code",
   "execution_count": 7,
   "metadata": {},
   "outputs": [
    {
     "data": {
      "text/plain": [
       "((2249, 4), (482, 4), (483, 4))"
      ]
     },
     "execution_count": 7,
     "metadata": {},
     "output_type": "execute_result"
    }
   ],
   "source": [
    "# Features and target\n",
    "X = data.drop('is_ultra', axis=1)\n",
    "y = data['is_ultra']\n",
    "\n",
    "# Splitting the data into training and remaining (validation + test)\n",
    "X_train, X_remaining, y_train, y_remaining = train_test_split(X, y, test_size=0.3, random_state=42)\n",
    "\n",
    "# Splitting the remaining data into validation and test sets\n",
    "X_valid, X_test, y_valid, y_test = train_test_split(X_remaining, y_remaining, test_size=0.5, random_state=42)\n",
    "\n",
    "# Verifying the sizes of each set\n",
    "X_train.shape, X_valid.shape, X_test.shape"
   ]
  },
  {
   "cell_type": "markdown",
   "metadata": {},
   "source": [
    "* *test_size=0.3* in the *first train_test_split* function call means that 30% of the data is reserved for testing and validation.\n",
    "* Then we split that 30% into two equal halves, giving 15% for validation and 15% for testing."
   ]
  },
  {
   "cell_type": "markdown",
   "metadata": {},
   "source": [
    "<div class=\"alert alert-success\">\n",
    "<b>Reviewer's comment</b>\n",
    "\n",
    "Data split is reasonable\n",
    "\n",
    "</div>"
   ]
  },
  {
   "cell_type": "markdown",
   "metadata": {},
   "source": [
    "## Investigate the quality of different models by changing hyperparameters"
   ]
  },
  {
   "cell_type": "markdown",
   "metadata": {},
   "source": [
    "### Decision Tree Classifier"
   ]
  },
  {
   "cell_type": "code",
   "execution_count": 8,
   "metadata": {},
   "outputs": [
    {
     "name": "stdout",
     "output_type": "stream",
     "text": [
      "(max_depth = 1): 0.7365145228215768\n",
      "(max_depth = 2): 0.7842323651452282\n",
      "(max_depth = 3): 0.8008298755186722\n",
      "(max_depth = 4): 0.8029045643153527\n"
     ]
    }
   ],
   "source": [
    "best_model = None\n",
    "best_accuracy = 0\n",
    "best_depth = 0\n",
    "\n",
    "for depth in range(1, 6):\n",
    "    model = DecisionTreeClassifier(max_depth=depth, random_state=42)\n",
    "    model.fit(X_train, y_train)\n",
    "    predictions_valid = model.predict(X_valid)\n",
    "    accuracy = accuracy_score(y_valid, predictions_valid)\n",
    "    if accuracy > best_accuracy:\n",
    "        best_model = model\n",
    "        best_accuracy = accuracy\n",
    "        best_depth = depth\n",
    "        print(f\"(max_depth = {best_depth}): {best_accuracy}\")"
   ]
  },
  {
   "cell_type": "code",
   "execution_count": 9,
   "metadata": {},
   "outputs": [
    {
     "name": "stdout",
     "output_type": "stream",
     "text": [
      "Accuracy of the best model on the validation set (max_depth = 4): 0.8029045643153527\n"
     ]
    }
   ],
   "source": [
    "print(f\"Accuracy of the best model on the validation set (max_depth = {best_depth}): {best_accuracy}\")"
   ]
  },
  {
   "cell_type": "markdown",
   "metadata": {},
   "source": [
    "### Random Forest Classifier"
   ]
  },
  {
   "cell_type": "code",
   "execution_count": 10,
   "metadata": {},
   "outputs": [
    {
     "name": "stdout",
     "output_type": "stream",
     "text": [
      "Accuracy: 0.7302904564315352 n_estimators: 10 best_depth: 1\n",
      "Accuracy: 0.7800829875518672 n_estimators: 10 best_depth: 2\n",
      "Accuracy: 0.7946058091286307 n_estimators: 10 best_depth: 3\n",
      "Accuracy: 0.8070539419087137 n_estimators: 10 best_depth: 4\n",
      "Accuracy: 0.8132780082987552 n_estimators: 10 best_depth: 6\n",
      "Accuracy: 0.8236514522821576 n_estimators: 10 best_depth: 8\n",
      "Accuracy: 0.8278008298755186 n_estimators: 20 best_depth: 10\n"
     ]
    }
   ],
   "source": [
    "best_model = None\n",
    "best_accuracy = 0\n",
    "best_est = 0\n",
    "best_depth = 0\n",
    "\n",
    "for est in range(10, 51, 10):\n",
    "    for depth in range(1, 11):\n",
    "        model = RandomForestClassifier(n_estimators=est, max_depth=depth, random_state=42)\n",
    "        model.fit(X_train, y_train)\n",
    "        predictions_valid = model.predict(X_valid)\n",
    "        accuracy = accuracy_score(y_valid, predictions_valid)\n",
    "        if accuracy > best_accuracy:\n",
    "            best_model = model\n",
    "            best_accuracy = accuracy\n",
    "            best_est = est\n",
    "            best_depth = depth\n",
    "            print(\"Accuracy:\", best_accuracy, \"n_estimators:\", best_est, \"best_depth:\", best_depth)"
   ]
  },
  {
   "cell_type": "code",
   "execution_count": 11,
   "metadata": {},
   "outputs": [
    {
     "name": "stdout",
     "output_type": "stream",
     "text": [
      "Accuracy of the best model on the validation set: 0.8278008298755186 n_estimators: 20 best_depth: 10\n"
     ]
    }
   ],
   "source": [
    "print(\"Accuracy of the best model on the validation set:\", best_accuracy, \"n_estimators:\", best_est, \"best_depth:\", best_depth)"
   ]
  },
  {
   "cell_type": "markdown",
   "metadata": {},
   "source": [
    "### Logistic Regression"
   ]
  },
  {
   "cell_type": "code",
   "execution_count": 12,
   "metadata": {},
   "outputs": [
    {
     "name": "stdout",
     "output_type": "stream",
     "text": [
      "Logistic regression training score: 0.7438861716318363\n"
     ]
    }
   ],
   "source": [
    "model = LogisticRegression(solver='liblinear')\n",
    "model.fit(X_train, y_train)\n",
    "score = model.score(X_train, y_train)\n",
    "print(\"Logistic regression training score:\", score)"
   ]
  },
  {
   "cell_type": "code",
   "execution_count": 13,
   "metadata": {},
   "outputs": [],
   "source": [
    "predictions_valid = model.predict(X_valid)                 \n",
    "accuracy = accuracy_score(y_valid, predictions_valid)"
   ]
  },
  {
   "cell_type": "code",
   "execution_count": 14,
   "metadata": {},
   "outputs": [
    {
     "name": "stdout",
     "output_type": "stream",
     "text": [
      "Logistic regression testing score: 0.7489626556016598\n"
     ]
    }
   ],
   "source": [
    "print(\"Logistic regression testing score:\", accuracy)"
   ]
  },
  {
   "cell_type": "markdown",
   "metadata": {},
   "source": [
    "Based on the findings of the study:\n",
    "\n",
    "1. **Decision Tree Classifier**: Achieved an accuracy of approximately 80.29% on the validation set with a maximum depth of 4. This model provides a reasonable level of accuracy, considering its simplicity and interpretability.\n",
    "\n",
    "2. **Random Forest Classifier**: Outperformed the Decision Tree Classifier with an accuracy of around 82.78% on the validation set. By combining multiple decision trees, the Random Forest Classifier improves predictive accuracy and robustness.\n",
    "\n",
    "3. **Logistic Regression**: Achieved a testing score of approximately 74.90%. Logistic regression is a simple yet effective linear model for binary classification tasks. While it has lower accuracy compared to the tree-based models, it is computationally efficient and interpretable.\n",
    "\n",
    "Overall, the study indicates that the **Random Forest Classifier** performed the best in terms of accuracy on the validation set, followed closely by the Decision Tree Classifier. Logistic regression, while simpler, still achieved a reasonable accuracy but fell short compared to the tree-based models."
   ]
  },
  {
   "cell_type": "markdown",
   "metadata": {},
   "source": [
    "<div class=\"alert alert-danger\">\n",
    "<s><b>Reviewer's comment</b>\n",
    "\n",
    "Great, you tried a couple of different models and did some hyperparameter tuning using the validation set.\n",
    "    \n",
    "There is a small problem however. Remember that we're working on a classification problem in this project, so you need to use classification models instead of regression models. And a classification metric like accuracy instead of a regression metric RMSE.\n",
    "\n",
    "</div>"
   ]
  },
  {
   "cell_type": "markdown",
   "metadata": {},
   "source": [
    "<div class=\"alert alert-danger\">\n",
    "<s><b>Reviewer's comment V2</b>\n",
    "\n",
    "Ok, now there are now two classification models, `DecisionTreeClassifier` and `RandomForestClassifier`, great! What's left is to replace `LinearRegression` (which is a regression model) with `LogisticRegression` (which is a classification model despite the unfortunate naming), remove all regression models and remove the conclusions about regression models.\n",
    "\n",
    "</div>"
   ]
  },
  {
   "cell_type": "markdown",
   "metadata": {},
   "source": [
    "<div class=\"alert alert-success\">\n",
    "<b>Reviewer's comment V3</b>\n",
    "\n",
    "All looks good now!\n",
    "\n",
    "</div>"
   ]
  },
  {
   "cell_type": "markdown",
   "metadata": {},
   "source": [
    "## Check the quality of the model using the test set."
   ]
  },
  {
   "cell_type": "markdown",
   "metadata": {},
   "source": [
    "<div class=\"alert alert-warning\">\n",
    "<b>Reviewer's comment</b>\n",
    "\n",
    "There's no need to redo hyperparameter tuning, you can just train the model using the best hyperparameters.\n",
    "\n",
    "</div>"
   ]
  },
  {
   "cell_type": "code",
   "execution_count": 15,
   "metadata": {},
   "outputs": [
    {
     "name": "stdout",
     "output_type": "stream",
     "text": [
      "Accuracy of the best model on the test set: 0.7846790890269151\n"
     ]
    }
   ],
   "source": [
    "threshold = 0.5\n",
    "predictions_test = best_model.predict(X_test)\n",
    "predictions_test_binary = [1 if pred >= threshold else 0 for pred in predictions_test]\n",
    "y_test_binary = [1 if true >= threshold else 0 for true in y_test]\n",
    "\n",
    "test_accuracy = accuracy_score(y_test_binary, predictions_test_binary)\n",
    "\n",
    "print(\"Accuracy of the best model on the test set:\", test_accuracy)"
   ]
  },
  {
   "cell_type": "markdown",
   "metadata": {},
   "source": [
    "<div class=\"alert alert-danger\">\n",
    "<s><b>Reviewer's comment</b>\n",
    "\n",
    "The final model was evaluated on the test set, but you also need to use accuracy instead of RMSE here\n",
    "\n",
    "</div>"
   ]
  },
  {
   "cell_type": "markdown",
   "metadata": {},
   "source": [
    "<div class=\"alert alert-danger\">\n",
    "<s><b>Reviewer's comment V2</b>\n",
    "\n",
    "RMSE should be removed entirely, it is not a regression task\n",
    "\n",
    "</div>"
   ]
  },
  {
   "cell_type": "markdown",
   "metadata": {},
   "source": [
    "<div class=\"alert alert-success\">\n",
    "<b>Reviewer's comment V3</b>\n",
    "\n",
    "Great!\n",
    "\n",
    "</div>"
   ]
  },
  {
   "cell_type": "markdown",
   "metadata": {},
   "source": [
    "<div class=\"alert alert-danger\">\n",
    "<S><b>Reviewer's comment</b>\n",
    "\n",
    "Please revise the conclusions after fixing the problems above\n",
    "\n",
    "</div>"
   ]
  },
  {
   "cell_type": "markdown",
   "metadata": {},
   "source": [
    "1. **Model Performance**: The selected model, which was identified as the best during the training and validation phases, achieved a decent accuracy of around 78.46% on the unseen test data.\n",
    "\n",
    "2. **Generalization**: The performance of the model on the test set indicates that it generalizes reasonably well to new, unseen data. This suggests that the model has learned patterns in the training data that are applicable to similar data instances in the test set.\n",
    "\n",
    "3. **Applicability**: The accuracy achieved by the model on the test set should be considered in the context of the specific problem domain and the requirements of the application. Depending on the application, this level of accuracy might be satisfactory or may require further improvement.\n",
    "\n",
    "4. **Future Steps**: Further analysis could involve investigating potential areas for model improvement, such as feature engineering, hyperparameter tuning, or exploring different algorithms. Additionally, monitoring the model's performance over time and retraining it with updated data can help maintain its effectiveness."
   ]
  },
  {
   "cell_type": "markdown",
   "metadata": {},
   "source": [
    "<div class=\"alert alert-success\">\n",
    "<b>Reviewer's comment V2</b>\n",
    "\n",
    "Good points!\n",
    "\n",
    "</div>"
   ]
  }
 ],
 "metadata": {
  "kernelspec": {
   "display_name": "Python 3 (ipykernel)",
   "language": "python",
   "name": "python3"
  },
  "language_info": {
   "codemirror_mode": {
    "name": "ipython",
    "version": 3
   },
   "file_extension": ".py",
   "mimetype": "text/x-python",
   "name": "python",
   "nbconvert_exporter": "python",
   "pygments_lexer": "ipython3",
   "version": "3.9.19"
  },
  "toc": {
   "base_numbering": 1,
   "nav_menu": {},
   "number_sections": true,
   "sideBar": true,
   "skip_h1_title": true,
   "title_cell": "Table of Contents",
   "title_sidebar": "Contents",
   "toc_cell": false,
   "toc_position": {},
   "toc_section_display": true,
   "toc_window_display": false
  }
 },
 "nbformat": 4,
 "nbformat_minor": 2
}

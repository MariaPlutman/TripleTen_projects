{
 "cells": [
  {
   "cell_type": "markdown",
   "metadata": {},
   "source": [
    "# Description of the data"
   ]
  },
  {
   "cell_type": "markdown",
   "metadata": {},
   "source": [
    "**Data used in the first part of the project**\n",
    "\n",
    "*/datasets/hypotheses_us.csv*\n",
    "\n",
    "* *Hypotheses* — brief descriptions of the hypotheses\n",
    "* *Reach* — user reach, on a scale of one to ten\n",
    "* *Impact* — impact on users, on a scale of one to ten\n",
    "* *Confidence* — confidence in the hypothesis, on a scale of one to ten\n",
    "* *Effort* — the resources required to test a hypothesis, on a scale of one to ten. The higher the Effort value, the more resource-intensive the test.\n",
    "\n",
    "**Data used in the second part of the project**\n",
    "\n",
    "*/datasets/orders_us.csv*\n",
    "\n",
    "* *transactionId* — order identifier\n",
    "* *visitorId* — identifier of the user who placed the order\n",
    "* *date* — of the order\n",
    "* *revenue* — from the order\n",
    "* *group* — the A/B test group that the user belongs to\n",
    "\n",
    "*/datasets/visits_us.csv*\n",
    "\n",
    "* *date* — date\n",
    "* *group* — A/B test group\n",
    "* *visits* — the number of visits on the date specified in the A/B test group specified"
   ]
  },
  {
   "cell_type": "markdown",
   "metadata": {},
   "source": [
    "## Download the data and prepare it for analysis"
   ]
  },
  {
   "cell_type": "code",
   "execution_count": 1,
   "metadata": {},
   "outputs": [],
   "source": [
    "import pandas as pd\n",
    "import matplotlib.pyplot as plt\n",
    "import numpy as np\n",
    "from scipy import stats"
   ]
  },
  {
   "cell_type": "code",
   "execution_count": 2,
   "metadata": {},
   "outputs": [],
   "source": [
    "hypotheses = pd.read_csv('/datasets/hypotheses_us.csv')\n",
    "orders = pd.read_csv('/datasets/orders_us.csv')\n",
    "visits = pd.read_csv('/datasets/visits_us.csv')"
   ]
  },
  {
   "cell_type": "code",
   "execution_count": 3,
   "metadata": {},
   "outputs": [],
   "source": [
    "merged_data = pd.merge(orders, visits, on=['date', 'group'])"
   ]
  },
  {
   "cell_type": "code",
   "execution_count": 4,
   "metadata": {},
   "outputs": [
    {
     "name": "stdout",
     "output_type": "stream",
     "text": [
      "<class 'pandas.core.frame.DataFrame'>\n",
      "RangeIndex: 9 entries, 0 to 8\n",
      "Data columns (total 1 columns):\n",
      " #   Column                                     Non-Null Count  Dtype \n",
      "---  ------                                     --------------  ----- \n",
      " 0   Hypothesis;Reach;Impact;Confidence;Effort  9 non-null      object\n",
      "dtypes: object(1)\n",
      "memory usage: 200.0+ bytes\n"
     ]
    }
   ],
   "source": [
    "hypotheses.info()"
   ]
  },
  {
   "cell_type": "code",
   "execution_count": 5,
   "metadata": {},
   "outputs": [
    {
     "name": "stdout",
     "output_type": "stream",
     "text": [
      "                                          Hypothesis  Reach  Impact  \\\n",
      "0  Add two new channels for attracting traffic. T...      3      10   \n",
      "1  Launch your own delivery service. This will sh...      2       5   \n",
      "2  Add product recommendation blocks to the store...      8       3   \n",
      "3  Change the category structure. This will incre...      8       3   \n",
      "4  Change the background color on the main page. ...      3       1   \n",
      "5  Add a customer review page. This will increase...      3       2   \n",
      "6  Show banners with current offers and sales on ...      5       3   \n",
      "7  Add a subscription form to all the main pages....     10       7   \n",
      "8  Launch a promotion that gives users discounts ...      1       9   \n",
      "\n",
      "   Confidence  Effort  \n",
      "0           8       6  \n",
      "1           4      10  \n",
      "2           7       3  \n",
      "3           3       8  \n",
      "4           1       1  \n",
      "5           2       3  \n",
      "6           8       3  \n",
      "7           8       5  \n",
      "8           9       5  \n"
     ]
    }
   ],
   "source": [
    "hypotheses = pd.read_csv('/datasets/hypotheses_us.csv', sep=';')\n",
    "\n",
    "print(hypotheses)"
   ]
  },
  {
   "cell_type": "code",
   "execution_count": 6,
   "metadata": {},
   "outputs": [
    {
     "name": "stdout",
     "output_type": "stream",
     "text": [
      "<class 'pandas.core.frame.DataFrame'>\n",
      "RangeIndex: 9 entries, 0 to 8\n",
      "Data columns (total 5 columns):\n",
      " #   Column      Non-Null Count  Dtype \n",
      "---  ------      --------------  ----- \n",
      " 0   Hypothesis  9 non-null      object\n",
      " 1   Reach       9 non-null      int64 \n",
      " 2   Impact      9 non-null      int64 \n",
      " 3   Confidence  9 non-null      int64 \n",
      " 4   Effort      9 non-null      int64 \n",
      "dtypes: int64(4), object(1)\n",
      "memory usage: 488.0+ bytes\n"
     ]
    }
   ],
   "source": [
    "hypotheses.info()"
   ]
  },
  {
   "cell_type": "markdown",
   "metadata": {},
   "source": [
    "## Part 1. Prioritizing Hypotheses"
   ]
  },
  {
   "cell_type": "markdown",
   "metadata": {},
   "source": [
    "* Apply the ICE framework to prioritize hypotheses. Sort them in descending order of priority."
   ]
  },
  {
   "cell_type": "code",
   "execution_count": 7,
   "metadata": {},
   "outputs": [
    {
     "name": "stdout",
     "output_type": "stream",
     "text": [
      "                                                                                            Hypothesis  \\\n",
      "8                                     Launch a promotion that gives users discounts on their birthdays   \n",
      "0                          Add two new channels for attracting traffic. This will bring 30% more users   \n",
      "7             Add a subscription form to all the main pages. This will help you compile a mailing list   \n",
      "6              Show banners with current offers and sales on the main page. This will boost conversion   \n",
      "2  Add product recommendation blocks to the store's site. This will increase conversion and average...   \n",
      "1                                    Launch your own delivery service. This will shorten delivery time   \n",
      "5                                  Add a customer review page. This will increase the number of orders   \n",
      "3  Change the category structure. This will increase conversion since users will find the products ...   \n",
      "4                     Change the background color on the main page. This will increase user engagement   \n",
      "\n",
      "    ICE  \n",
      "8  16.2  \n",
      "0  13.3  \n",
      "7  11.2  \n",
      "6   8.0  \n",
      "2   7.0  \n",
      "1   2.0  \n",
      "5   1.3  \n",
      "3   1.1  \n",
      "4   1.0  \n"
     ]
    }
   ],
   "source": [
    "hypotheses['ICE'] = hypotheses['Impact'] * hypotheses['Confidence'] / hypotheses['Effort']\n",
    "\n",
    "columns = ['Hypothesis','ICE']\n",
    "\n",
    "pd.options.display.max_colwidth = 100\n",
    "\n",
    "print(hypotheses[columns].sort_values(by='ICE', ascending=False).round(1))"
   ]
  },
  {
   "cell_type": "markdown",
   "metadata": {},
   "source": [
    "* Apply the RICE framework to prioritize hypotheses. Sort them in descending order of priority."
   ]
  },
  {
   "cell_type": "code",
   "execution_count": 8,
   "metadata": {},
   "outputs": [
    {
     "name": "stdout",
     "output_type": "stream",
     "text": [
      "                                                                                            Hypothesis  \\\n",
      "7             Add a subscription form to all the main pages. This will help you compile a mailing list   \n",
      "2  Add product recommendation blocks to the store's site. This will increase conversion and average...   \n",
      "0                          Add two new channels for attracting traffic. This will bring 30% more users   \n",
      "6              Show banners with current offers and sales on the main page. This will boost conversion   \n",
      "8                                     Launch a promotion that gives users discounts on their birthdays   \n",
      "3  Change the category structure. This will increase conversion since users will find the products ...   \n",
      "1                                    Launch your own delivery service. This will shorten delivery time   \n",
      "5                                  Add a customer review page. This will increase the number of orders   \n",
      "4                     Change the background color on the main page. This will increase user engagement   \n",
      "\n",
      "    RICE  \n",
      "7  112.0  \n",
      "2   56.0  \n",
      "0   40.0  \n",
      "6   40.0  \n",
      "8   16.2  \n",
      "3    9.0  \n",
      "1    4.0  \n",
      "5    4.0  \n",
      "4    3.0  \n"
     ]
    }
   ],
   "source": [
    "hypotheses['RICE'] = (hypotheses['Reach'] * hypotheses['Impact'] * hypotheses['Confidence']) / hypotheses['Effort']\n",
    "\n",
    "columns = ['Hypothesis','RICE']\n",
    "\n",
    "print(hypotheses[columns].sort_values(by='RICE', ascending=False))"
   ]
  },
  {
   "cell_type": "markdown",
   "metadata": {},
   "source": [
    "* Show how the prioritization of hypotheses changes when you use RICE instead of ICE. Provide an explanation for the changes."
   ]
  },
  {
   "cell_type": "markdown",
   "metadata": {},
   "source": [
    "When comparing the prioritization of hypotheses using RICE instead of ICE, we consider the additional factor of reach. RICE takes into account Reach, Impact, Confidence, and Effort, whereas ICE only considers Impact, Confidence, and Effort. Here's how the prioritization changes:\n",
    "\n",
    "1. **Add a subscription form to all the main pages**: This hypothesis significantly jumps to the top of the list when using RICE. This is because adding a subscription form to all main pages has a high potential reach, as it affects all visitors to the site. Additionally, the impact and confidence levels might also be high, leading to a higher RICE score.\n",
    "\n",
    "2. **Add product recommendation blocks to the store**: This hypothesis remains high on the list, as it still has a significant potential reach and impact. It involves modifying the store's layout to recommend products to customers, potentially increasing sales.\n",
    "\n",
    "3. **Add two new channels for attracting traffic**: This hypothesis also remains relatively high but drops a bit compared to ICE. Although it still has a decent reach and impact, other hypotheses surpass it due to their potential reach and impact.\n",
    "\n",
    "4. **Show banners with current offers and sales on the main page**: Similar to the previous one, this hypothesis maintains its position, but drops a bit compared to ICE due to other hypotheses having a potentially higher reach and impact.\n",
    "\n",
    "5. **Launch a promotion that gives users discounts**: This hypothesis drops significantly when considering RICE. While it has a high impact, it may have limited reach compared to other hypotheses that can affect a wider audience.\n",
    "\n",
    "6. **Change the category structure**: This hypothesis remains relatively low, as it might have limited reach and impact compared to others, and could potentially require significant effort to implement.\n",
    "\n",
    "7. **Launch your own delivery service**: This hypothesis remains low, primarily due to its potentially limited reach and high effort requirement. It might not have as significant an impact on the overall business compared to other hypotheses.\n",
    "\n",
    "8. **Add a customer review page**: This hypothesis also remains low, as its reach might not be as extensive, and the impact could be variable depending on the nature of the reviews.\n",
    "\n",
    "**In summary**, the prioritization changes when using RICE instead of ICE because RICE considers the potential reach of each hypothesis, which can significantly influence its overall impact on the business. Hence, hypotheses with higher potential reach tend to rank higher in the prioritization when using RICE."
   ]
  },
  {
   "cell_type": "markdown",
   "metadata": {},
   "source": [
    "## Part 2. A/B Test Analysis"
   ]
  },
  {
   "cell_type": "code",
   "execution_count": 9,
   "metadata": {},
   "outputs": [
    {
     "name": "stdout",
     "output_type": "stream",
     "text": [
      "<class 'pandas.core.frame.DataFrame'>\n",
      "RangeIndex: 1197 entries, 0 to 1196\n",
      "Data columns (total 5 columns):\n",
      " #   Column         Non-Null Count  Dtype  \n",
      "---  ------         --------------  -----  \n",
      " 0   transactionId  1197 non-null   int64  \n",
      " 1   visitorId      1197 non-null   int64  \n",
      " 2   date           1197 non-null   object \n",
      " 3   revenue        1197 non-null   float64\n",
      " 4   group          1197 non-null   object \n",
      "dtypes: float64(1), int64(2), object(2)\n",
      "memory usage: 46.9+ KB\n"
     ]
    }
   ],
   "source": [
    "orders.info()"
   ]
  },
  {
   "cell_type": "code",
   "execution_count": 10,
   "metadata": {},
   "outputs": [
    {
     "name": "stdout",
     "output_type": "stream",
     "text": [
      "Duplicates found in group A.\n",
      "Duplicates found in group B.\n"
     ]
    }
   ],
   "source": [
    "# Check for duplicates within group A\n",
    "duplicates_in_group_A = orders[orders['group'] == 'A']['visitorId'].duplicated().any()\n",
    "\n",
    "# Check for duplicates within group B\n",
    "duplicates_in_group_B = orders[orders['group'] == 'B']['visitorId'].duplicated().any()\n",
    "\n",
    "# Print the results\n",
    "if duplicates_in_group_A:\n",
    "    print(\"Duplicates found in group A.\")\n",
    "else:\n",
    "    print(\"No duplicates found in group A.\")\n",
    "\n",
    "if duplicates_in_group_B:\n",
    "    print(\"Duplicates found in group B.\")\n",
    "else:\n",
    "    print(\"No duplicates found in group B.\")"
   ]
  },
  {
   "cell_type": "code",
   "execution_count": 11,
   "metadata": {},
   "outputs": [
    {
     "name": "stdout",
     "output_type": "stream",
     "text": [
      "Visitors in both groups:\n"
     ]
    },
    {
     "data": {
      "text/html": [
       "<div>\n",
       "<style scoped>\n",
       "    .dataframe tbody tr th:only-of-type {\n",
       "        vertical-align: middle;\n",
       "    }\n",
       "\n",
       "    .dataframe tbody tr th {\n",
       "        vertical-align: top;\n",
       "    }\n",
       "\n",
       "    .dataframe thead th {\n",
       "        text-align: right;\n",
       "    }\n",
       "</style>\n",
       "<table border=\"1\" class=\"dataframe\">\n",
       "  <thead>\n",
       "    <tr style=\"text-align: right;\">\n",
       "      <th>group</th>\n",
       "      <th>A</th>\n",
       "      <th>B</th>\n",
       "    </tr>\n",
       "    <tr>\n",
       "      <th>visitorId</th>\n",
       "      <th></th>\n",
       "      <th></th>\n",
       "    </tr>\n",
       "  </thead>\n",
       "  <tbody>\n",
       "    <tr>\n",
       "      <th>8300375</th>\n",
       "      <td>1</td>\n",
       "      <td>1</td>\n",
       "    </tr>\n",
       "    <tr>\n",
       "      <th>199603092</th>\n",
       "      <td>4</td>\n",
       "      <td>1</td>\n",
       "    </tr>\n",
       "    <tr>\n",
       "      <th>232979603</th>\n",
       "      <td>1</td>\n",
       "      <td>1</td>\n",
       "    </tr>\n",
       "    <tr>\n",
       "      <th>237748145</th>\n",
       "      <td>4</td>\n",
       "      <td>1</td>\n",
       "    </tr>\n",
       "    <tr>\n",
       "      <th>276558944</th>\n",
       "      <td>1</td>\n",
       "      <td>1</td>\n",
       "    </tr>\n",
       "    <tr>\n",
       "      <th>351125977</th>\n",
       "      <td>1</td>\n",
       "      <td>1</td>\n",
       "    </tr>\n",
       "    <tr>\n",
       "      <th>393266494</th>\n",
       "      <td>1</td>\n",
       "      <td>2</td>\n",
       "    </tr>\n",
       "    <tr>\n",
       "      <th>457167155</th>\n",
       "      <td>1</td>\n",
       "      <td>3</td>\n",
       "    </tr>\n",
       "    <tr>\n",
       "      <th>471551937</th>\n",
       "      <td>1</td>\n",
       "      <td>1</td>\n",
       "    </tr>\n",
       "    <tr>\n",
       "      <th>477780734</th>\n",
       "      <td>1</td>\n",
       "      <td>1</td>\n",
       "    </tr>\n",
       "  </tbody>\n",
       "</table>\n",
       "</div>"
      ],
      "text/plain": [
       "group      A  B\n",
       "visitorId      \n",
       "8300375    1  1\n",
       "199603092  4  1\n",
       "232979603  1  1\n",
       "237748145  4  1\n",
       "276558944  1  1\n",
       "351125977  1  1\n",
       "393266494  1  2\n",
       "457167155  1  3\n",
       "471551937  1  1\n",
       "477780734  1  1"
      ]
     },
     "execution_count": 11,
     "metadata": {},
     "output_type": "execute_result"
    }
   ],
   "source": [
    "# Group orders by 'visitorId' and 'group', count occurrences\n",
    "visitor_group_counts = orders.groupby(['visitorId', 'group']).size().unstack(fill_value=0)\n",
    "\n",
    "# Check for visitors in both groups\n",
    "visitors_in_both_groups = visitor_group_counts[(visitor_group_counts['A'] > 0) & (visitor_group_counts['B'] > 0)]\n",
    "\n",
    "# Print visitors in both groups\n",
    "print(\"Visitors in both groups:\")\n",
    "visitors_in_both_groups.head(10)"
   ]
  },
  {
   "cell_type": "code",
   "execution_count": 12,
   "metadata": {},
   "outputs": [
    {
     "name": "stdout",
     "output_type": "stream",
     "text": [
      "DataFrame after removing visitors assigned to multiple groups:\n"
     ]
    },
    {
     "data": {
      "text/html": [
       "<div>\n",
       "<style scoped>\n",
       "    .dataframe tbody tr th:only-of-type {\n",
       "        vertical-align: middle;\n",
       "    }\n",
       "\n",
       "    .dataframe tbody tr th {\n",
       "        vertical-align: top;\n",
       "    }\n",
       "\n",
       "    .dataframe thead th {\n",
       "        text-align: right;\n",
       "    }\n",
       "</style>\n",
       "<table border=\"1\" class=\"dataframe\">\n",
       "  <thead>\n",
       "    <tr style=\"text-align: right;\">\n",
       "      <th></th>\n",
       "      <th>transactionId</th>\n",
       "      <th>visitorId</th>\n",
       "      <th>date</th>\n",
       "      <th>revenue</th>\n",
       "      <th>group</th>\n",
       "    </tr>\n",
       "  </thead>\n",
       "  <tbody>\n",
       "    <tr>\n",
       "      <th>0</th>\n",
       "      <td>3667963787</td>\n",
       "      <td>3312258926</td>\n",
       "      <td>2019-08-15</td>\n",
       "      <td>30.4</td>\n",
       "      <td>B</td>\n",
       "    </tr>\n",
       "    <tr>\n",
       "      <th>1</th>\n",
       "      <td>2804400009</td>\n",
       "      <td>3642806036</td>\n",
       "      <td>2019-08-15</td>\n",
       "      <td>15.2</td>\n",
       "      <td>B</td>\n",
       "    </tr>\n",
       "    <tr>\n",
       "      <th>2</th>\n",
       "      <td>2961555356</td>\n",
       "      <td>4069496402</td>\n",
       "      <td>2019-08-15</td>\n",
       "      <td>10.2</td>\n",
       "      <td>A</td>\n",
       "    </tr>\n",
       "    <tr>\n",
       "      <th>3</th>\n",
       "      <td>3797467345</td>\n",
       "      <td>1196621759</td>\n",
       "      <td>2019-08-15</td>\n",
       "      <td>155.1</td>\n",
       "      <td>B</td>\n",
       "    </tr>\n",
       "    <tr>\n",
       "      <th>4</th>\n",
       "      <td>2282983706</td>\n",
       "      <td>2322279887</td>\n",
       "      <td>2019-08-15</td>\n",
       "      <td>40.5</td>\n",
       "      <td>B</td>\n",
       "    </tr>\n",
       "    <tr>\n",
       "      <th>5</th>\n",
       "      <td>182168103</td>\n",
       "      <td>935554773</td>\n",
       "      <td>2019-08-15</td>\n",
       "      <td>35.0</td>\n",
       "      <td>B</td>\n",
       "    </tr>\n",
       "    <tr>\n",
       "      <th>6</th>\n",
       "      <td>398296753</td>\n",
       "      <td>2900797465</td>\n",
       "      <td>2019-08-15</td>\n",
       "      <td>30.6</td>\n",
       "      <td>B</td>\n",
       "    </tr>\n",
       "    <tr>\n",
       "      <th>7</th>\n",
       "      <td>2626614568</td>\n",
       "      <td>78758296</td>\n",
       "      <td>2019-08-15</td>\n",
       "      <td>20.1</td>\n",
       "      <td>A</td>\n",
       "    </tr>\n",
       "    <tr>\n",
       "      <th>8</th>\n",
       "      <td>1576988021</td>\n",
       "      <td>295230930</td>\n",
       "      <td>2019-08-15</td>\n",
       "      <td>215.9</td>\n",
       "      <td>A</td>\n",
       "    </tr>\n",
       "    <tr>\n",
       "      <th>9</th>\n",
       "      <td>1506739906</td>\n",
       "      <td>1882260405</td>\n",
       "      <td>2019-08-15</td>\n",
       "      <td>30.5</td>\n",
       "      <td>B</td>\n",
       "    </tr>\n",
       "  </tbody>\n",
       "</table>\n",
       "</div>"
      ],
      "text/plain": [
       "   transactionId   visitorId        date  revenue group\n",
       "0     3667963787  3312258926  2019-08-15     30.4     B\n",
       "1     2804400009  3642806036  2019-08-15     15.2     B\n",
       "2     2961555356  4069496402  2019-08-15     10.2     A\n",
       "3     3797467345  1196621759  2019-08-15    155.1     B\n",
       "4     2282983706  2322279887  2019-08-15     40.5     B\n",
       "5      182168103   935554773  2019-08-15     35.0     B\n",
       "6      398296753  2900797465  2019-08-15     30.6     B\n",
       "7     2626614568    78758296  2019-08-15     20.1     A\n",
       "8     1576988021   295230930  2019-08-15    215.9     A\n",
       "9     1506739906  1882260405  2019-08-15     30.5     B"
      ]
     },
     "execution_count": 12,
     "metadata": {},
     "output_type": "execute_result"
    }
   ],
   "source": [
    "# Identify duplicate visitors who appear in multiple groups\n",
    "duplicate_visitors = orders[orders.duplicated(subset=['visitorId'], keep=False)]\n",
    "\n",
    "# Decide which group to keep the visitor in (e.g., choose the first group)\n",
    "duplicate_visitors_to_remove = duplicate_visitors.sort_values(by=['visitorId', 'group']).drop_duplicates(subset=['visitorId'], keep='last')\n",
    "\n",
    "# Remove the duplicate entries for visitors who appear in multiple groups except for the chosen group\n",
    "orders_cleaned = orders.drop(duplicate_visitors_to_remove.index)\n",
    "\n",
    "# Print the cleaned DataFrame\n",
    "print(\"DataFrame after removing visitors assigned to multiple groups:\")\n",
    "orders_cleaned.head(10)"
   ]
  },
  {
   "cell_type": "code",
   "execution_count": 13,
   "metadata": {},
   "outputs": [
    {
     "name": "stdout",
     "output_type": "stream",
     "text": [
      "<class 'pandas.core.frame.DataFrame'>\n",
      "RangeIndex: 62 entries, 0 to 61\n",
      "Data columns (total 3 columns):\n",
      " #   Column  Non-Null Count  Dtype \n",
      "---  ------  --------------  ----- \n",
      " 0   date    62 non-null     object\n",
      " 1   group   62 non-null     object\n",
      " 2   visits  62 non-null     int64 \n",
      "dtypes: int64(1), object(2)\n",
      "memory usage: 1.6+ KB\n"
     ]
    }
   ],
   "source": [
    "visits.info()"
   ]
  },
  {
   "cell_type": "markdown",
   "metadata": {},
   "source": [
    "### Graph cumulative revenue by group. Make conclusions and conjectures."
   ]
  },
  {
   "cell_type": "code",
   "execution_count": 14,
   "metadata": {},
   "outputs": [],
   "source": [
    "# building an array with unique paired date-group values \n",
    "datesGroups = orders[['date','group']].drop_duplicates()"
   ]
  },
  {
   "cell_type": "code",
   "execution_count": 15,
   "metadata": {},
   "outputs": [],
   "source": [
    "# getting aggregated cumulative daily data on orders \n",
    "ordersAggregated = datesGroups.apply(lambda x: orders[np.logical_and(orders['date'] <= x['date'], orders['group'] == x['group'])].agg({'date' : 'max', 'group' : 'max', 'transactionId' : pd.Series.nunique, 'visitorId' : pd.Series.nunique, 'revenue' : 'sum'}), axis=1).sort_values(by=['date','group'])"
   ]
  },
  {
   "cell_type": "markdown",
   "metadata": {},
   "source": [
    "With this code, it's as if we've been calculating the results of our test every day up to the current date and storing them in the rows of the ordersAggregated table. \n",
    "\n",
    "Let's do something similar to get the aggregated cumulative daily data on visitors:"
   ]
  },
  {
   "cell_type": "code",
   "execution_count": 16,
   "metadata": {},
   "outputs": [],
   "source": [
    "# getting aggregated cumulative daily data on visitors  \n",
    "visitorsAggregated = datesGroups.apply(lambda x: visits[np.logical_and(visits['date'] <= x['date'], visits['group'] == x['group'])].agg({'date' : 'max', 'group' : 'max', 'visits' : 'sum'}), axis=1).sort_values(by=['date','group'])"
   ]
  },
  {
   "cell_type": "markdown",
   "metadata": {},
   "source": [
    "We merge the two tables into one and give its columns descriptive names:"
   ]
  },
  {
   "cell_type": "code",
   "execution_count": 17,
   "metadata": {},
   "outputs": [
    {
     "name": "stdout",
     "output_type": "stream",
     "text": [
      "         date group  orders  buyers  revenue  visitors\n",
      "0  2019-08-01     A      24      20   2356.8       719\n",
      "1  2019-08-01     B      21      20   1620.0       713\n",
      "2  2019-08-02     A      44      38   3860.3      1338\n",
      "3  2019-08-02     B      45      43   4243.8      1294\n",
      "4  2019-08-03     A      68      62   5675.5      1845\n"
     ]
    }
   ],
   "source": [
    "# merging the two tables into one and giving its columns descriptive names\n",
    "cumulativeData = ordersAggregated.merge(visitorsAggregated, left_on=['date', 'group'], right_on=['date', 'group'])\n",
    "cumulativeData.columns = ['date', 'group', 'orders', 'buyers', 'revenue', 'visitors']\n",
    "\n",
    "print(cumulativeData.head(5))"
   ]
  },
  {
   "cell_type": "code",
   "execution_count": 18,
   "metadata": {},
   "outputs": [
    {
     "data": {
      "text/plain": [
       "<matplotlib.legend.Legend at 0x7f56ab17f2b0>"
      ]
     },
     "execution_count": 18,
     "metadata": {},
     "output_type": "execute_result"
    },
    {
     "data": {
      "image/png": "[encoded data removed]",
      "text/plain": [
       "<Figure size 720x432 with 1 Axes>"
      ]
     },
     "metadata": {
      "needs_background": "light"
     },
     "output_type": "display_data"
    }
   ],
   "source": [
    "# Set the size of the figure\n",
    "plt.figure(figsize=(10, 6))\n",
    "\n",
    "# DataFrame with cumulative orders and cumulative revenue by day, group A\n",
    "cumulativeRevenueA = cumulativeData[cumulativeData['group']=='A'][['date','revenue', 'orders']]\n",
    "\n",
    "# DataFrame with cumulative orders and cumulative revenue by day, group B\n",
    "cumulativeRevenueB = cumulativeData[cumulativeData['group']=='B'][['date','revenue', 'orders']]\n",
    "\n",
    "# Plotting the group A revenue graph \n",
    "plt.plot(cumulativeRevenueA['date'], cumulativeRevenueA['revenue'], label='A')\n",
    "\n",
    "# Plotting the group B revenue graph \n",
    "plt.plot(cumulativeRevenueB['date'], cumulativeRevenueB['revenue'], label='B')\n",
    "\n",
    "# Set the frequency of x-axis tick labels\n",
    "plt.xticks(cumulativeRevenueA['date'][::4])  # Show every 4th date\n",
    "\n",
    "plt.xlabel('Date')\n",
    "plt.ylabel('Revenue')\n",
    "plt.title('Cumulative revenue by group')\n",
    "\n",
    "plt.legend()"
   ]
  },
  {
   "cell_type": "markdown",
   "metadata": {},
   "source": [
    "**Here are a few observations and conjectures based on the graph:**\n",
    "\n",
    "1. **Overall Trend**: Both groups A and B show an increasing trend in cumulative revenue over time, which suggests growth in earnings for both groups.\n",
    "\n",
    "2. **Growth Rate**: Initially, the cumulative revenue of group A and B seems to grow at a similar rate. However, after a certain point in time, group B's revenue growth accelerates significantly compared to group A, indicating a possible strategic advantage or a successful campaign or product launch that boosted B's earnings.\n",
    "\n",
    "3. **Revenue Dips**: Group B experiences some dips where the revenue does not increase and actually slightly decreases at certain points. This could be due to seasonal fluctuations, customer refunds, or accounting adjustments.\n",
    "\n",
    "4. **Comparison**: By the end of the time period shown, group B has a higher cumulative revenue than group A, even though it started at a similar level and experienced some decreases along the way. This suggests that group B’s strategy or market appeal has been more successful overall.\n",
    "\n",
    "**Conjectures:**\n",
    "\n",
    "- Group B could be implementing more effective marketing strategies or may have expanded its market reach.\n",
    "- Group A has a steadier growth, which may indicate a more conservative approach or possibly a more saturated market.\n",
    "- The sharp increases in group B's revenue could correspond to specific successful product launches or seasonal peaks.\n",
    "- The dips in group B's revenue could suggest that while their highs are higher, they may also be facing greater volatility or risk in their revenue streams.\n"
   ]
  },
  {
   "cell_type": "markdown",
   "metadata": {},
   "source": [
    "### Graph cumulative average order size by group. Make conclusions and conjectures."
   ]
  },
  {
   "cell_type": "markdown",
   "metadata": {},
   "source": [
    "Let's plot average order size by group. We'll divide cumulative revenue by the cumulative number of orders:"
   ]
  },
  {
   "cell_type": "code",
   "execution_count": 19,
   "metadata": {},
   "outputs": [
    {
     "data": {
      "text/plain": [
       "<matplotlib.legend.Legend at 0x7f56a3147d00>"
      ]
     },
     "execution_count": 19,
     "metadata": {},
     "output_type": "execute_result"
    },
    {
     "data": {
      "image/png": "[encoded data removed]",
      "text/plain": [
       "<Figure size 720x432 with 1 Axes>"
      ]
     },
     "metadata": {
      "needs_background": "light"
     },
     "output_type": "display_data"
    }
   ],
   "source": [
    "# Set the size of the figure\n",
    "plt.figure(figsize=(10, 6))\n",
    "\n",
    "plt.plot(cumulativeRevenueA['date'], cumulativeRevenueA['revenue']/cumulativeRevenueA['orders'], label='A')\n",
    "plt.plot(cumulativeRevenueB['date'], cumulativeRevenueB['revenue']/cumulativeRevenueB['orders'], label='B')\n",
    "\n",
    "# Set the frequency of x-axis tick labels\n",
    "plt.xticks(cumulativeRevenueA['date'][::4])  # Show every 4th date\n",
    "\n",
    "plt.xlabel('Date')\n",
    "plt.ylabel('Average order size')\n",
    "plt.title('Cumulative average order size by group')\n",
    "\n",
    "plt.legend()"
   ]
  },
  {
   "cell_type": "markdown",
   "metadata": {},
   "source": [
    "The graph appears to represent the cumulative average order size over a month for two groups, A and B. From the data, we can infer the following:\n",
    "\n",
    "1. **Variability**: Both groups show variability in average order size over the month, with several peaks and troughs. This could indicate that there are factors influencing purchase sizes that vary over time—perhaps due to promotional events, inventory changes, or external market factors.\n",
    "\n",
    "2. **Significant Increase for Group B**: There is a sharp increase in Group B's average order size around the third week of August. This could be the result of a successful marketing campaign, the release of a high-demand product, or perhaps bulk purchasing by customers.\n",
    "\n",
    "3. **Steady Growth for Group A**: Group A shows a more gradual growth in order size over the month. This could suggest that Group A's customer base is steadily increasing their purchase sizes, possibly due to growing trust in the brand or an expanding range of products.\n",
    "\n",
    "4. **Group B's Decline**: After the sharp rise, Group B's average order size shows a significant decline. This might indicate the end of a promotion, stock issues, or a change in consumer behavior after an initial surge of interest.\n",
    "\n",
    "5. **Comparison**: By the end of the month, despite the sharp increase and subsequent decline, Group B's average order size is greater than Group A's. This implies that even with fluctuations, Group B is experiencing a higher order value per customer on average.\n",
    "\n",
    "**Conjectures**:\n",
    "- Group B's marketing or sales strategies might be more aggressive or event-driven, causing significant short-term increases in average order size.\n",
    "- Group A's strategy might focus on long-term customer value, with a more consistent growth in order size.\n",
    "- The sharp decrease for Group B could suggest a need to evaluate the sustainability of their strategies for maintaining high order sizes."
   ]
  },
  {
   "cell_type": "markdown",
   "metadata": {},
   "source": [
    "### Graph the relative difference in cumulative average order size for group B compared with group A. Make conclusions and conjectures."
   ]
  },
  {
   "cell_type": "markdown",
   "metadata": {},
   "source": [
    "Let's plot a relative difference graph for the average purchase sizes. We'll add a horizontal axis with the axhline() method (i.e. horizontal line across the axis):"
   ]
  },
  {
   "cell_type": "code",
   "execution_count": 20,
   "metadata": {},
   "outputs": [
    {
     "data": {
      "text/plain": [
       "Text(0.5, 1.0, 'Relative difference in cumulative average order size for group B compared with group A')"
      ]
     },
     "execution_count": 20,
     "metadata": {},
     "output_type": "execute_result"
    },
    {
     "data": {
      "image/png": "[encoded data removed]",
      "text/plain": [
       "<Figure size 720x432 with 1 Axes>"
      ]
     },
     "metadata": {
      "needs_background": "light"
     },
     "output_type": "display_data"
    }
   ],
   "source": [
    "# Set the size of the figure\n",
    "plt.figure(figsize=(10, 6))\n",
    "\n",
    "# gathering the data into one DataFrame\n",
    "mergedCumulativeRevenue = cumulativeRevenueA.merge(cumulativeRevenueB, left_on='date', right_on='date', how='left', suffixes=['A', 'B'])\n",
    "\n",
    "# plotting a relative difference graph for the average purchase sizes\n",
    "plt.plot(mergedCumulativeRevenue['date'], (mergedCumulativeRevenue['revenueB']/mergedCumulativeRevenue['ordersB'])/(mergedCumulativeRevenue['revenueA']/mergedCumulativeRevenue['ordersA'])-1)\n",
    "\n",
    "# Set the frequency of x-axis tick labels\n",
    "plt.xticks(cumulativeRevenueA['date'][::4])  # Show every 4th date\n",
    "\n",
    "# adding the X axis\n",
    "plt.axhline(y=0, color='black', linestyle='--')\n",
    "\n",
    "plt.xlabel('Date')\n",
    "plt.ylabel('Average order size')\n",
    "plt.title('Relative difference in cumulative average order size for group B compared with group A')"
   ]
  },
  {
   "cell_type": "markdown",
   "metadata": {},
   "source": [
    "The graph provided appears to depict the relative difference in cumulative average order size for Group B compared to Group A. Here’s what we can infer:\n",
    "\n",
    "1. **Positive Values**: When the line is above the zero mark, it means Group B's cumulative average order size is larger than Group A's. This is the case for the majority of the month, which suggests that, on average, customers in Group B place larger orders than those in Group A.\n",
    "\n",
    "2. **Negative Values**: There is a point where the line dips below zero, indicating that during this period, Group A had a larger cumulative average order size compared to Group B. This may have been due to a temporary event or promotion that increased Group A’s order sizes, or a decrease in Group B's average order size.\n",
    "\n",
    "3. **Peaks and Valleys**: The graph shows volatility with sharp peaks and deep valleys, suggesting that the relative difference between the groups' order sizes changes significantly over time. This might be indicative of various external factors affecting buying behavior or could be the result of specific marketing campaigns or sales that temporarily boosted one group's order size over the other.\n",
    "\n",
    "4. **Concluding Period**: Towards the end of the period, the relative difference decreases steadily, indicating that Group B's advantage in average order size is diminishing. This could be because Group A is catching up, Group B’s order sizes are decreasing, or a combination of both.\n",
    "\n",
    "**Conjectures**:\n",
    "- The sharp decline that takes the relative difference below zero might represent a highly successful promotion by Group A or a problematic issue for Group B, such as stockouts or negative publicity.\n",
    "- The general pattern suggests that Group B’s order sizes are more volatile than Group A's, potentially indicating a customer base that is more reactive to external factors or promotions.\n",
    "- The steady decline at the end could suggest a loss of momentum for Group B or successful efforts by Group A to increase their order sizes."
   ]
  },
  {
   "cell_type": "markdown",
   "metadata": {},
   "source": [
    "### Calculate each group's conversion rate as the ratio of orders to the number of visits for each day. Plot the daily conversion rates of the two groups and describe the difference. Draw conclusions and make conjectures."
   ]
  },
  {
   "cell_type": "code",
   "execution_count": 21,
   "metadata": {
    "scrolled": false
   },
   "outputs": [
    {
     "data": {
      "image/png": "[encoded data removed]",
      "text/plain": [
       "<Figure size 720x432 with 1 Axes>"
      ]
     },
     "metadata": {
      "needs_background": "light"
     },
     "output_type": "display_data"
    }
   ],
   "source": [
    "# Set the size of the figure\n",
    "plt.figure(figsize=(10, 6))\n",
    "\n",
    "# calculating cumulative conversion\n",
    "cumulativeData['conversion'] = cumulativeData['orders'] / cumulativeData['visitors']\n",
    "\n",
    "# selecting data on group A \n",
    "cumulativeDataA = cumulativeData[cumulativeData['group'] == 'A']\n",
    "\n",
    "# selecting data on group B\n",
    "cumulativeDataB = cumulativeData[cumulativeData['group'] == 'B']\n",
    "\n",
    "# plotting the graphs\n",
    "plt.plot(cumulativeDataA['date'], cumulativeDataA['conversion'], label='A')\n",
    "plt.plot(cumulativeDataB['date'], cumulativeDataB['conversion'], label='B')\n",
    "\n",
    "plt.legend()\n",
    "\n",
    "# Adjusting the y-axis limits to automatically fit the data\n",
    "plt.ylim(cumulativeData['conversion'].min(), cumulativeData['conversion'].max())\n",
    "\n",
    "plt.xlabel('Date')\n",
    "plt.ylabel('Conversion Rate')\n",
    "plt.title('Daily Conversion Rates for Groups A and B')\n",
    "plt.legend()\n",
    "\n",
    "plt.xticks(rotation=45)  # Rotate x-axis tick labels for better readability\n",
    "\n",
    "plt.show()"
   ]
  },
  {
   "cell_type": "markdown",
   "metadata": {},
   "source": [
    "The graph presents the daily conversion rates for Groups A and B over the month of August 2019. Here are the observations and potential conjectures:\n",
    "\n",
    "1. **Initial Variability**: There is a lot of variability in the conversion rates for both groups at the start of the month. Group A in particular shows a sharp drop followed by a sharp rise. This could be due to external factors that had a significant but temporary impact, such as promotional events or technical issues on the website.\n",
    "\n",
    "2. **Stabilization of Group A**: After the initial fluctuations, Group A's conversion rate stabilizes and maintains a relatively steady state. This could suggest that any issues affecting the conversion rate were resolved, or that the impact of any promotions normalized over time.\n",
    "\n",
    "3. **Consistent Lead by Group B**: Group B consistently has a higher conversion rate than Group A throughout the month. This indicates that Group B's strategies or offerings might be more effective at converting visitors into customers.\n",
    "\n",
    "4. **Decline in Group B's Rate**: Despite leading, Group B’s conversion rate shows a downward trend as the month progresses. This could indicate that the factors contributing to their higher conversion rate are becoming less effective over time or that customers are responding less to their offerings.\n",
    "\n",
    "5. **End of Month Recovery for Group A**: Towards the end of the month, Group A's conversion rate starts to improve. This could be due to successful changes in strategy, increased effectiveness of marketing campaigns, or seasonal factors that affect buyer behavior.\n",
    "\n",
    "**Conjectures**:\n",
    "- The sharp variations at the start for Group A suggest that it could be more sensitive to external factors than Group B. It might benefit Group A to investigate what happened in early August to prevent future occurrences.\n",
    "- Group B's consistently higher conversion rate might be due to a variety of factors such as better user experience, more compelling offers, or a more effective sales funnel.\n",
    "- The decline in Group B's conversion rate might mean that their approach has a diminishing return over time, or it could be a sign of market saturation or increased competition. They may need to innovate or change tactics to maintain their lead.\n",
    "- The overall higher conversion rate for Group B throughout the month suggests they may be doing something significantly different from Group A that resonates better with their audience."
   ]
  },
  {
   "cell_type": "markdown",
   "metadata": {},
   "source": [
    "Let's plot a relative difference graph for the cumulative conversion rates:"
   ]
  },
  {
   "cell_type": "code",
   "execution_count": 22,
   "metadata": {},
   "outputs": [
    {
     "data": {
      "image/png": "[encoded data removed]",
      "text/plain": [
       "<Figure size 720x432 with 1 Axes>"
      ]
     },
     "metadata": {
      "needs_background": "light"
     },
     "output_type": "display_data"
    }
   ],
   "source": [
    "# Calculate cumulative conversion rates for each group\n",
    "cumulativeDataA = cumulativeData[cumulativeData['group'] == 'A'].copy()\n",
    "cumulativeDataB = cumulativeData[cumulativeData['group'] == 'B'].copy()\n",
    "\n",
    "cumulativeDataA.loc[:, 'cumulative_conversion'] = cumulativeDataA['orders'] / cumulativeDataA['visitors']\n",
    "cumulativeDataB.loc[:, 'cumulative_conversion'] = cumulativeDataB['orders'] / cumulativeDataB['visitors']\n",
    "\n",
    "# Merge dataframes on date to ensure alignment\n",
    "merged_data = cumulativeDataA.merge(cumulativeDataB, on='date', suffixes=('_A', '_B'))\n",
    "\n",
    "# Calculate relative difference between conversion rates of groups A and B\n",
    "merged_data['relative_difference'] = merged_data['cumulative_conversion_B'] - merged_data['cumulative_conversion_A']\n",
    "\n",
    "# Plot the relative difference graph\n",
    "plt.figure(figsize=(10, 6))\n",
    "plt.plot(merged_data['date'], merged_data['relative_difference'], label='Relative Difference (Group B - Group A)')\n",
    "\n",
    "plt.xlabel('Date')\n",
    "plt.ylabel('Relative Difference in Conversion Rate')\n",
    "plt.title('Relative Difference in Cumulative Conversion Rates between Groups A and B')\n",
    "plt.legend()\n",
    "\n",
    "plt.xticks(rotation=45)  # Rotate x-axis tick labels for better readability\n",
    "\n",
    "plt.axhline(0, color='black', linestyle='--')  # Add horizontal line at y=0 for reference\n",
    "plt.axhline(-0.001, color='grey', linestyle='--')\n",
    "\n",
    "plt.show()\n"
   ]
  },
  {
   "cell_type": "markdown",
   "metadata": {},
   "source": [
    "The graph displays the relative difference in cumulative conversion rates between Groups A and B over the course of August 2019. Here’s what can be concluded and conjectured from the graph:\n",
    "\n",
    "1. **Group B's Superiority**: Group B generally has a higher conversion rate than Group A for most of the month, indicated by the relative difference being above the zero line. This suggests that Group B is more effective at converting visitors into customers.\n",
    "\n",
    "2. **Early Dip Below Zero**: There is a moment early in the month when the relative difference dips below zero, indicating that Group A momentarily had a higher conversion rate than Group B. This could have been due to a successful promotion or some other temporary factor that favorably impacted Group A's performance.\n",
    "\n",
    "3. **Stabilization Above Zero**: After the initial fluctuation, the relative difference stabilizes above zero. While it still shows some variability, it doesn't cross below the zero line again, indicating a consistent lead by Group B in conversion rate effectiveness.\n",
    "\n",
    "4. **Gradual Decline**: Towards the end of the month, there's a gradual decline in the relative difference, suggesting that Group A may be improving its conversion rate or Group B's rate is decreasing. \n",
    "\n",
    "**Conjectures**:\n",
    "- Group B's consistent lead suggests they have implemented strategies or offers that are resonating well with their audience. It would be worthwhile for Group A to analyze Group B's approach to identify what is working.\n",
    "- The early dip for Group A might suggest that they are capable of achieving short-term gains, possibly through promotions or marketing efforts. However, maintaining these gains seems to be a challenge.\n",
    "- The downward trend at the end of the month might suggest fatigue with Group B's approach, or it could reflect a successful adjustment or campaign from Group A. It may be that Group A's strategies take longer to gain traction but are starting to pay off.\n",
    "- This graph could also signal the importance of continuously innovating and adapting strategies to maintain a competitive edge in conversion rates. Group B might need to explore new methods to maintain their lead.\n",
    "- It's important to note that external factors such as seasonality, market trends, or changes in customer behavior could also be affecting these rates."
   ]
  },
  {
   "cell_type": "markdown",
   "metadata": {},
   "source": [
    "### Plot a scatter chart of the number of orders per user. Make conclusions and conjectures."
   ]
  },
  {
   "cell_type": "code",
   "execution_count": 23,
   "metadata": {},
   "outputs": [
    {
     "data": {
      "text/html": [
       "<div>\n",
       "<style scoped>\n",
       "    .dataframe tbody tr th:only-of-type {\n",
       "        vertical-align: middle;\n",
       "    }\n",
       "\n",
       "    .dataframe tbody tr th {\n",
       "        vertical-align: top;\n",
       "    }\n",
       "\n",
       "    .dataframe thead th {\n",
       "        text-align: right;\n",
       "    }\n",
       "</style>\n",
       "<table border=\"1\" class=\"dataframe\">\n",
       "  <thead>\n",
       "    <tr style=\"text-align: right;\">\n",
       "      <th></th>\n",
       "      <th>visitorId</th>\n",
       "      <th>orders</th>\n",
       "    </tr>\n",
       "  </thead>\n",
       "  <tbody>\n",
       "    <tr>\n",
       "      <th>1023</th>\n",
       "      <td>4256040402</td>\n",
       "      <td>11</td>\n",
       "    </tr>\n",
       "    <tr>\n",
       "      <th>591</th>\n",
       "      <td>2458001652</td>\n",
       "      <td>11</td>\n",
       "    </tr>\n",
       "    <tr>\n",
       "      <th>569</th>\n",
       "      <td>2378935119</td>\n",
       "      <td>9</td>\n",
       "    </tr>\n",
       "    <tr>\n",
       "      <th>487</th>\n",
       "      <td>2038680547</td>\n",
       "      <td>8</td>\n",
       "    </tr>\n",
       "    <tr>\n",
       "      <th>44</th>\n",
       "      <td>199603092</td>\n",
       "      <td>5</td>\n",
       "    </tr>\n",
       "    <tr>\n",
       "      <th>744</th>\n",
       "      <td>3062433592</td>\n",
       "      <td>5</td>\n",
       "    </tr>\n",
       "    <tr>\n",
       "      <th>55</th>\n",
       "      <td>237748145</td>\n",
       "      <td>5</td>\n",
       "    </tr>\n",
       "    <tr>\n",
       "      <th>917</th>\n",
       "      <td>3803269165</td>\n",
       "      <td>5</td>\n",
       "    </tr>\n",
       "    <tr>\n",
       "      <th>299</th>\n",
       "      <td>1230306981</td>\n",
       "      <td>5</td>\n",
       "    </tr>\n",
       "    <tr>\n",
       "      <th>897</th>\n",
       "      <td>3717692402</td>\n",
       "      <td>5</td>\n",
       "    </tr>\n",
       "  </tbody>\n",
       "</table>\n",
       "</div>"
      ],
      "text/plain": [
       "       visitorId  orders\n",
       "1023  4256040402      11\n",
       "591   2458001652      11\n",
       "569   2378935119       9\n",
       "487   2038680547       8\n",
       "44     199603092       5\n",
       "744   3062433592       5\n",
       "55     237748145       5\n",
       "917   3803269165       5\n",
       "299   1230306981       5\n",
       "897   3717692402       5"
      ]
     },
     "execution_count": 23,
     "metadata": {},
     "output_type": "execute_result"
    }
   ],
   "source": [
    "ordersByUsers = (\n",
    "    orders.drop(['group', 'revenue', 'date'], axis=1)\n",
    "    .groupby('visitorId', as_index=False)\n",
    "    .agg({'transactionId': pd.Series.nunique})\n",
    ")\n",
    "\n",
    "ordersByUsers.columns = ['visitorId', 'orders']\n",
    "\n",
    "ordersByUsers.sort_values(by='orders', ascending=False).head(10)"
   ]
  },
  {
   "cell_type": "code",
   "execution_count": 24,
   "metadata": {},
   "outputs": [
    {
     "data": {
      "text/plain": [
       "<matplotlib.collections.PathCollection at 0x7f56a2e7b700>"
      ]
     },
     "execution_count": 24,
     "metadata": {},
     "output_type": "execute_result"
    },
    {
     "data": {
      "image/png": "[encoded data removed]",
      "text/plain": [
       "<Figure size 720x432 with 1 Axes>"
      ]
     },
     "metadata": {
      "needs_background": "light"
     },
     "output_type": "display_data"
    }
   ],
   "source": [
    "plt.figure(figsize=(10, 6))\n",
    "\n",
    "x_values = pd.Series(range(0,len(ordersByUsers)))\n",
    "\n",
    "plt.xlabel('Number of users')\n",
    "plt.ylabel('Number of orders')\n",
    "plt.title('Number of orders per user')\n",
    "\n",
    "plt.scatter(x_values, ordersByUsers['orders'])"
   ]
  },
  {
   "cell_type": "markdown",
   "metadata": {},
   "source": [
    "Based on the distribution of points, we can infer the following:\n",
    "\n",
    "1. **Majority Single Orders**: The vast majority of users have made a small number of orders, with a dense cluster of points at the bottom of the graph, close to 1. This suggests that most customers are one-time buyers or have made very few purchases.\n",
    "\n",
    "2. **Few Repeat Customers**: There are some users with higher numbers of orders, up to 10 on this scale, but they are significantly fewer in number. This indicates that there are a few repeat customers who make multiple purchases.\n",
    "\n",
    "**Conjectures**:\n",
    "- The business could be heavily reliant on single-purchase customers and may benefit from strategies aimed at increasing customer retention and repeat purchases.\n",
    "- The small number of high-order customers might be a target for loyalty programs or special marketing campaigns to further encourage their repeat business.\n",
    "- The distribution could suggest that the barrier to repeat purchases is high or customer satisfaction might need improvement. Alternatively, the product or service might naturally have a low repeat purchase rate (such as high-ticket or infrequently purchased items).\n",
    "- Customer segmentation based on the number of orders might reveal different purchasing behaviors, and tailored marketing to each segment could be effective."
   ]
  },
  {
   "cell_type": "markdown",
   "metadata": {},
   "source": [
    "### Calculate the 95th and 99th percentiles for the number of orders per user. Define the point at which a data point becomes an anomaly."
   ]
  },
  {
   "cell_type": "code",
   "execution_count": 25,
   "metadata": {},
   "outputs": [
    {
     "name": "stdout",
     "output_type": "stream",
     "text": [
      "[2. 4.]\n"
     ]
    }
   ],
   "source": [
    "print(np.percentile(ordersByUsers['orders'], [95, 99]))"
   ]
  },
  {
   "cell_type": "markdown",
   "metadata": {},
   "source": [
    "No more than 5% of users placed more than 2 orders, and 1% of users made more than four. "
   ]
  },
  {
   "cell_type": "markdown",
   "metadata": {},
   "source": [
    "### Plot a scatter chart of order prices. Make conclusions and conjectures."
   ]
  },
  {
   "cell_type": "code",
   "execution_count": 26,
   "metadata": {},
   "outputs": [
    {
     "data": {
      "text/plain": [
       "<matplotlib.collections.PathCollection at 0x7f56a2f38e80>"
      ]
     },
     "execution_count": 26,
     "metadata": {},
     "output_type": "execute_result"
    },
    {
     "data": {
      "image/png": "[encoded data removed]",
      "text/plain": [
       "<Figure size 720x432 with 1 Axes>"
      ]
     },
     "metadata": {
      "needs_background": "light"
     },
     "output_type": "display_data"
    }
   ],
   "source": [
    "plt.figure(figsize=(10, 6))\n",
    "\n",
    "plt.xlabel('Number of orders')\n",
    "plt.ylabel('Price of order')\n",
    "plt.title('Order prices')\n",
    "\n",
    "x_values = pd.Series(range(0, len(orders['revenue'])))\n",
    "plt.scatter(x_values, orders['revenue'])"
   ]
  },
  {
   "cell_type": "markdown",
   "metadata": {},
   "source": [
    "The scatter plot appears to show the order prices plotted against the number of orders. Based on the distribution of data points on the chart, here are some conclusions and conjectures:\n",
    "\n",
    "1. **Low Price Concentration**: The majority of orders are concentrated at the lower end of the price range. This suggests that lower-priced items are ordered more frequently, or that this is a price range that is more popular among customers.\n",
    "\n",
    "2. **High Price Outliers**: There are a few orders with very high prices compared to the rest.\n",
    "\n",
    "3. **Price Variation**: As the number of orders increases, the variation in order prices seems to increase as well. This could imply that with more transactions, there's a greater chance of encountering higher-priced orders.\n",
    "\n",
    "**Conjectures**:\n",
    "- The business could be primarily focused on selling lower-priced goods, with occasional sales of high-ticket items.\n",
    "- The outliers could be due to special one-time purchases or could indicate the presence of different customer segments; for instance, both retail and wholesale buyers might be included in the data.\n",
    "- It might be beneficial for the company to investigate the circumstances around the high-price orders to see if there is potential to increase sales in that segment without alienating the base of customers purchasing lower-priced items.\n",
    "- The company may also want to look into whether the high-price orders correlate with specific products, times, or promotions to better understand how to replicate such sales.\n",
    "- A strategy to gradually increase the average order value could be beneficial if the company typically deals with a high volume of low-priced orders."
   ]
  },
  {
   "cell_type": "markdown",
   "metadata": {},
   "source": [
    "### Calculate the 95th and 99th percentiles of order prices. Define the point at which a data point becomes an anomaly."
   ]
  },
  {
   "cell_type": "code",
   "execution_count": 27,
   "metadata": {},
   "outputs": [
    {
     "name": "stdout",
     "output_type": "stream",
     "text": [
      "[435.54  900.904]\n"
     ]
    }
   ],
   "source": [
    "print(np.percentile(orders['revenue'], [95, 99]))"
   ]
  },
  {
   "cell_type": "markdown",
   "metadata": {},
   "source": [
    "No more than 5% of orders cost more than 435.54, and no more than 1% cost more than 900.904. \n"
   ]
  },
  {
   "cell_type": "markdown",
   "metadata": {},
   "source": [
    "### Find the statistical significance of the difference in conversion between the groups using the raw data. Make conclusions and conjectures."
   ]
  },
  {
   "cell_type": "markdown",
   "metadata": {},
   "source": [
    "**Null Hypothesis (H0):** There is no difference in conversion rates between group A and group B. In other words, the conversion rates for both groups are equal.\n",
    "\n",
    "**Alternative Hypothesis (H1):** There is a difference in conversion rates between group A and group B. In other words, the conversion rates for both groups are not equal."
   ]
  },
  {
   "cell_type": "code",
   "execution_count": 28,
   "metadata": {},
   "outputs": [
    {
     "name": "stdout",
     "output_type": "stream",
     "text": [
      "P-value: 0.017\n",
      "Relative Difference in Means: 13.81%\n"
     ]
    }
   ],
   "source": [
    "ordersByUsersA = orders[orders['group']=='A'].groupby('visitorId', as_index=False).agg({'transactionId' : pd.Series.nunique})\n",
    "ordersByUsersA.columns = ['visitorId', 'orders']\n",
    "\n",
    "ordersByUsersB = orders[orders['group']=='B'].groupby('visitorId', as_index=False).agg({'transactionId' : pd.Series.nunique})\n",
    "ordersByUsersB.columns = ['visitorId', 'orders']\n",
    "\n",
    "sampleA = pd.concat([ordersByUsersA['orders'],pd.Series(0, index=np.arange(visits[visits['group']=='A']['visits'].sum() - len(ordersByUsersA['orders'])), name='orders')],axis=0)\n",
    "\n",
    "sampleB = pd.concat([ordersByUsersB['orders'],pd.Series(0, index=np.arange(visits[visits['group']=='B']['visits'].sum() - len(ordersByUsersB['orders'])), name='orders')],axis=0)\n",
    "\n",
    "# Calculate the relative difference in means\n",
    "relative_difference = sampleB.mean() / sampleA.mean() - 1\n",
    "\n",
    "# Print the results with signed values\n",
    "print(\"P-value: {:.3f}\".format(stats.mannwhitneyu(sampleA, sampleB)[1]))\n",
    "print(\"Relative Difference in Means: {:.2f}%\".format(relative_difference * 100))"
   ]
  },
  {
   "cell_type": "code",
   "execution_count": 29,
   "metadata": {},
   "outputs": [
    {
     "name": "stdout",
     "output_type": "stream",
     "text": [
      "227    2038680547\n",
      "326    2378935119\n",
      "278    2458001652\n",
      "499    4256040402\n",
      "Name: visitorId, dtype: int64\n",
      "Total abnormal users: 4\n"
     ]
    }
   ],
   "source": [
    "usersWithManyOrders = pd.concat([ordersByUsersA[ordersByUsersA['orders'] > 4]['visitorId'], ordersByUsersB[ordersByUsersB['orders'] > 4]['visitorId']], axis = 0)\n",
    "usersWithExpensiveOrders = orders[orders['revenue'] > 900000]['visitorId']\n",
    "abnormalUsers = pd.concat([usersWithManyOrders, usersWithExpensiveOrders], axis = 0).drop_duplicates().sort_values()\n",
    "\n",
    "# Print the first 5 abnormal users and the total count\n",
    "print(abnormalUsers.head(5))\n",
    "print(\"Total abnormal users:\", abnormalUsers.shape[0])\n"
   ]
  },
  {
   "cell_type": "markdown",
   "metadata": {},
   "source": [
    "We have 4 anomalous users in total. "
   ]
  },
  {
   "cell_type": "markdown",
   "metadata": {},
   "source": [
    "The results from the provided code snippets are as follows:\n",
    "\n",
    "1. The p-value from the Mann-Whitney U test is 0.017.\n",
    "2. The relative difference in means between sampleB and sampleA is 0.138.\n",
    "\n",
    "Based on these results:\n",
    "\n",
    "1. **Statistical Significance**: The p-value (0.017) from the Mann-Whitney U test indicates that there is a statistically significant difference between the distributions of sampleA and sampleB. With a significance level typically set at 0.05, a p-value of 0.017 falls below this threshold, suggesting that the difference in the distributions is unlikely to be due to random chance alone.\n",
    "\n",
    "2. **Effect Size**: The relative difference in means between sampleB and sampleA is 0.138, which indicates that sampleB has a 13.8% higher mean compared to sampleA. This suggests a practical significance, indicating that there is a substantial difference in the means of the two samples."
   ]
  },
  {
   "cell_type": "markdown",
   "metadata": {},
   "source": [
    "### Find the statistical significance of the difference in average order size between the groups using the raw data. Make conclusions and conjectures."
   ]
  },
  {
   "cell_type": "markdown",
   "metadata": {},
   "source": [
    "**Null Hypothesis (H0):** There is no difference in the average order size between group A and group B. In other words, the average order size for both groups is equal.\n",
    "\n",
    "**Alternative Hypothesis (H1):** There is a difference in the average order size between group A and group B. In other words, the average order size for one group is statistically significantly different from the other group."
   ]
  },
  {
   "cell_type": "code",
   "execution_count": 30,
   "metadata": {},
   "outputs": [
    {
     "name": "stdout",
     "output_type": "stream",
     "text": [
      "P-value: 0.692\n",
      "Relative Difference in Means: 0.252\n"
     ]
    }
   ],
   "source": [
    "# Calculate the p-value from the Mann-Whitney U test\n",
    "p_value = stats.mannwhitneyu(orders[orders['group']=='A']['revenue'], orders[orders['group']=='B']['revenue'])[1]\n",
    "\n",
    "# Calculate the relative difference in means\n",
    "relative_difference = orders[orders['group']=='B']['revenue'].mean() / orders[orders['group']=='A']['revenue'].mean() - 1\n",
    "\n",
    "# Print the results with signs\n",
    "print(\"P-value:\", '{0:.3f}'.format(p_value))\n",
    "print(\"Relative Difference in Means:\",'{0:.3f}'.format(relative_difference))"
   ]
  },
  {
   "cell_type": "markdown",
   "metadata": {},
   "source": [
    "The provided results are as follows:\n",
    "\n",
    "1. The p-value from the Mann-Whitney U test is 0.692.\n",
    "2. The relative difference in means between the experimental group (group B) and the control group (group A) is 0.252.\n",
    "\n",
    "Based on these results:\n",
    "\n",
    "1. **Statistical Significance**: The p-value (0.692) from the Mann-Whitney U test is higher than the conventional significance level of 0.05. This suggests that there is no statistically significant difference between the revenue distributions of the two groups. In other words, the difference observed in revenue between the groups could plausibly occur due to random chance alone.\n",
    "\n",
    "2. **Effect Size**: The relative difference in means between group B and group A is 0.252, indicating that group B has a 25.2% higher mean revenue compared to group A. While this difference may seem substantial, it's important to note that without statistical significance, it cannot be conclusively attributed to the experimental condition."
   ]
  },
  {
   "cell_type": "markdown",
   "metadata": {},
   "source": [
    "### Find the statistical significance of the difference in conversion between the groups using the filtered data. Make conclusions and conjectures."
   ]
  },
  {
   "cell_type": "markdown",
   "metadata": {},
   "source": [
    "**Null Hypothesis (H0):** There is no difference in the average order size between group A and group B. In other words, the average order size for both groups is equal.\n",
    "\n",
    "**Alternative Hypothesis (H1):** There is a difference in the average order size between group A and group B. In other words, the average order size for one group is statistically significantly different from the other group."
   ]
  },
  {
   "cell_type": "code",
   "execution_count": 31,
   "metadata": {},
   "outputs": [],
   "source": [
    "sampleAFiltered = pd.concat([ordersByUsersA[np.logical_not(ordersByUsersA['visitorId'].isin(abnormalUsers))]['orders'],pd.Series(0, index=np.arange(visits[visits['group']=='A']['visits'].sum() - len(ordersByUsersA['orders'])),name='orders')],axis=0)\n",
    "\n",
    "sampleBFiltered = pd.concat([ordersByUsersB[np.logical_not(ordersByUsersB['visitorId'].isin(abnormalUsers))]['orders'],pd.Series(0, index=np.arange(visits[visits['group']=='B']['visits'].sum() - len(ordersByUsersB['orders'])),name='orders')],axis=0)"
   ]
  },
  {
   "cell_type": "code",
   "execution_count": 32,
   "metadata": {},
   "outputs": [
    {
     "name": "stdout",
     "output_type": "stream",
     "text": [
      "P-value: 0.016\n",
      "Relative Difference in Means: 0.149\n"
     ]
    }
   ],
   "source": [
    "# Calculate the p-value from the Mann-Whitney U test\n",
    "p_value = stats.mannwhitneyu(sampleAFiltered, sampleBFiltered)[1]\n",
    "\n",
    "# Calculate the relative difference in means\n",
    "relative_difference = sampleBFiltered.mean() / sampleAFiltered.mean() - 1\n",
    "\n",
    "# Print the results with signs\n",
    "print(\"P-value:\", '{0:.3f}'.format(p_value))\n",
    "print(\"Relative Difference in Means:\", '{0:.3f}'.format(relative_difference))"
   ]
  },
  {
   "cell_type": "markdown",
   "metadata": {},
   "source": [
    "The provided results are as follows:\n",
    "\n",
    "1. The p-value from the Mann-Whitney U test is 0.016.\n",
    "2. The relative difference in means between sampleBFiltered and sampleAFiltered is 0.149.\n",
    "\n",
    "Based on these results:\n",
    "\n",
    "1. **Statistical Significance**: The p-value (0.016) from the Mann-Whitney U test falls below the conventional significance level of 0.05. This indicates that there is a statistically significant difference between the distributions of sampleAFiltered and sampleBFiltered. In other words, the observed difference in the metric being measured (e.g., conversion rate, average order size) between the two groups is unlikely to be due to random chance alone.\n",
    "\n",
    "2. **Effect Size**: The relative difference in means between sampleBFiltered and sampleAFiltered is 0.149, suggesting that sampleBFiltered has a 14.9% higher mean compared to sampleAFiltered. This indicates a practical significance, indicating that there is a meaningful difference in the means of the two samples."
   ]
  },
  {
   "cell_type": "markdown",
   "metadata": {},
   "source": [
    "### Find the statistical significance of the difference in average order size between the groups using the filtered data. Make conclusions and conjectures."
   ]
  },
  {
   "cell_type": "code",
   "execution_count": 33,
   "metadata": {},
   "outputs": [
    {
     "name": "stdout",
     "output_type": "stream",
     "text": [
      "0.960\n",
      "0.235\n"
     ]
    }
   ],
   "source": [
    "print('{0:.3f}'.format(stats.mannwhitneyu(\n",
    "    orders[np.logical_and(\n",
    "        orders['group']=='A',\n",
    "        np.logical_not(orders['visitorId'].isin(abnormalUsers)))]['revenue'],\n",
    "    orders[np.logical_and(\n",
    "        orders['group']=='B',\n",
    "        np.logical_not(orders['visitorId'].isin(abnormalUsers)))]['revenue'])[1]))\n",
    "\n",
    "print('{0:.3f}'.format(\n",
    "    orders[np.logical_and(orders['group']=='B',np.logical_not(orders['visitorId'].isin(abnormalUsers)))]['revenue'].mean()/\n",
    "    orders[np.logical_and(\n",
    "        orders['group']=='A',\n",
    "        np.logical_not(orders['visitorId'].isin(abnormalUsers)))]['revenue'].mean() - 1))"
   ]
  },
  {
   "cell_type": "markdown",
   "metadata": {},
   "source": [
    "The provided results are as follows:\n",
    "\n",
    "1. The p-value from the Mann-Whitney U test is 0.960.\n",
    "2. The relative difference in means between the revenue of group B (after filtering out abnormal users) and group A (after filtering out abnormal users) is 0.235.\n",
    "\n",
    "Based on these results:\n",
    "\n",
    "1. **Statistical Significance**: The high p-value (0.960) from the Mann-Whitney U test suggests that there is no statistically significant difference between the revenue distributions of group A and group B after filtering out abnormal users. This indicates that the observed difference in revenue between the two groups could plausibly occur due to random chance alone.\n",
    "\n",
    "2. **Effect Size**: The relative difference in means between group B and group A (after filtering) is 0.235, suggesting that group B has a 23.5% higher mean revenue compared to group A after excluding abnormal users. While this difference may appear substantial, it's important to note that without statistical significance, it cannot be conclusively attributed to the experimental condition."
   ]
  },
  {
   "cell_type": "markdown",
   "metadata": {},
   "source": [
    "### Make a decision based on the test results. The possible decisions are: 1. Stop the test, consider one of the groups the leader. 2. Stop the test, conclude that there is no difference between the groups. 3. Continue the test."
   ]
  },
  {
   "cell_type": "markdown",
   "metadata": {},
   "source": [
    "Based on the test results:\n",
    "\n",
    "1. **Stop the test, conclude that there is no difference between the groups.**\n",
    "\n",
    "The high p-value of 0.960 from the Mann-Whitney U test indicates that there is no statistically significant difference between the revenue distributions of group A and group B after filtering out abnormal users. Additionally, the relative difference in means between the two groups is 0.235, suggesting a moderate difference in revenue, but without statistical significance, it cannot be attributed to the experimental condition.\n",
    "\n",
    "Therefore, it would be appropriate to stop the test and conclude that there is no significant difference between the groups in terms of revenue. Continuing the test would likely not yield different results given the lack of statistical significance. Instead, resources could be redirected to other initiatives or areas of improvement."
   ]
  }
 ],
 "metadata": {
  "kernelspec": {
   "display_name": "Python 3 (ipykernel)",
   "language": "python",
   "name": "python3"
  },
  "language_info": {
   "codemirror_mode": {
    "name": "ipython",
    "version": 3
   },
   "file_extension": ".py",
   "mimetype": "text/x-python",
   "name": "python",
   "nbconvert_exporter": "python",
   "pygments_lexer": "ipython3",
   "version": "3.9.19"
  },
  "toc": {
   "base_numbering": 1,
   "nav_menu": {},
   "number_sections": true,
   "sideBar": true,
   "skip_h1_title": true,
   "title_cell": "Table of Contents",
   "title_sidebar": "Contents",
   "toc_cell": false,
   "toc_position": {},
   "toc_section_display": true,
   "toc_window_display": false
  }
 },
 "nbformat": 4,
 "nbformat_minor": 2
}

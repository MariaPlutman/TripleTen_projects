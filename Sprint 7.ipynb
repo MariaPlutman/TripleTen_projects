{
 "cells": [
  {
   "cell_type": "markdown",
   "id": "f7dad08a",
   "metadata": {},
   "source": [
    "**Instacart is a grocery delivery platform where customers can place a grocery order and have it delivered to them, similar to how Uber Eats and Door Dash work.\n",
    "Mission is to clean up the data and prepare a report that gives insight into the shopping habits of Instacart customers.**"
   ]
  },
  {
   "cell_type": "markdown",
   "id": "bf5ee71e",
   "metadata": {},
   "source": [
    "# Data dictionary \n",
    "\n",
    "**The database contains the following tables:**\n",
    "\n",
    "1. **instacart_orders.csv**: each row corresponds to one order on the Instacart app\n",
    "    - **'order_id'**: ID number that uniquely identifies each order\n",
    "    - **'user_id'**: ID number that uniquely identifies each customer account\n",
    "    - **'order_number'**: the number of times this customer has placed an order\n",
    "    - **'order_dow'**: day of the week that the order placed (which day is 0 is uncertain)\n",
    "    - **'order_hour_of_day'**: hour of the day that the order was placed\n",
    "    - **'days_since_prior_order'**: number of days since this customer placed their previous order\n",
    "2. products.csv: each row corresponds to a unique product that customers can buy\n",
    "    - **'product_id'**: ID number that uniquely identifies each product\n",
    "    - **'product_name'**: name of the product\n",
    "    - **'aisle_id'**: ID number that uniquely identifies each grocery aisle category\n",
    "    - **'department_id'**: ID number that uniquely identifies each grocery department category\n",
    "3. order_products.csv: each row corresponds to one item placed in an order\n",
    "    - **'order_id'**: ID number that uniquely identifies each order\n",
    "    - **'product_id'**: ID number that uniquely identifies each product\n",
    "    - **'add_to_cart_order'**: the sequential order in which each item was placed in the cart\n",
    "    - **'reordered'**: 0 if the customer has never ordered this product before, 1 if they have\n",
    "4. aisles.csv\n",
    "    - **'aisle_id'**: ID number that uniquely identifies each grocery aisle category\n",
    "    - **'aisle'**: name of the aisle\n",
    "5. departments.csv\n",
    "    - **'department_id'**: ID number that uniquely identifies each grocery department category\n",
    "    - **'department'**: name of the department"
   ]
  },
  {
   "cell_type": "markdown",
   "id": "3b5b3266",
   "metadata": {},
   "source": [
    "## Step 1: Open the data files"
   ]
  },
  {
   "cell_type": "markdown",
   "id": "692030ed",
   "metadata": {},
   "source": [
    "Data on user behavior is stored in the files (/datasets/instacart_orders.csv, /datasets/products.csv, /datasets/aisles.csv, /datasets/departments.csv, and /datasets/order_products.csv). There is no information about the quality of the data, so we will need to explore it. \n",
    "\n",
    "First, we'll evaluate the quality of the data and see whether its issues are significant. Then, during data preprocessing, we will try to account for the most critical problems.\n",
    " \n",
    "Project consist of three stages:\n",
    " 1. Data overview\n",
    " 2. Data preprocessing\n",
    " 3. Perform the analysis"
   ]
  },
  {
   "cell_type": "code",
   "execution_count": 1,
   "id": "20532ed5",
   "metadata": {},
   "outputs": [],
   "source": [
    "import pandas as pd\n",
    "import matplotlib.pyplot as plt\n",
    "from IPython.display import display"
   ]
  },
  {
   "cell_type": "code",
   "execution_count": 2,
   "id": "ad36396d",
   "metadata": {},
   "outputs": [
    {
     "data": {
      "text/html": [
       "<div>\n",
       "<style scoped>\n",
       "    .dataframe tbody tr th:only-of-type {\n",
       "        vertical-align: middle;\n",
       "    }\n",
       "\n",
       "    .dataframe tbody tr th {\n",
       "        vertical-align: top;\n",
       "    }\n",
       "\n",
       "    .dataframe thead th {\n",
       "        text-align: right;\n",
       "    }\n",
       "</style>\n",
       "<table border=\"1\" class=\"dataframe\">\n",
       "  <thead>\n",
       "    <tr style=\"text-align: right;\">\n",
       "      <th></th>\n",
       "      <th>order_id</th>\n",
       "      <th>user_id</th>\n",
       "      <th>order_number</th>\n",
       "      <th>order_dow</th>\n",
       "      <th>order_hour_of_day</th>\n",
       "      <th>days_since_prior_order</th>\n",
       "    </tr>\n",
       "  </thead>\n",
       "  <tbody>\n",
       "    <tr>\n",
       "      <th>0</th>\n",
       "      <td>1515936</td>\n",
       "      <td>183418</td>\n",
       "      <td>11</td>\n",
       "      <td>6</td>\n",
       "      <td>13</td>\n",
       "      <td>30.0</td>\n",
       "    </tr>\n",
       "    <tr>\n",
       "      <th>1</th>\n",
       "      <td>1690866</td>\n",
       "      <td>163593</td>\n",
       "      <td>5</td>\n",
       "      <td>5</td>\n",
       "      <td>12</td>\n",
       "      <td>9.0</td>\n",
       "    </tr>\n",
       "    <tr>\n",
       "      <th>2</th>\n",
       "      <td>1454967</td>\n",
       "      <td>39980</td>\n",
       "      <td>4</td>\n",
       "      <td>5</td>\n",
       "      <td>19</td>\n",
       "      <td>2.0</td>\n",
       "    </tr>\n",
       "    <tr>\n",
       "      <th>3</th>\n",
       "      <td>1768857</td>\n",
       "      <td>82516</td>\n",
       "      <td>56</td>\n",
       "      <td>0</td>\n",
       "      <td>20</td>\n",
       "      <td>10.0</td>\n",
       "    </tr>\n",
       "    <tr>\n",
       "      <th>4</th>\n",
       "      <td>3007858</td>\n",
       "      <td>196724</td>\n",
       "      <td>2</td>\n",
       "      <td>4</td>\n",
       "      <td>12</td>\n",
       "      <td>17.0</td>\n",
       "    </tr>\n",
       "  </tbody>\n",
       "</table>\n",
       "</div>"
      ],
      "text/plain": [
       "   order_id  user_id  order_number  order_dow  order_hour_of_day  \\\n",
       "0   1515936   183418            11          6                 13   \n",
       "1   1690866   163593             5          5                 12   \n",
       "2   1454967    39980             4          5                 19   \n",
       "3   1768857    82516            56          0                 20   \n",
       "4   3007858   196724             2          4                 12   \n",
       "\n",
       "  days_since_prior_order  \n",
       "0                   30.0  \n",
       "1                    9.0  \n",
       "2                    2.0  \n",
       "3                   10.0  \n",
       "4                   17.0  "
      ]
     },
     "metadata": {},
     "output_type": "display_data"
    },
    {
     "name": "stdout",
     "output_type": "stream",
     "text": [
      "<class 'pandas.core.frame.DataFrame'>\n",
      "RangeIndex: 478967 entries, 0 to 478966\n",
      "Data columns (total 6 columns):\n",
      " #   Column                  Non-Null Count   Dtype \n",
      "---  ------                  --------------   ----- \n",
      " 0   order_id                478967 non-null  int64 \n",
      " 1   user_id                 478967 non-null  int64 \n",
      " 2   order_number            478967 non-null  int64 \n",
      " 3   order_dow               478967 non-null  int64 \n",
      " 4   order_hour_of_day       478967 non-null  int64 \n",
      " 5   days_since_prior_order  450148 non-null  object\n",
      "dtypes: int64(5), object(1)\n",
      "memory usage: 21.9+ MB\n"
     ]
    }
   ],
   "source": [
    "orders = pd.read_csv('/datasets/instacart_orders.csv', sep=';', decimal=',',)\n",
    "display(orders.head())\n",
    "\n",
    "orders.info()"
   ]
  },
  {
   "cell_type": "code",
   "execution_count": 3,
   "id": "000eed96",
   "metadata": {},
   "outputs": [
    {
     "data": {
      "text/html": [
       "<div>\n",
       "<style scoped>\n",
       "    .dataframe tbody tr th:only-of-type {\n",
       "        vertical-align: middle;\n",
       "    }\n",
       "\n",
       "    .dataframe tbody tr th {\n",
       "        vertical-align: top;\n",
       "    }\n",
       "\n",
       "    .dataframe thead th {\n",
       "        text-align: right;\n",
       "    }\n",
       "</style>\n",
       "<table border=\"1\" class=\"dataframe\">\n",
       "  <thead>\n",
       "    <tr style=\"text-align: right;\">\n",
       "      <th></th>\n",
       "      <th>order_id</th>\n",
       "      <th>user_id</th>\n",
       "      <th>order_number</th>\n",
       "      <th>order_dow</th>\n",
       "      <th>order_hour_of_day</th>\n",
       "      <th>days_since_prior_order</th>\n",
       "    </tr>\n",
       "  </thead>\n",
       "  <tbody>\n",
       "    <tr>\n",
       "      <th>0</th>\n",
       "      <td>1515936</td>\n",
       "      <td>183418</td>\n",
       "      <td>11</td>\n",
       "      <td>6</td>\n",
       "      <td>13</td>\n",
       "      <td>30.0</td>\n",
       "    </tr>\n",
       "    <tr>\n",
       "      <th>1</th>\n",
       "      <td>1690866</td>\n",
       "      <td>163593</td>\n",
       "      <td>5</td>\n",
       "      <td>5</td>\n",
       "      <td>12</td>\n",
       "      <td>9.0</td>\n",
       "    </tr>\n",
       "    <tr>\n",
       "      <th>2</th>\n",
       "      <td>1454967</td>\n",
       "      <td>39980</td>\n",
       "      <td>4</td>\n",
       "      <td>5</td>\n",
       "      <td>19</td>\n",
       "      <td>2.0</td>\n",
       "    </tr>\n",
       "  </tbody>\n",
       "</table>\n",
       "</div>"
      ],
      "text/plain": [
       "   order_id  user_id  order_number  order_dow  order_hour_of_day  \\\n",
       "0   1515936   183418            11          6                 13   \n",
       "1   1690866   163593             5          5                 12   \n",
       "2   1454967    39980             4          5                 19   \n",
       "\n",
       "  days_since_prior_order  \n",
       "0                   30.0  \n",
       "1                    9.0  \n",
       "2                    2.0  "
      ]
     },
     "metadata": {},
     "output_type": "display_data"
    },
    {
     "data": {
      "text/html": [
       "<div>\n",
       "<style scoped>\n",
       "    .dataframe tbody tr th:only-of-type {\n",
       "        vertical-align: middle;\n",
       "    }\n",
       "\n",
       "    .dataframe tbody tr th {\n",
       "        vertical-align: top;\n",
       "    }\n",
       "\n",
       "    .dataframe thead th {\n",
       "        text-align: right;\n",
       "    }\n",
       "</style>\n",
       "<table border=\"1\" class=\"dataframe\">\n",
       "  <thead>\n",
       "    <tr style=\"text-align: right;\">\n",
       "      <th></th>\n",
       "      <th>order_id</th>\n",
       "      <th>user_id</th>\n",
       "      <th>order_number</th>\n",
       "      <th>order_dow</th>\n",
       "      <th>order_hour_of_day</th>\n",
       "      <th>days_since_prior_order</th>\n",
       "    </tr>\n",
       "  </thead>\n",
       "  <tbody>\n",
       "    <tr>\n",
       "      <th>478964</th>\n",
       "      <td>885349</td>\n",
       "      <td>82944</td>\n",
       "      <td>16</td>\n",
       "      <td>2</td>\n",
       "      <td>11</td>\n",
       "      <td>6.0</td>\n",
       "    </tr>\n",
       "    <tr>\n",
       "      <th>478965</th>\n",
       "      <td>216274</td>\n",
       "      <td>4391</td>\n",
       "      <td>3</td>\n",
       "      <td>3</td>\n",
       "      <td>8</td>\n",
       "      <td>8.0</td>\n",
       "    </tr>\n",
       "    <tr>\n",
       "      <th>478966</th>\n",
       "      <td>2071924</td>\n",
       "      <td>1730</td>\n",
       "      <td>18</td>\n",
       "      <td>1</td>\n",
       "      <td>14</td>\n",
       "      <td>15.0</td>\n",
       "    </tr>\n",
       "  </tbody>\n",
       "</table>\n",
       "</div>"
      ],
      "text/plain": [
       "        order_id  user_id  order_number  order_dow  order_hour_of_day  \\\n",
       "478964    885349    82944            16          2                 11   \n",
       "478965    216274     4391             3          3                  8   \n",
       "478966   2071924     1730            18          1                 14   \n",
       "\n",
       "       days_since_prior_order  \n",
       "478964                    6.0  \n",
       "478965                    8.0  \n",
       "478966                   15.0  "
      ]
     },
     "execution_count": 3,
     "metadata": {},
     "output_type": "execute_result"
    }
   ],
   "source": [
    "# Reviewer's code\n",
    "\n",
    "display(orders.head(3))\n",
    "\n",
    "orders.tail(3)"
   ]
  },
  {
   "cell_type": "markdown",
   "id": "fabceadb",
   "metadata": {},
   "source": [
    "The code snippet's purpose is to load the data from the 'instacart_orders.csv' file into a pandas DataFrame named 'orders'.\n",
    "It aims to display an overview of the DataFrame's contents (using head()) and its structure (using info()).\n",
    "Separator (';') and decimal symbol (',') match the actual formatting of the CSV file to avoid parsing issues."
   ]
  },
  {
   "cell_type": "code",
   "execution_count": 4,
   "id": "65fa82ca",
   "metadata": {},
   "outputs": [],
   "source": [
    "# Convert 'object' column to 'float'\n",
    "orders['days_since_prior_order'] = orders['days_since_prior_order'].astype(float)"
   ]
  },
  {
   "cell_type": "markdown",
   "id": "939cbd6a",
   "metadata": {},
   "source": [
    "Converting the 'days_since_prior_order' column from 'object' to 'float' is a beneficial step to ensure consistent data representation, enable numerical computations, and enhance the accuracy and usability of the column's data for subsequent data analysis or modeling tasks."
   ]
  },
  {
   "cell_type": "code",
   "execution_count": 5,
   "id": "ad6a1efa",
   "metadata": {},
   "outputs": [
    {
     "data": {
      "text/html": [
       "<div>\n",
       "<style scoped>\n",
       "    .dataframe tbody tr th:only-of-type {\n",
       "        vertical-align: middle;\n",
       "    }\n",
       "\n",
       "    .dataframe tbody tr th {\n",
       "        vertical-align: top;\n",
       "    }\n",
       "\n",
       "    .dataframe thead th {\n",
       "        text-align: right;\n",
       "    }\n",
       "</style>\n",
       "<table border=\"1\" class=\"dataframe\">\n",
       "  <thead>\n",
       "    <tr style=\"text-align: right;\">\n",
       "      <th></th>\n",
       "      <th>product_id</th>\n",
       "      <th>product_name</th>\n",
       "      <th>aisle_id</th>\n",
       "      <th>department_id</th>\n",
       "    </tr>\n",
       "  </thead>\n",
       "  <tbody>\n",
       "    <tr>\n",
       "      <th>0</th>\n",
       "      <td>1</td>\n",
       "      <td>Chocolate Sandwich Cookies</td>\n",
       "      <td>61</td>\n",
       "      <td>19</td>\n",
       "    </tr>\n",
       "    <tr>\n",
       "      <th>1</th>\n",
       "      <td>2</td>\n",
       "      <td>All-Seasons Salt</td>\n",
       "      <td>104</td>\n",
       "      <td>13</td>\n",
       "    </tr>\n",
       "    <tr>\n",
       "      <th>2</th>\n",
       "      <td>3</td>\n",
       "      <td>Robust Golden Unsweetened Oolong Tea</td>\n",
       "      <td>94</td>\n",
       "      <td>7</td>\n",
       "    </tr>\n",
       "    <tr>\n",
       "      <th>3</th>\n",
       "      <td>4</td>\n",
       "      <td>Smart Ones Classic Favorites Mini Rigatoni Wit...</td>\n",
       "      <td>38</td>\n",
       "      <td>1</td>\n",
       "    </tr>\n",
       "    <tr>\n",
       "      <th>4</th>\n",
       "      <td>5</td>\n",
       "      <td>Green Chile Anytime Sauce</td>\n",
       "      <td>5</td>\n",
       "      <td>13</td>\n",
       "    </tr>\n",
       "  </tbody>\n",
       "</table>\n",
       "</div>"
      ],
      "text/plain": [
       "   product_id                                       product_name  aisle_id  \\\n",
       "0           1                         Chocolate Sandwich Cookies        61   \n",
       "1           2                                   All-Seasons Salt       104   \n",
       "2           3               Robust Golden Unsweetened Oolong Tea        94   \n",
       "3           4  Smart Ones Classic Favorites Mini Rigatoni Wit...        38   \n",
       "4           5                          Green Chile Anytime Sauce         5   \n",
       "\n",
       "   department_id  \n",
       "0             19  \n",
       "1             13  \n",
       "2              7  \n",
       "3              1  \n",
       "4             13  "
      ]
     },
     "metadata": {},
     "output_type": "display_data"
    },
    {
     "name": "stdout",
     "output_type": "stream",
     "text": [
      "<class 'pandas.core.frame.DataFrame'>\n",
      "RangeIndex: 49694 entries, 0 to 49693\n",
      "Data columns (total 4 columns):\n",
      " #   Column         Non-Null Count  Dtype \n",
      "---  ------         --------------  ----- \n",
      " 0   product_id     49694 non-null  int64 \n",
      " 1   product_name   48436 non-null  object\n",
      " 2   aisle_id       49694 non-null  int64 \n",
      " 3   department_id  49694 non-null  int64 \n",
      "dtypes: int64(3), object(1)\n",
      "memory usage: 1.5+ MB\n"
     ]
    }
   ],
   "source": [
    "products = pd.read_csv('/datasets/products.csv', sep=';')\n",
    "display(products.head())\n",
    "products.info()"
   ]
  },
  {
   "cell_type": "code",
   "execution_count": 6,
   "id": "5130e05e",
   "metadata": {},
   "outputs": [
    {
     "data": {
      "text/html": [
       "<div>\n",
       "<style scoped>\n",
       "    .dataframe tbody tr th:only-of-type {\n",
       "        vertical-align: middle;\n",
       "    }\n",
       "\n",
       "    .dataframe tbody tr th {\n",
       "        vertical-align: top;\n",
       "    }\n",
       "\n",
       "    .dataframe thead th {\n",
       "        text-align: right;\n",
       "    }\n",
       "</style>\n",
       "<table border=\"1\" class=\"dataframe\">\n",
       "  <thead>\n",
       "    <tr style=\"text-align: right;\">\n",
       "      <th></th>\n",
       "      <th>aisle_id</th>\n",
       "      <th>aisle</th>\n",
       "    </tr>\n",
       "  </thead>\n",
       "  <tbody>\n",
       "    <tr>\n",
       "      <th>0</th>\n",
       "      <td>1</td>\n",
       "      <td>prepared soups salads</td>\n",
       "    </tr>\n",
       "    <tr>\n",
       "      <th>1</th>\n",
       "      <td>2</td>\n",
       "      <td>specialty cheeses</td>\n",
       "    </tr>\n",
       "    <tr>\n",
       "      <th>2</th>\n",
       "      <td>3</td>\n",
       "      <td>energy granola bars</td>\n",
       "    </tr>\n",
       "    <tr>\n",
       "      <th>3</th>\n",
       "      <td>4</td>\n",
       "      <td>instant foods</td>\n",
       "    </tr>\n",
       "    <tr>\n",
       "      <th>4</th>\n",
       "      <td>5</td>\n",
       "      <td>marinades meat preparation</td>\n",
       "    </tr>\n",
       "  </tbody>\n",
       "</table>\n",
       "</div>"
      ],
      "text/plain": [
       "   aisle_id                       aisle\n",
       "0         1       prepared soups salads\n",
       "1         2           specialty cheeses\n",
       "2         3         energy granola bars\n",
       "3         4               instant foods\n",
       "4         5  marinades meat preparation"
      ]
     },
     "metadata": {},
     "output_type": "display_data"
    },
    {
     "name": "stdout",
     "output_type": "stream",
     "text": [
      "<class 'pandas.core.frame.DataFrame'>\n",
      "RangeIndex: 134 entries, 0 to 133\n",
      "Data columns (total 2 columns):\n",
      " #   Column    Non-Null Count  Dtype \n",
      "---  ------    --------------  ----- \n",
      " 0   aisle_id  134 non-null    int64 \n",
      " 1   aisle     134 non-null    object\n",
      "dtypes: int64(1), object(1)\n",
      "memory usage: 2.2+ KB\n"
     ]
    }
   ],
   "source": [
    "aisles = pd.read_csv('/datasets/aisles.csv', sep=';')\n",
    "display(aisles.head())\n",
    "aisles.info()"
   ]
  },
  {
   "cell_type": "markdown",
   "id": "81934e67",
   "metadata": {},
   "source": [
    "The code snippet's purpose is to load the data from the 'aisles.csv' file into a pandas DataFrame named 'orders'.\n",
    "It aims to display an overview of the DataFrame's contents (using head()) and its structure (using info()).\n",
    "Separator (';') match the actual formatting of the CSV file to avoid parsing issues."
   ]
  },
  {
   "cell_type": "code",
   "execution_count": 7,
   "id": "d8370c05",
   "metadata": {},
   "outputs": [
    {
     "data": {
      "text/html": [
       "<div>\n",
       "<style scoped>\n",
       "    .dataframe tbody tr th:only-of-type {\n",
       "        vertical-align: middle;\n",
       "    }\n",
       "\n",
       "    .dataframe tbody tr th {\n",
       "        vertical-align: top;\n",
       "    }\n",
       "\n",
       "    .dataframe thead th {\n",
       "        text-align: right;\n",
       "    }\n",
       "</style>\n",
       "<table border=\"1\" class=\"dataframe\">\n",
       "  <thead>\n",
       "    <tr style=\"text-align: right;\">\n",
       "      <th></th>\n",
       "      <th>department_id</th>\n",
       "      <th>department</th>\n",
       "    </tr>\n",
       "  </thead>\n",
       "  <tbody>\n",
       "    <tr>\n",
       "      <th>0</th>\n",
       "      <td>1</td>\n",
       "      <td>frozen</td>\n",
       "    </tr>\n",
       "    <tr>\n",
       "      <th>1</th>\n",
       "      <td>2</td>\n",
       "      <td>other</td>\n",
       "    </tr>\n",
       "    <tr>\n",
       "      <th>2</th>\n",
       "      <td>3</td>\n",
       "      <td>bakery</td>\n",
       "    </tr>\n",
       "    <tr>\n",
       "      <th>3</th>\n",
       "      <td>4</td>\n",
       "      <td>produce</td>\n",
       "    </tr>\n",
       "    <tr>\n",
       "      <th>4</th>\n",
       "      <td>5</td>\n",
       "      <td>alcohol</td>\n",
       "    </tr>\n",
       "  </tbody>\n",
       "</table>\n",
       "</div>"
      ],
      "text/plain": [
       "   department_id department\n",
       "0              1     frozen\n",
       "1              2      other\n",
       "2              3     bakery\n",
       "3              4    produce\n",
       "4              5    alcohol"
      ]
     },
     "metadata": {},
     "output_type": "display_data"
    },
    {
     "name": "stdout",
     "output_type": "stream",
     "text": [
      "<class 'pandas.core.frame.DataFrame'>\n",
      "RangeIndex: 21 entries, 0 to 20\n",
      "Data columns (total 2 columns):\n",
      " #   Column         Non-Null Count  Dtype \n",
      "---  ------         --------------  ----- \n",
      " 0   department_id  21 non-null     int64 \n",
      " 1   department     21 non-null     object\n",
      "dtypes: int64(1), object(1)\n",
      "memory usage: 464.0+ bytes\n"
     ]
    }
   ],
   "source": [
    "departments = pd.read_csv('/datasets/departments.csv', sep=';')\n",
    "display(departments.head())\n",
    "departments.info()"
   ]
  },
  {
   "cell_type": "markdown",
   "id": "e2c87a78",
   "metadata": {},
   "source": [
    "The code snippet's purpose is to load the data from the 'departments.csv' file into a pandas DataFrame named 'orders'.\n",
    "It aims to display an overview of the DataFrame's contents (using head()) and its structure (using info()).\n",
    "Separator (';') match the actual formatting of the CSV file to avoid parsing issues."
   ]
  },
  {
   "cell_type": "code",
   "execution_count": 8,
   "id": "59e2090f",
   "metadata": {},
   "outputs": [
    {
     "data": {
      "text/html": [
       "<div>\n",
       "<style scoped>\n",
       "    .dataframe tbody tr th:only-of-type {\n",
       "        vertical-align: middle;\n",
       "    }\n",
       "\n",
       "    .dataframe tbody tr th {\n",
       "        vertical-align: top;\n",
       "    }\n",
       "\n",
       "    .dataframe thead th {\n",
       "        text-align: right;\n",
       "    }\n",
       "</style>\n",
       "<table border=\"1\" class=\"dataframe\">\n",
       "  <thead>\n",
       "    <tr style=\"text-align: right;\">\n",
       "      <th></th>\n",
       "      <th>order_id</th>\n",
       "      <th>product_id</th>\n",
       "      <th>add_to_cart_order</th>\n",
       "      <th>reordered</th>\n",
       "    </tr>\n",
       "  </thead>\n",
       "  <tbody>\n",
       "    <tr>\n",
       "      <th>0</th>\n",
       "      <td>2141543</td>\n",
       "      <td>11440</td>\n",
       "      <td>17.0</td>\n",
       "      <td>0</td>\n",
       "    </tr>\n",
       "    <tr>\n",
       "      <th>1</th>\n",
       "      <td>567889</td>\n",
       "      <td>1560</td>\n",
       "      <td>1.0</td>\n",
       "      <td>1</td>\n",
       "    </tr>\n",
       "    <tr>\n",
       "      <th>2</th>\n",
       "      <td>2261212</td>\n",
       "      <td>26683</td>\n",
       "      <td>1.0</td>\n",
       "      <td>1</td>\n",
       "    </tr>\n",
       "    <tr>\n",
       "      <th>3</th>\n",
       "      <td>491251</td>\n",
       "      <td>8670</td>\n",
       "      <td>35.0</td>\n",
       "      <td>1</td>\n",
       "    </tr>\n",
       "    <tr>\n",
       "      <th>4</th>\n",
       "      <td>2571142</td>\n",
       "      <td>1940</td>\n",
       "      <td>5.0</td>\n",
       "      <td>1</td>\n",
       "    </tr>\n",
       "  </tbody>\n",
       "</table>\n",
       "</div>"
      ],
      "text/plain": [
       "   order_id  product_id add_to_cart_order  reordered\n",
       "0   2141543       11440              17.0          0\n",
       "1    567889        1560               1.0          1\n",
       "2   2261212       26683               1.0          1\n",
       "3    491251        8670              35.0          1\n",
       "4   2571142        1940               5.0          1"
      ]
     },
     "metadata": {},
     "output_type": "display_data"
    },
    {
     "name": "stdout",
     "output_type": "stream",
     "text": [
      "<class 'pandas.core.frame.DataFrame'>\n",
      "RangeIndex: 4545007 entries, 0 to 4545006\n",
      "Data columns (total 4 columns):\n",
      " #   Column             Non-Null Count    Dtype \n",
      "---  ------             --------------    ----- \n",
      " 0   order_id           4545007 non-null  int64 \n",
      " 1   product_id         4545007 non-null  int64 \n",
      " 2   add_to_cart_order  4544171 non-null  object\n",
      " 3   reordered          4545007 non-null  int64 \n",
      "dtypes: int64(3), object(1)\n",
      "memory usage: 138.7+ MB\n"
     ]
    }
   ],
   "source": [
    "order_products = pd.read_csv('/datasets/order_products.csv', sep=';', decimal=',',)\n",
    "display(order_products.head())\n",
    "order_products.info(show_counts=True)"
   ]
  },
  {
   "cell_type": "markdown",
   "id": "eee09510",
   "metadata": {},
   "source": [
    "The code snippet's purpose is to load the data from the 'order_products.csv' file into a pandas DataFrame named 'orders'.\n",
    "It aims to display an overview of the DataFrame's contents (using head()) and its structure (using info()).\n",
    "Separator (';') and decimal symbol (',') match the actual formatting of the CSV file to avoid parsing issues."
   ]
  },
  {
   "cell_type": "code",
   "execution_count": 9,
   "id": "b4133425",
   "metadata": {},
   "outputs": [],
   "source": [
    "# Convert 'object' column to 'float' (if the data is convertible)\n",
    "order_products['add_to_cart_order'] = order_products['add_to_cart_order'].astype(float)"
   ]
  },
  {
   "cell_type": "markdown",
   "id": "110cf3a0",
   "metadata": {},
   "source": [
    "Converting the 'add_to_cart_order' column from 'object' to 'float' is a beneficial step to ensure consistent data representation, enable numerical computations, and enhance the accuracy and usability of the column's data for subsequent data analysis or modeling tasks."
   ]
  },
  {
   "cell_type": "markdown",
   "id": "07357848-dc64-4156-9cc3-01ff4365226d",
   "metadata": {},
   "source": [
    "## Find and remove duplicate values (and describe why you make your choices)"
   ]
  },
  {
   "cell_type": "markdown",
   "id": "f179f0a9",
   "metadata": {},
   "source": [
    "### `orders` data frame"
   ]
  },
  {
   "cell_type": "code",
   "execution_count": 10,
   "id": "b99297a5-405a-463d-8535-9adc3da4ad74",
   "metadata": {},
   "outputs": [
    {
     "name": "stdout",
     "output_type": "stream",
     "text": [
      "15\n"
     ]
    }
   ],
   "source": [
    "# Check for duplicated orders\n",
    "print(orders.duplicated().sum())"
   ]
  },
  {
   "cell_type": "markdown",
   "id": "a82da529",
   "metadata": {},
   "source": [
    "The code snippet uses the duplicated() method to detect duplicated rows in the 'orders' DataFrame and subsequently counts the total number of duplicated orders, which amounts to 15 duplicated instances within the dataset."
   ]
  },
  {
   "cell_type": "code",
   "execution_count": 11,
   "id": "0d44de5d",
   "metadata": {},
   "outputs": [
    {
     "name": "stdout",
     "output_type": "stream",
     "text": [
      "        order_id  user_id  order_number  order_dow  order_hour_of_day  \\\n",
      "1295     1474941   115569             5          2                  2   \n",
      "2391     1640269   173965            15          2                  2   \n",
      "2550     1223696    55276            11          2                  2   \n",
      "5965      579194    85018            14          2                  2   \n",
      "17680    2004230   203121             4          2                  2   \n",
      "...          ...      ...           ...        ...                ...   \n",
      "457660   1562381    19378             5          2                  2   \n",
      "460316   1986084   117453            81          2                  2   \n",
      "462676   1362113    19654            20          2                  2   \n",
      "472800   1746383    88484            19          2                  2   \n",
      "472923   1519815   149345             1          2                  2   \n",
      "\n",
      "        days_since_prior_order  \n",
      "1295                      28.0  \n",
      "2391                       2.0  \n",
      "2550                      30.0  \n",
      "5965                      11.0  \n",
      "17680                      8.0  \n",
      "...                        ...  \n",
      "457660                     6.0  \n",
      "460316                     8.0  \n",
      "462676                    21.0  \n",
      "472800                     5.0  \n",
      "472923                     NaN  \n",
      "\n",
      "[136 rows x 6 columns]\n"
     ]
    }
   ],
   "source": [
    "# Check for all orders placed Wednesday at 2:00 AM\n",
    "print(orders[(orders['order_dow'] == 2) & (orders['order_hour_of_day'] == 2)])"
   ]
  },
  {
   "cell_type": "markdown",
   "id": "62119fc1",
   "metadata": {},
   "source": [
    "This code assumes that the 'order_dow' column represents days of the week where Wednesday is denoted by 2 and 'order_hour_of_day' is using a 24-hour format where 2 stands for 2:00 AM."
   ]
  },
  {
   "cell_type": "code",
   "execution_count": 12,
   "id": "480563c7",
   "metadata": {},
   "outputs": [],
   "source": [
    "# Remove duplicate orders\n",
    "orders = orders.drop_duplicates(subset='order_id').reset_index(drop=True)"
   ]
  },
  {
   "cell_type": "markdown",
   "id": "18153a10",
   "metadata": {},
   "source": [
    "The code snippet using drop_duplicates() with 'order_id' as the subset efficiently removes duplicate orders from the 'orders' DataFrame, resulting in a dataset containing distinct and non-repeated 'order_id' entries."
   ]
  },
  {
   "cell_type": "code",
   "execution_count": 13,
   "id": "0b2396a2",
   "metadata": {},
   "outputs": [
    {
     "name": "stdout",
     "output_type": "stream",
     "text": [
      "0\n"
     ]
    }
   ],
   "source": [
    "# Double check for duplicate rows\n",
    "print(orders.duplicated().sum()) "
   ]
  },
  {
   "cell_type": "markdown",
   "id": "8e310ba1",
   "metadata": {},
   "source": [
    "orders.duplicated().sum() confirm that after removing duplicates based on 'order_id', there are no more duplicate rows present in the 'orders' DataFrame."
   ]
  },
  {
   "cell_type": "code",
   "execution_count": 14,
   "id": "f6113ef1",
   "metadata": {},
   "outputs": [
    {
     "data": {
      "text/plain": [
       "1048576    1\n",
       "1073164    1\n",
       "1079311    1\n",
       "2129936    1\n",
       "402526     1\n",
       "          ..\n",
       "2117923    1\n",
       "2197455    1\n",
       "1152973    1\n",
       "47081      1\n",
       "2047       1\n",
       "Name: order_id, Length: 478952, dtype: int64"
      ]
     },
     "metadata": {},
     "output_type": "display_data"
    }
   ],
   "source": [
    "# Double check for duplicate order IDs only\n",
    "order_id_counts = orders['order_id'].value_counts().sort_values()\n",
    "\n",
    "# Display the sorted and filtered counts\n",
    "display(order_id_counts)"
   ]
  },
  {
   "cell_type": "markdown",
   "id": "b6572f0d",
   "metadata": {},
   "source": [
    "The output of orders['order_id'].value_counts() reaffirms that each 'order_id' appears only once in the 'orders' DataFrame, with all 'order_id' values having a frequency count of '1'. This confirms the absence of duplicate 'order_id' entries and ensures that each 'order_id' remains unique within the dataset."
   ]
  },
  {
   "cell_type": "markdown",
   "id": "45e6bc46",
   "metadata": {},
   "source": [
    "### `products` data frame"
   ]
  },
  {
   "cell_type": "code",
   "execution_count": 15,
   "id": "5f526b5b-8175-46fa-a0fd-441767d50e64",
   "metadata": {},
   "outputs": [
    {
     "name": "stdout",
     "output_type": "stream",
     "text": [
      "0\n"
     ]
    }
   ],
   "source": [
    "# Check for fully duplicate rows\n",
    "print(products.duplicated().sum())"
   ]
  },
  {
   "cell_type": "markdown",
   "id": "6e151ea8",
   "metadata": {},
   "source": [
    "Both products.duplicated() and products.duplicated().sum() confirm that there are no duplicate rows present in the 'products' DataFrame."
   ]
  },
  {
   "cell_type": "code",
   "execution_count": 16,
   "id": "88daa4f4",
   "metadata": {},
   "outputs": [
    {
     "data": {
      "text/plain": [
       "2049     1\n",
       "32       1\n",
       "49176    1\n",
       "24588    1\n",
       "6147     1\n",
       "        ..\n",
       "10235    1\n",
       "8188     1\n",
       "6141     1\n",
       "1983     1\n",
       "2047     1\n",
       "Name: product_id, Length: 49694, dtype: int64"
      ]
     },
     "metadata": {},
     "output_type": "display_data"
    }
   ],
   "source": [
    "# Check for just duplicate product IDs\n",
    "products_counts = products['product_id'].value_counts().sort_values()\n",
    "\n",
    "# Display the sorted and filtered counts\n",
    "display(products_counts)"
   ]
  },
  {
   "cell_type": "markdown",
   "id": "099aa37c",
   "metadata": {},
   "source": [
    "The output of products['product_id'].value_counts() reaffirms that each 'product_id' appears only once in the 'products' DataFrame, with all 'product_id' values having a frequency count of '1'. This confirms the absence of duplicate 'product_id' entries and ensures that each 'product_id' remains unique within the dataset."
   ]
  },
  {
   "cell_type": "code",
   "execution_count": 17,
   "id": "c773f0bf",
   "metadata": {},
   "outputs": [
    {
     "name": "stdout",
     "output_type": "stream",
     "text": [
      "green tea with ginseng and honey                    3\n",
      "cream of tartar                                     2\n",
      "18-in-1 hemp peppermint pure-castile soap           2\n",
      "pineapple slices in heavy syrup                     2\n",
      "skinless & boneless sardines in olive oil           2\n",
      "                                                   ..\n",
      "deli style roast beef thin sliced                   1\n",
      "kasha- 100% pure roasted whole grain buckwheat      1\n",
      "simply dressed balsamic vinaigrette                 1\n",
      "peppermint caffeine free herbal tea - 40 ct         1\n",
      "cold max daytime non-drowsy citrus burst™ liquid    1\n",
      "Name: product_name, Length: 48332, dtype: int64\n",
      "\n",
      "The number of duplicated rows based on product names (after converting to lowercase) is: 1361\n"
     ]
    }
   ],
   "source": [
    "# Check for just duplicate product names (convert names to lowercase to compare better)\n",
    "products['product_name'] = products['product_name'].str.lower()\n",
    "products_counts = products['product_name'].value_counts()\n",
    "duplicates_count = products.duplicated(subset=['product_name']).sum()\n",
    "\n",
    "print(products_counts)\n",
    "print()\n",
    "print(f\"The number of duplicated rows based on product names (after converting to lowercase) is: {duplicates_count}\")"
   ]
  },
  {
   "cell_type": "markdown",
   "id": "31d25183",
   "metadata": {},
   "source": [
    "The provided output represents the count of occurrences for each product name after converting them to lowercase. It appears that there are 48,333 unique product names in the dataset. Among these, some products have multiple occurrences while the majority are listed only once. Additionally, there are 1,258 entries labeled as 'unknown'.\n",
    "\n",
    "This summary implies a diverse range of products, with some appearing more frequently than others, while a significant portion consists of unique items. Moreover, the presence of 'unknown' entries might indicate missing or unidentified product information in the dataset."
   ]
  },
  {
   "cell_type": "code",
   "execution_count": 18,
   "id": "01efd02e",
   "metadata": {},
   "outputs": [
    {
     "name": "stdout",
     "output_type": "stream",
     "text": [
      "green tea with ginseng and honey         3\n",
      "cream of tartar                          2\n",
      "mandarin oranges in light syrup          2\n",
      "drinking water                           2\n",
      "mozzarella sticks with marinara sauce    2\n",
      "                                        ..\n",
      "sea salt caramel ice cream               2\n",
      "matzo ball mix                           2\n",
      "chipotle peppers in adobo sauce          2\n",
      "dark chocolate with almonds              2\n",
      "dulce de leche caramel ice cream         2\n",
      "Name: product_name, Length: 103, dtype: int64\n"
     ]
    }
   ],
   "source": [
    "# Check for duplicate product names that aren't missing\n",
    "# Filter out rows where product_name is not 'unknown'\n",
    "valid_products = products[products['product_name'] != 'unknown']\n",
    "\n",
    "# Check for duplicate product names among valid products\n",
    "duplicate_products = valid_products[valid_products.duplicated(subset='product_name', keep=False)]\n",
    "\n",
    "# Display duplicate product names\n",
    "print(duplicate_products['product_name'].value_counts())"
   ]
  },
  {
   "cell_type": "markdown",
   "id": "9da8d293",
   "metadata": {},
   "source": [
    "The provided code filters out rows with product names labeled as 'unknown' and identifies duplicate product names among the valid products. The resulting output shows the count of occurrences for each duplicate product name, excluding those labeled as 'unknown'. This helps in understanding how many non-missing product names appear more than once in the dataset."
   ]
  },
  {
   "cell_type": "code",
   "execution_count": 19,
   "id": "337ba96b",
   "metadata": {},
   "outputs": [
    {
     "name": "stdout",
     "output_type": "stream",
     "text": [
      "100% pure premium canola oil                        1\n",
      "white onion                                         1\n",
      "raspberry tart fruit spread                         1\n",
      "organic rice protein vanilla single                 1\n",
      "rip-l potato chips twin pack                        1\n",
      "                                                   ..\n",
      "chicken margherita                                  1\n",
      "mini cream puff                                     1\n",
      "pure cane rough cut sugar cubes                     1\n",
      "moisturizing lotion                                 1\n",
      "cold max daytime non-drowsy citrus burst™ liquid    1\n",
      "Name: product_name, Length: 48332, dtype: int64\n"
     ]
    }
   ],
   "source": [
    "# Remove duplicate products\n",
    "products = products.drop_duplicates(subset='product_name')\n",
    "\n",
    "# Reset indices\n",
    "products = products.reset_index(drop=True)\n",
    "\n",
    "# Check for duplicate product names\n",
    "print(products['product_name'].value_counts().sort_values())"
   ]
  },
  {
   "cell_type": "markdown",
   "id": "16a38d53",
   "metadata": {},
   "source": [
    "The code snippet using drop_duplicates() with 'product_name' as the subset efficiently removes duplicate products from the 'products' DataFrame. The output of products['product_name'].value_counts() reaffirms that each 'product_name' appears only once in the 'products' DataFrame, with all 'product_name' values having a frequency count of '1'. This confirms the absence of duplicate 'product_name' entries and ensures that each 'product_name' remains unique within the dataset."
   ]
  },
  {
   "cell_type": "markdown",
   "id": "60f30db1",
   "metadata": {},
   "source": [
    "### `departments` data frame"
   ]
  },
  {
   "cell_type": "code",
   "execution_count": 20,
   "id": "fb410ad4-0fbf-4b80-bb09-23fdea79afe3",
   "metadata": {},
   "outputs": [
    {
     "name": "stdout",
     "output_type": "stream",
     "text": [
      "Duplicate Department IDs:\n",
      "Empty DataFrame\n",
      "Columns: [department_id, department]\n",
      "Index: []\n",
      "1     1\n",
      "2     1\n",
      "3     1\n",
      "4     1\n",
      "5     1\n",
      "6     1\n",
      "7     1\n",
      "8     1\n",
      "9     1\n",
      "10    1\n",
      "11    1\n",
      "12    1\n",
      "13    1\n",
      "14    1\n",
      "15    1\n",
      "16    1\n",
      "17    1\n",
      "18    1\n",
      "19    1\n",
      "20    1\n",
      "21    1\n",
      "Name: department_id, dtype: int64\n"
     ]
    }
   ],
   "source": [
    "# Check for duplicates based on 'department_id'\n",
    "duplicate_department_ids = departments[departments.duplicated(subset='department_id', keep=False)]\n",
    "\n",
    "# Display the duplicate entries based on department_id\n",
    "print(\"Duplicate Department IDs:\")\n",
    "print(duplicate_department_ids)\n",
    "print(departments['department_id'].value_counts().sort_index())"
   ]
  },
  {
   "cell_type": "markdown",
   "id": "5033ce10",
   "metadata": {},
   "source": [
    "The output suggests that there are no duplicate entries based on the 'department_id' column in the 'departments.csv' file."
   ]
  },
  {
   "cell_type": "markdown",
   "id": "889349c1",
   "metadata": {},
   "source": [
    "### `aisles` data frame"
   ]
  },
  {
   "cell_type": "code",
   "execution_count": 21,
   "id": "9da89fb9-4679-40f5-ad0d-c34df753a3f8",
   "metadata": {},
   "outputs": [
    {
     "name": "stdout",
     "output_type": "stream",
     "text": [
      "Duplicate aisles IDs:\n",
      "Empty DataFrame\n",
      "Columns: [aisle_id, aisle]\n",
      "Index: []\n",
      "1      1\n",
      "2      1\n",
      "3      1\n",
      "4      1\n",
      "5      1\n",
      "      ..\n",
      "130    1\n",
      "131    1\n",
      "132    1\n",
      "133    1\n",
      "134    1\n",
      "Name: aisle_id, Length: 134, dtype: int64\n"
     ]
    }
   ],
   "source": [
    "# Check for duplicates based on 'department_id'\n",
    "duplicate_aisles_ids = aisles[aisles.duplicated(subset='aisle_id', keep=False)]\n",
    "\n",
    "# Display the duplicate entries based on department_id\n",
    "print(\"Duplicate aisles IDs:\")\n",
    "print(duplicate_aisles_ids)\n",
    "print(aisles['aisle_id'].value_counts().sort_index())"
   ]
  },
  {
   "cell_type": "markdown",
   "id": "f3dbb512",
   "metadata": {},
   "source": [
    "The output suggests that there are no duplicate entries based on the 'aisle_id' column in the 'aisles.csv' file."
   ]
  },
  {
   "cell_type": "markdown",
   "id": "274cd06a",
   "metadata": {},
   "source": [
    "### `order_products` data frame"
   ]
  },
  {
   "cell_type": "code",
   "execution_count": 22,
   "id": "52326689-84a8-4b8f-a881-7c68780f62c9",
   "metadata": {},
   "outputs": [
    {
     "name": "stdout",
     "output_type": "stream",
     "text": [
      "There are no fully duplicated rows in the order_products.csv file.\n"
     ]
    }
   ],
   "source": [
    "# Check for fullly duplicate rows\n",
    "duplicate_rows = order_products[order_products.duplicated(keep=False)]\n",
    "\n",
    "if duplicate_rows.empty:\n",
    "    print(\"There are no fully duplicated rows in the order_products.csv file.\")\n",
    "else:\n",
    "    print(\"Fully duplicated rows:\")\n",
    "    print(duplicate_rows)"
   ]
  },
  {
   "cell_type": "code",
   "execution_count": 23,
   "id": "7b861391",
   "metadata": {},
   "outputs": [
    {
     "name": "stdout",
     "output_type": "stream",
     "text": [
      "No partial duplicates based on 'order_id' and 'product_id'.\n",
      "\n",
      "No duplicate combinations of 'order_id', 'product_id', and 'add_to_cart_order'.\n",
      "\n",
      "Unique counts for each column:\n",
      "order_id             450046\n",
      "product_id            45573\n",
      "add_to_cart_order        64\n",
      "reordered                 2\n",
      "dtype: int64\n"
     ]
    }
   ],
   "source": [
    "# Double check for any other tricky duplicates\n",
    "partial_duplicates = order_products[order_products.duplicated(subset=['order_id', 'product_id'], keep=False)]\n",
    "\n",
    "if not partial_duplicates.empty:\n",
    "    print(\"Partial duplicates based on 'order_id' and 'product_id':\")\n",
    "    print(partial_duplicates)\n",
    "else:\n",
    "    print(\"No partial duplicates based on 'order_id' and 'product_id'.\")\n",
    "\n",
    "# Check for duplicate combinations considering a subset of columns\n",
    "subset_columns = ['order_id', 'product_id', 'add_to_cart_order']\n",
    "duplicate_combinations = order_products[order_products.duplicated(subset=subset_columns, keep=False)]\n",
    "\n",
    "if not duplicate_combinations.empty:\n",
    "    print(\"\\nDuplicate combinations of 'order_id', 'product_id', and 'add_to_cart_order':\")\n",
    "    print(duplicate_combinations)\n",
    "else:\n",
    "    print(\"\\nNo duplicate combinations of 'order_id', 'product_id', and 'add_to_cart_order'.\")\n",
    "\n",
    "# Check distinct counts across columns\n",
    "column_counts = order_products.nunique()\n",
    "print(\"\\nUnique counts for each column:\")\n",
    "print(column_counts)"
   ]
  },
  {
   "cell_type": "markdown",
   "id": "0b890492",
   "metadata": {},
   "source": [
    "This code checks for partial duplicates based on specific columns (order_id and product_id), duplicate combinations of a subset of columns (order_id, product_id, and add_to_cart_order), and also provides the unique counts for each column."
   ]
  },
  {
   "cell_type": "markdown",
   "id": "1e46de76",
   "metadata": {},
   "source": [
    "## Find and remove missing values\n"
   ]
  },
  {
   "cell_type": "markdown",
   "id": "c0aebd78",
   "metadata": {},
   "source": [
    "### `products` data frame"
   ]
  },
  {
   "cell_type": "code",
   "execution_count": 24,
   "id": "e96167bc",
   "metadata": {},
   "outputs": [
    {
     "name": "stdout",
     "output_type": "stream",
     "text": [
      "All missing product names are associated with aisle ID 100.\n"
     ]
    }
   ],
   "source": [
    "# Are all of the missing product names associated with aisle ID 100?\n",
    "# Filter rows with missing product names\n",
    "missing_product_names = products[products['product_name'].isnull()]\n",
    "\n",
    "# Check if all missing product names are associated with aisle ID 100\n",
    "associated_with_aisle_100 = missing_product_names['aisle_id'].nunique() == 1 and missing_product_names['aisle_id'].iloc[0] == 100\n",
    "\n",
    "if associated_with_aisle_100:\n",
    "    print(\"All missing product names are associated with aisle ID 100.\")\n",
    "else:\n",
    "    print(\"Missing product names are associated with different aisle IDs.\")"
   ]
  },
  {
   "cell_type": "code",
   "execution_count": 25,
   "id": "8fd0a541",
   "metadata": {},
   "outputs": [
    {
     "name": "stdout",
     "output_type": "stream",
     "text": [
      "All missing product names are associated with department ID 21.\n"
     ]
    }
   ],
   "source": [
    "# Are all of the missing product names associated with department ID 21?\n",
    "# Check if all missing product names are associated with aisle ID 100\n",
    "associated_with_department_21 = missing_product_names['department_id'].nunique() == 1 and missing_product_names['department_id'].iloc[0] == 21\n",
    "\n",
    "if associated_with_department_21:\n",
    "    print(\"All missing product names are associated with department ID 21.\")\n",
    "else:\n",
    "    print(\"Missing product names are associated with different department IDs.\")"
   ]
  },
  {
   "cell_type": "code",
   "execution_count": 26,
   "id": "325c3464",
   "metadata": {},
   "outputs": [
    {
     "name": "stdout",
     "output_type": "stream",
     "text": [
      "The aisle associated with ID 100 is 'missing'.\n",
      "The department associated with ID 21 is 'missing'.\n"
     ]
    }
   ],
   "source": [
    "# What is this ailse and department?\n",
    "# Assuming 'aisles' and 'departments' are DataFrames containing aisle and department details\n",
    "aisle_100_name = aisles[aisles['aisle_id'] == 100]['aisle'].iloc[0]\n",
    "department_21_name = departments[departments['department_id'] == 21]['department'].iloc[0]\n",
    "\n",
    "print(f\"The aisle associated with ID 100 is '{aisle_100_name}'.\")\n",
    "print(f\"The department associated with ID 21 is '{department_21_name}'.\")"
   ]
  },
  {
   "cell_type": "markdown",
   "id": "671fa376",
   "metadata": {},
   "source": [
    "It seems that the data in 'aisles' and 'departments' DataFrames might have missing or incomplete information regarding the details of aisle and department names associated with IDs 100 and 21. The output stating 'missing' implies that there might not be corresponding aisle or department names available for those specific IDs in dataset."
   ]
  },
  {
   "cell_type": "code",
   "execution_count": 27,
   "id": "6b295120",
   "metadata": {},
   "outputs": [
    {
     "name": "stdout",
     "output_type": "stream",
     "text": [
      "36910    gillette venus swirl razor- with flexi ball- p...\n",
      "35668                           supreme turtle brownie mix\n",
      "16619         clean freak refreshing unscented dry shampoo\n",
      "40202    original skin protectant/sunscreen spf 15 mois...\n",
      "38162    gluten free organic gluten free quick golden g...\n",
      "41875    clinical strength smooth solid women's antiper...\n",
      "28466                                      veggie deli ham\n",
      "45936                                     pepperoni slices\n",
      "5928             grilled chicken quesadilla with guacamole\n",
      "28242                                                 plum\n",
      "6117                  handmade pennsylvania dutch pretzels\n",
      "3545          jacked ranch dipped hot wings tortilla chips\n",
      "43011                       9 foot grounded extension cord\n",
      "26760                        boudin sliced sourdough round\n",
      "28292                                  organic beans pinto\n",
      "44825             nebraska barn raising split pea soup mix\n",
      "10715    garbage disposal freshener & cleaner red pear ...\n",
      "8869          naturally rising crust classic supreme pizza\n",
      "27429                          not your father's root beer\n",
      "24022             ps100 phosphatidylserine 100 mg softgels\n",
      "Name: product_name, dtype: object\n"
     ]
    }
   ],
   "source": [
    "# Fill missing product names with 'Unknown'\n",
    "products['product_name'] = products['product_name'].fillna('Unknown')\n",
    "\n",
    "print(products['product_name'].sample(20))"
   ]
  },
  {
   "cell_type": "markdown",
   "id": "7eb45c86",
   "metadata": {},
   "source": [
    "### `orders` data frame"
   ]
  },
  {
   "cell_type": "markdown",
   "id": "4e212f5c",
   "metadata": {},
   "source": [
    "To determine if there are any missing values in the days_since_prior_order column where it's not a customer's first order, you we need to look at the instacart_orders.csv table.\n",
    "\n",
    "The column days_since_prior_order signifies the number of days since the customer placed their previous order. For a customer's first order, there might be missing values since there is no prior order to reference.\n",
    "\n",
    "We can check for missing values in the days_since_prior_order column where it's not the customer's first order by filtering out the rows where order_number is greater than 1. This is because order_number indicates the number of times a customer has placed an order, and for orders with an order_number greater than 1, we can then investigate whether there are missing values in the days_since_prior_order column."
   ]
  },
  {
   "cell_type": "code",
   "execution_count": 28,
   "id": "166e5a86",
   "metadata": {},
   "outputs": [
    {
     "name": "stdout",
     "output_type": "stream",
     "text": [
      "There are missing values in days_since_prior_order where it's not a customer's first order.\n"
     ]
    }
   ],
   "source": [
    "# Are there any missing values where it's not a customer's first order?\n",
    "missing_values = orders[(orders['order_number'] != 1)].isna().sum()\n",
    "\n",
    "if missing_values.empty:\n",
    "    print(\"There are no missing values in days_since_prior_order where it's not a customer's first order.\")\n",
    "else:\n",
    "    print(\"There are missing values in days_since_prior_order where it's not a customer's first order.\")"
   ]
  },
  {
   "cell_type": "markdown",
   "id": "69dc9ca4",
   "metadata": {},
   "source": [
    "### `order_products` data frame"
   ]
  },
  {
   "cell_type": "code",
   "execution_count": 29,
   "id": "9a78e5ee",
   "metadata": {},
   "outputs": [
    {
     "name": "stdout",
     "output_type": "stream",
     "text": [
      "The minimum value in the 'add_to_cart_order' column is: 1\n",
      "The maximum value in the 'add_to_cart_order' column is: 64\n"
     ]
    }
   ],
   "source": [
    "# What are the min and max values in this column?\n",
    "min_value = round(order_products['add_to_cart_order'].min())\n",
    "max_value = round(order_products['add_to_cart_order'].max())\n",
    "\n",
    "print(f\"The minimum value in the 'add_to_cart_order' column is: {min_value}\")\n",
    "print(f\"The maximum value in the 'add_to_cart_order' column is: {max_value}\")"
   ]
  },
  {
   "cell_type": "code",
   "execution_count": 30,
   "id": "ab9d0c2b",
   "metadata": {},
   "outputs": [
    {
     "name": "stdout",
     "output_type": "stream",
     "text": [
      "         product_id  order_id\n",
      "737            5068   2449164\n",
      "9926          43867   1968313\n",
      "14394         11688   2926893\n",
      "16418          4142   1717990\n",
      "30114         42828   1959075\n",
      "...             ...       ...\n",
      "4505662        7411   1800005\n",
      "4511400         260   1633337\n",
      "4517562        9517    404157\n",
      "4534112       17835   1673227\n",
      "4535739       17949   1832957\n",
      "\n",
      "[836 rows x 2 columns]\n"
     ]
    }
   ],
   "source": [
    "# Save all order IDs with at least one missing value in 'add_to_cart_order'\n",
    "# Filter orders with at least one missing value in 'add_to_cart_order'\n",
    "orders_with_missing_values = order_products[order_products['add_to_cart_order'].isnull()]\n",
    "\n",
    "# Create a new DataFrame with 'product_id' and 'order_id' for orders with missing values\n",
    "missing_values_df = orders_with_missing_values[['product_id', 'order_id']].copy()\n",
    "\n",
    "# Display the new DataFrame\n",
    "print(missing_values_df)"
   ]
  },
  {
   "cell_type": "code",
   "execution_count": 31,
   "id": "54c31695",
   "metadata": {},
   "outputs": [
    {
     "name": "stdout",
     "output_type": "stream",
     "text": [
      "All orders with missing values have more than 64 products.\n"
     ]
    }
   ],
   "source": [
    "# Do all orders with missing values have more than 64 products?\n",
    "# Filter orders with at least one missing value in 'add_to_cart_order'\n",
    "orders_with_missing_values = order_products[order_products['add_to_cart_order'].isnull()]['order_id'].unique()\n",
    "\n",
    "# Group orders and count the number of unique products in each order\n",
    "orders_grouped = order_products.groupby('order_id')['product_id'].nunique().reset_index()\n",
    "\n",
    "# Check if all orders with missing values have more than 64 products\n",
    "all_orders_with_missing_more_than_64 = all(\n",
    "    orders_grouped[orders_grouped['order_id'].isin(orders_with_missing_values)]['product_id'] > 64\n",
    ")\n",
    "\n",
    "if all_orders_with_missing_more_than_64:\n",
    "    print(\"All orders with missing values have more than 64 products.\")\n",
    "else:\n",
    "    print(\"Not all orders with missing values have more than 64 products.\")"
   ]
  },
  {
   "cell_type": "code",
   "execution_count": 32,
   "id": "7a987d08",
   "metadata": {},
   "outputs": [
    {
     "data": {
      "text/html": [
       "<div>\n",
       "<style scoped>\n",
       "    .dataframe tbody tr th:only-of-type {\n",
       "        vertical-align: middle;\n",
       "    }\n",
       "\n",
       "    .dataframe tbody tr th {\n",
       "        vertical-align: top;\n",
       "    }\n",
       "\n",
       "    .dataframe thead th {\n",
       "        text-align: right;\n",
       "    }\n",
       "</style>\n",
       "<table border=\"1\" class=\"dataframe\">\n",
       "  <thead>\n",
       "    <tr style=\"text-align: right;\">\n",
       "      <th></th>\n",
       "      <th>order_id</th>\n",
       "      <th>product_id</th>\n",
       "      <th>add_to_cart_order</th>\n",
       "      <th>reordered</th>\n",
       "    </tr>\n",
       "  </thead>\n",
       "  <tbody>\n",
       "    <tr>\n",
       "      <th>0</th>\n",
       "      <td>2141543</td>\n",
       "      <td>11440</td>\n",
       "      <td>17</td>\n",
       "      <td>0</td>\n",
       "    </tr>\n",
       "    <tr>\n",
       "      <th>1</th>\n",
       "      <td>567889</td>\n",
       "      <td>1560</td>\n",
       "      <td>1</td>\n",
       "      <td>1</td>\n",
       "    </tr>\n",
       "    <tr>\n",
       "      <th>2</th>\n",
       "      <td>2261212</td>\n",
       "      <td>26683</td>\n",
       "      <td>1</td>\n",
       "      <td>1</td>\n",
       "    </tr>\n",
       "    <tr>\n",
       "      <th>3</th>\n",
       "      <td>491251</td>\n",
       "      <td>8670</td>\n",
       "      <td>35</td>\n",
       "      <td>1</td>\n",
       "    </tr>\n",
       "    <tr>\n",
       "      <th>4</th>\n",
       "      <td>2571142</td>\n",
       "      <td>1940</td>\n",
       "      <td>5</td>\n",
       "      <td>1</td>\n",
       "    </tr>\n",
       "    <tr>\n",
       "      <th>5</th>\n",
       "      <td>2456893</td>\n",
       "      <td>21616</td>\n",
       "      <td>4</td>\n",
       "      <td>1</td>\n",
       "    </tr>\n",
       "    <tr>\n",
       "      <th>6</th>\n",
       "      <td>644579</td>\n",
       "      <td>12341</td>\n",
       "      <td>5</td>\n",
       "      <td>1</td>\n",
       "    </tr>\n",
       "    <tr>\n",
       "      <th>7</th>\n",
       "      <td>2231852</td>\n",
       "      <td>44925</td>\n",
       "      <td>10</td>\n",
       "      <td>1</td>\n",
       "    </tr>\n",
       "    <tr>\n",
       "      <th>8</th>\n",
       "      <td>3185766</td>\n",
       "      <td>36259</td>\n",
       "      <td>14</td>\n",
       "      <td>1</td>\n",
       "    </tr>\n",
       "    <tr>\n",
       "      <th>9</th>\n",
       "      <td>420019</td>\n",
       "      <td>23315</td>\n",
       "      <td>4</td>\n",
       "      <td>1</td>\n",
       "    </tr>\n",
       "  </tbody>\n",
       "</table>\n",
       "</div>"
      ],
      "text/plain": [
       "   order_id  product_id  add_to_cart_order  reordered\n",
       "0   2141543       11440                 17          0\n",
       "1    567889        1560                  1          1\n",
       "2   2261212       26683                  1          1\n",
       "3    491251        8670                 35          1\n",
       "4   2571142        1940                  5          1\n",
       "5   2456893       21616                  4          1\n",
       "6    644579       12341                  5          1\n",
       "7   2231852       44925                 10          1\n",
       "8   3185766       36259                 14          1\n",
       "9    420019       23315                  4          1"
      ]
     },
     "metadata": {},
     "output_type": "display_data"
    },
    {
     "name": "stdout",
     "output_type": "stream",
     "text": [
      "\n",
      "<class 'pandas.core.frame.DataFrame'>\n",
      "RangeIndex: 4545007 entries, 0 to 4545006\n",
      "Data columns (total 4 columns):\n",
      " #   Column             Dtype\n",
      "---  ------             -----\n",
      " 0   order_id           int64\n",
      " 1   product_id         int64\n",
      " 2   add_to_cart_order  int64\n",
      " 3   reordered          int64\n",
      "dtypes: int64(4)\n",
      "memory usage: 138.7 MB\n"
     ]
    }
   ],
   "source": [
    "# Replace missing values with 999 and convert column to integer type\n",
    "order_products['add_to_cart_order'] = order_products['add_to_cart_order'].fillna(999).astype(int)\n",
    "\n",
    "# Display the modified DataFrame\n",
    "display(order_products.head(10))\n",
    "print()\n",
    "order_products.info()"
   ]
  },
  {
   "cell_type": "markdown",
   "id": "9837ad4a",
   "metadata": {},
   "source": [
    "The code initially attempted to fill missing values in the 'add_to_cart_order' column with 999 and immediately convert the column to an integer type using astype(int)."
   ]
  },
  {
   "cell_type": "markdown",
   "id": "turkish-kidney",
   "metadata": {},
   "source": [
    "# [A] Easy (must complete all to pass)"
   ]
  },
  {
   "cell_type": "markdown",
   "id": "short-capability",
   "metadata": {},
   "source": [
    "### [A1] Verify that the `'order_hour_of_day'` and `'order_dow'` values in the `orders` tables are sensible (i.e. `'order_hour_of_day'` ranges from 0 to 23 and `'order_dow'` ranges from 0 to 6)"
   ]
  },
  {
   "cell_type": "code",
   "execution_count": 33,
   "id": "growing-fruit",
   "metadata": {},
   "outputs": [
    {
     "name": "stdout",
     "output_type": "stream",
     "text": [
      "Range of 'order_hour_of_day': 0 to 23\n",
      "Range of 'order_dow': 0 to 6\n"
     ]
    }
   ],
   "source": [
    "# Check the range of 'order_hour_of_day'\n",
    "min_hour = orders['order_hour_of_day'].min()\n",
    "max_hour = orders['order_hour_of_day'].max()\n",
    "\n",
    "# Check the range of 'order_dow'\n",
    "min_dow = orders['order_dow'].min()\n",
    "max_dow = orders['order_dow'].max()\n",
    "\n",
    "# Output the results\n",
    "print(f\"Range of 'order_hour_of_day': {min_hour} to {max_hour}\")\n",
    "print(f\"Range of 'order_dow': {min_dow} to {max_dow}\")"
   ]
  },
  {
   "cell_type": "markdown",
   "id": "690d5771",
   "metadata": {},
   "source": [
    "Running this code will load the 'instacart_orders.csv' file into a DataFrame and output the ranges of values for 'order_hour_of_day' and 'order_dow' columns.\n",
    "\n",
    "The expected ranges are:\n",
    "\n",
    "'order_hour_of_day': should range from 0 to 23 (representing hours in a day from 0 to 23)\n",
    "'order_dow': should range from 0 to 6 (representing days of the week from 0 for Sunday to 6 for Saturday)"
   ]
  },
  {
   "cell_type": "markdown",
   "id": "a6743a70",
   "metadata": {},
   "source": [
    "### [A2] What time of day do people shop for groceries?"
   ]
  },
  {
   "cell_type": "code",
   "execution_count": 34,
   "id": "62fcadd2",
   "metadata": {},
   "outputs": [
    {
     "data": {
      "image/png": "[encoded data removed]",
      "text/plain": [
       "<Figure size 1000x600 with 1 Axes>"
      ]
     },
     "metadata": {},
     "output_type": "display_data"
    }
   ],
   "source": [
    "# Group orders by 'order_hour_of_day' and count the frequency of each hour\n",
    "hourly_order_counts = orders['order_hour_of_day'].value_counts().sort_index()\n",
    "\n",
    "# Plotting the frequency of orders by hour of the day\n",
    "plt.figure(figsize=(10, 6))\n",
    "hourly_order_counts.plot(kind='bar', color='skyblue')\n",
    "plt.title('Frequency of Orders by Hour of the Day')\n",
    "plt.xlabel('Hour of the Day (0-23)')\n",
    "plt.ylabel('Number of Orders')\n",
    "plt.xticks(rotation=0)\n",
    "plt.grid(axis='y')\n",
    "plt.tight_layout()\n",
    "plt.show()"
   ]
  },
  {
   "cell_type": "markdown",
   "id": "11270eed",
   "metadata": {},
   "source": [
    "This code will generate a bar plot displaying the frequency of orders made during each hour of the day. The x-axis represents the hours (0-23), and the y-axis shows the number of orders placed at each hour.\n",
    "\n",
    "Analyzing the plot help identify the peak shopping hours for groceries on Instacart. We can notice spikes or higher bars indicating the most common times when people make their purchases. This visual representation give insight into the preferred hours for grocery shopping among customers based on the dataset provided.\n",
    "So from this plot we can see that the peak shoppig hours for groceries from 9AM to 5PM."
   ]
  },
  {
   "cell_type": "markdown",
   "id": "documented-command",
   "metadata": {},
   "source": [
    "### [A3] What day of the week do people shop for groceries?"
   ]
  },
  {
   "cell_type": "code",
   "execution_count": 35,
   "id": "chief-digit",
   "metadata": {},
   "outputs": [
    {
     "data": {
      "image/png": "[encoded data removed]",
      "text/plain": [
       "<Figure size 1000x600 with 1 Axes>"
      ]
     },
     "metadata": {},
     "output_type": "display_data"
    }
   ],
   "source": [
    "# Group orders by 'order_hour_of_day' and count the frequency of each hour\n",
    "day_of_the_week_counts = orders['order_dow'].value_counts().sort_index()\n",
    "\n",
    "# Map numerical day of the week to corresponding day names\n",
    "day_names = ['Monday', 'Tuesday', 'Wednesday', 'Thursday', 'Friday', 'Saturday', 'Sunday']\n",
    "\n",
    "# Plotting the frequency of orders by day of the week with custom day names\n",
    "plt.figure(figsize=(10, 6))\n",
    "day_of_the_week_counts.plot(kind='bar', color='skyblue')\n",
    "plt.title('Frequency of Orders by Day of the Week')\n",
    "plt.xlabel('Day of the Week')\n",
    "plt.ylabel('Number of Orders')\n",
    "plt.xticks(range(7), [day_names[i] for i in range(7)], rotation=0)  # Assigning custom day names\n",
    "plt.grid(axis='y')\n",
    "plt.tight_layout()\n",
    "plt.show()"
   ]
  },
  {
   "cell_type": "markdown",
   "id": "dominant-lightning",
   "metadata": {},
   "source": [
    "This code will generate a bar plot displaying the frequency of orders made by day of the week. The x-axis represents the days of the week, and the y-axis shows the number of orders placed at each hour.\n",
    "\n",
    "Analyzing the plot help identify the peak shopping days for groceries on Instacart. We can notice spikes or higher bars indicating the most common days when people make their purchases. This visual representation give insight into the preferred days for grocery shopping among customers based on the dataset provided.\n",
    "After analysing this plot we can see that the peak shoppig days for groceries are Monday and Tuesday."
   ]
  },
  {
   "cell_type": "markdown",
   "id": "cutting-concert",
   "metadata": {},
   "source": [
    "### [A4] How long do people wait until placing another order?"
   ]
  },
  {
   "cell_type": "markdown",
   "id": "discrete-vertex",
   "metadata": {},
   "source": [
    "To determine how long people wait until placing another order, we can utilize the 'instacart_orders.csv' table, specifically the 'days_since_prior_order' column. This column provides the number of days since a customer placed their previous order. We can calculate the average or median of the 'days_since_prior_order' column to understand the typical duration customers wait before placing another order."
   ]
  },
  {
   "cell_type": "code",
   "execution_count": 36,
   "id": "c231f523",
   "metadata": {},
   "outputs": [
    {
     "name": "stdout",
     "output_type": "stream",
     "text": [
      "Average days between orders: 11.\n",
      "\n",
      "Median days between orders: 7.\n"
     ]
    }
   ],
   "source": [
    "avg_time = orders['days_since_prior_order'].mean()\n",
    "avg_time = round(avg_time)\n",
    "median_time = orders['days_since_prior_order'].median()\n",
    "median_time = round(median_time)\n",
    "print(f\"Average days between orders: {avg_time}.\")\n",
    "print()\n",
    "print(f\"Median days between orders: {median_time}.\")"
   ]
  },
  {
   "cell_type": "code",
   "execution_count": 37,
   "id": "1f67315b",
   "metadata": {},
   "outputs": [
    {
     "data": {
      "image/png": "[encoded data removed]",
      "text/plain": [
       "<Figure size 800x600 with 1 Axes>"
      ]
     },
     "metadata": {},
     "output_type": "display_data"
    }
   ],
   "source": [
    "# Group orders by 'order_id' and count the number of items in each order\n",
    "items_per_order = order_products.groupby('order_id')['product_id'].count()\n",
    "\n",
    "# Calculate statistics\n",
    "mean_items_per_order = items_per_order.mean()\n",
    "median_items_per_order = items_per_order.median()\n",
    "\n",
    "# Create a histogram of days_since_prior_order\n",
    "plt.figure(figsize=(8, 6))\n",
    "plt.hist(orders['days_since_prior_order'], bins=30, color='skyblue', edgecolor='black')\n",
    "plt.axvline(mean_items_per_order, color='red', linestyle='dashed', linewidth=1, label=f'Average: {avg_time}')\n",
    "plt.axvline(median_items_per_order, color='orange', linestyle='dashed', linewidth=1, label=f'Median: {median_time}')\n",
    "plt.xlabel('Days Since Prior Order')\n",
    "plt.ylabel('Number of Orders')\n",
    "plt.title('Distribution of Time Between Orders')\n",
    "plt.legend()\n",
    "plt.grid(True)\n",
    "plt.show()"
   ]
  },
  {
   "cell_type": "markdown",
   "id": "ddc4004c",
   "metadata": {},
   "source": [
    "The average days between orders is higher than the median days between orders. This indicates that the distribution of days between orders might be right-skewed or positively skewed, with some orders having longer intervals between them, pulling the average higher.\n",
    "\n",
    "The average (or mean) days between orders, at 11 days, is influenced by extreme values or longer waiting periods between some orders.\n",
    "The median days between orders, at 7 days, represents the middle value when all the values are arranged in ascending order. This means that half of the orders have waiting periods less than or equal to 7 days, and the other half have waiting periods greater than 7 days."
   ]
  },
  {
   "cell_type": "markdown",
   "id": "tight-staff",
   "metadata": {},
   "source": [
    "# [B] Medium (must complete all to pass)"
   ]
  },
  {
   "cell_type": "markdown",
   "id": "packed-classic",
   "metadata": {},
   "source": [
    "### [B1] Is there a difference in `'order_hour_of_day'` distributions on Wednesdays and Saturdays? Plot the histograms for both days and describe the differences that you see."
   ]
  },
  {
   "cell_type": "code",
   "execution_count": 38,
   "id": "d89b8403",
   "metadata": {},
   "outputs": [
    {
     "data": {
      "image/png": "[encoded data removed]",
      "text/plain": [
       "<Figure size 1000x600 with 1 Axes>"
      ]
     },
     "metadata": {},
     "output_type": "display_data"
    }
   ],
   "source": [
    "# Filter data for Wednesdays and Saturdays\n",
    "wednesday_orders = orders[orders['order_dow'] == 2]  # Wednesday is represented as 4\n",
    "saturday_orders = orders[orders['order_dow'] == 5]   # Saturday is represented as 7\n",
    "\n",
    "# Plot histograms for order_hour_of_day on Wednesdays and Saturdays\n",
    "plt.figure(figsize=(10, 6))\n",
    "\n",
    "plt.hist(wednesday_orders['order_hour_of_day'], bins=24, label='Wednesday', color='blue')\n",
    "plt.hist(saturday_orders['order_hour_of_day'], bins=24, alpha=0.8, label='Saturday', color='orange')\n",
    "\n",
    "plt.title('Order Hour of Day Distribution Comparison')\n",
    "plt.xlabel('Hour of Day')\n",
    "plt.ylabel('Number of Orders')\n",
    "plt.xticks(range(24))\n",
    "plt.legend()\n",
    "plt.grid(True)\n",
    "plt.show()"
   ]
  },
  {
   "cell_type": "markdown",
   "id": "9df5810c",
   "metadata": {},
   "source": [
    "Upon analyzing the histogram illustrating the distribution of order hours on Wednesdays and Saturdays, several insights into customers' preferred grocery shopping times have been observed.\n",
    "\n",
    "**Similarities in Peak Shopping Hours:**\n",
    "\n",
    "Both Wednesdays and Saturdays exhibit similar patterns in peak shopping hours, characterized by comparable spikes in order frequency. These shared peak periods indicate common preferred times for grocery shopping among customers on these days.\n",
    "\n",
    "**Differences in Afternoon Shopping Behavior:**\n",
    "\n",
    "Notably, a discernible disparity arises in the afternoon shopping behavior between Wednesdays and Saturdays. On Wednesdays, there is a pronounced increase in orders after noon compared to Saturdays. This discrepancy suggests a higher inclination for mid-afternoon purchases on Wednesdays, potentially influenced by factors such as weekday routines, work schedules, or promotional offers."
   ]
  },
  {
   "cell_type": "markdown",
   "id": "e3891143",
   "metadata": {},
   "source": [
    "### [B2] What's the distribution for the number of orders per customer?"
   ]
  },
  {
   "cell_type": "code",
   "execution_count": 39,
   "id": "d8c26c23",
   "metadata": {},
   "outputs": [
    {
     "data": {
      "image/png": "[encoded data removed]",
      "text/plain": [
       "<Figure size 1000x600 with 1 Axes>"
      ]
     },
     "metadata": {},
     "output_type": "display_data"
    }
   ],
   "source": [
    "# Grouping orders by 'user_id' and counting the number of orders for each customer\n",
    "orders_per_customer = orders.groupby('user_id')['order_number'].max().value_counts().sort_index()\n",
    "\n",
    "# Plotting the distribution of orders per customer\n",
    "plt.figure(figsize=(10, 6))\n",
    "plt.bar(orders_per_customer.index, orders_per_customer.values, color='skyblue')\n",
    "plt.title('Distribution of Orders per Customer')\n",
    "plt.xlabel('Number of Orders')\n",
    "plt.ylabel('Number of Customers')\n",
    "plt.grid(axis='y')\n",
    "plt.show()"
   ]
  },
  {
   "cell_type": "markdown",
   "id": "9661948a",
   "metadata": {},
   "source": [
    "Based on the generated visualization of the distribution of orders per customer:\n",
    "\n",
    "* The x-axis represents the 'Number of Orders' made by individual customers.\n",
    "* The y-axis shows the 'Number of Customers' corresponding to each count of orders.\n",
    "\n",
    "From the distribution of orders per customer:\n",
    "\n",
    "* It appears that there's a variation in the number of orders placed by different customers.\n",
    "* The majority of customers seem to place a relatively smaller number of orders.\n",
    "* There might be a smaller segment of customers who place a significantly larger number of orders compared to the majority."
   ]
  },
  {
   "cell_type": "markdown",
   "id": "54a0319c",
   "metadata": {},
   "source": [
    "### [B3] What are the top 20 popular products (display their id and name)?"
   ]
  },
  {
   "cell_type": "code",
   "execution_count": 40,
   "id": "exterior-arizona",
   "metadata": {
    "scrolled": false
   },
   "outputs": [
    {
     "name": "stdout",
     "output_type": "stream",
     "text": [
      "       product_id              product_name\n",
      "5741         5876             organic lemon\n",
      "8079         8277  apple honeycrisp organic\n",
      "12832       13176    bag of organic bananas\n",
      "16360       16797              strawberries\n",
      "20593       21137      organic strawberries\n",
      "21338       21903      organic baby spinach\n",
      "22346       22935      organic yellow onion\n",
      "24210       24852                    banana\n",
      "24321       24964            organic garlic\n",
      "25528       26209                     limes\n",
      "27120       27845        organic whole milk\n",
      "27238       27966       organic raspberries\n",
      "27467       28204        organic fuji apple\n",
      "38237       39275       organic blueberries\n",
      "39624       40706    organic grape tomatoes\n",
      "43786       45007          organic zucchini\n",
      "45925       47209      organic hass avocado\n",
      "46321       47626               large lemon\n",
      "46460       47766           organic avocado\n",
      "48327       49683            cucumber kirby\n"
     ]
    }
   ],
   "source": [
    "# Merge the order_products and products data on 'product_id' to get product names\n",
    "merged_data = pd.merge(order_products, products, on='product_id')\n",
    "\n",
    "# Count the occurrences of each product and get the top 20 popular products\n",
    "top_20_product_ids = merged_data['product_id'].value_counts().head(20).index.tolist()\n",
    "\n",
    "# Filter the products DataFrame to get information about the top 20 popular products\n",
    "top_20_products_info = products[products['product_id'].isin(top_20_product_ids)][['product_id', 'product_name']]\n",
    "\n",
    "print(top_20_products_info)"
   ]
  },
  {
   "cell_type": "markdown",
   "id": "7df00f47",
   "metadata": {},
   "source": [
    "This revised code directly extracts the IDs and names of the top 20 popular products based on the count of occurrences of their IDs in the merged dataset. It ensures that the product IDs are correctly obtained from the 'order_products.csv' data and then retrieves the corresponding product names from the 'products.csv' dataset, displaying the top 20 popular products with their IDs and names. "
   ]
  },
  {
   "cell_type": "markdown",
   "id": "gross-theme",
   "metadata": {},
   "source": [
    "# [C] Hard (must complete at least two to pass)"
   ]
  },
  {
   "cell_type": "markdown",
   "id": "romantic-deposit",
   "metadata": {},
   "source": [
    "### [C1] How many items do people typically buy in one order? What does the distribution look like?"
   ]
  },
  {
   "cell_type": "markdown",
   "id": "04f109a9",
   "metadata": {},
   "source": [
    "To determine how many items people typically buy in one order and visualize the distribution of these item quantities, we can use the order_products DataFrame, specifically the 'order_id' column to identify unique orders and count the number of items purchased within each order."
   ]
  },
  {
   "cell_type": "code",
   "execution_count": 41,
   "id": "sensitive-breathing",
   "metadata": {},
   "outputs": [
    {
     "data": {
      "image/png": "[encoded data removed]",
      "text/plain": [
       "<Figure size 1000x600 with 1 Axes>"
      ]
     },
     "metadata": {},
     "output_type": "display_data"
    }
   ],
   "source": [
    "# Plotting the distribution\n",
    "plt.figure(figsize=(10, 6))\n",
    "plt.hist(items_per_order, bins=50, color='skyblue', edgecolor='black')\n",
    "plt.axvline(mean_items_per_order, color='red', linestyle='dashed', linewidth=1, label=f'Mean: {mean_items_per_order:.2f}')\n",
    "plt.axvline(median_items_per_order, color='orange', linestyle='dashed', linewidth=1, label=f'Median: {median_items_per_order}')\n",
    "plt.title('Distribution of Number of Items Purchased per Order')\n",
    "plt.xlabel('Number of Items')\n",
    "plt.ylabel('Number of Orders')\n",
    "plt.legend()\n",
    "plt.grid(True)\n",
    "plt.show()"
   ]
  },
  {
   "cell_type": "markdown",
   "id": "designed-mortality",
   "metadata": {},
   "source": [
    "The mean and median values provide valuable insights into the distribution of items per order. The higher mean compared to the median suggests a right-skewed distribution with potential outliers or a tail of orders with a significantly larger number of items, while the median indicates a typical or central order size around 8.0 items."
   ]
  },
  {
   "cell_type": "markdown",
   "id": "5e6b5537",
   "metadata": {},
   "source": [
    "### [C2] What are the top 20 items that are reordered most frequently (display their names and product IDs)?"
   ]
  },
  {
   "cell_type": "markdown",
   "id": "e586c3d1",
   "metadata": {},
   "source": [
    "To find the top 20 items that are reordered most frequently, we'll need to use the order_products DataFrame to calculate the reordering frequency for each product. "
   ]
  },
  {
   "cell_type": "code",
   "execution_count": 42,
   "id": "possible-change",
   "metadata": {
    "scrolled": false
   },
   "outputs": [
    {
     "name": "stdout",
     "output_type": "stream",
     "text": [
      "       product_id              product_name\n",
      "22310       24852                    banana\n",
      "11767       13176    bag of organic bananas\n",
      "18953       21137      organic strawberries\n",
      "19643       21903      organic baby spinach\n",
      "42277       47209      organic hass avocado\n",
      "42778       47766           organic avocado\n",
      "24995       27845        organic whole milk\n",
      "42654       47626               large lemon\n",
      "25102       27966       organic raspberries\n",
      "15029       16797              strawberries\n",
      "23522       26209                     limes\n",
      "20572       22935      organic yellow onion\n",
      "22409       24964            organic garlic\n",
      "40301       45007          organic zucchini\n",
      "44510       49683            cucumber kirby\n",
      "25318       28204        organic fuji apple\n",
      "7398         8277  apple honeycrisp organic\n",
      "35196       39275       organic blueberries\n",
      "5279         5876             organic lemon\n",
      "44114       49235       organic half & half\n"
     ]
    }
   ],
   "source": [
    "# Calculate the total count of each product being reordered\n",
    "reordered_count = order_products.groupby('product_id')['reordered'].sum().reset_index()\n",
    "\n",
    "# Merge with 'products' DataFrame to get product names\n",
    "top_reordered_products = pd.merge(reordered_count, products[['product_id', 'product_name']], on='product_id')\n",
    "\n",
    "# Sort the products by the reordered count in descending order\n",
    "top_reordered_products = top_reordered_products.sort_values(by='reordered', ascending=False).head(20)\n",
    "\n",
    "# Display the top 20 items that are reordered most frequently (product names and IDs)\n",
    "print(top_reordered_products[['product_id', 'product_name']])"
   ]
  },
  {
   "cell_type": "markdown",
   "id": "8e983277",
   "metadata": {},
   "source": [
    "The displayed output provides information about the top 20 items that are reordered most frequently. These products are crucial in understanding consumer preferences and purchasing patterns on the platform."
   ]
  },
  {
   "cell_type": "markdown",
   "id": "9d312b14",
   "metadata": {},
   "source": [
    "### [C3] For each product, what proportion of its orders are reorders?"
   ]
  },
  {
   "cell_type": "markdown",
   "id": "bfa36672",
   "metadata": {},
   "source": [
    "To find the proportion of orders that are reorders for each product, we can calculate the ratio of the number of reorder occurrences to the total number of times the product has been ordered. This can be achieved by grouping the data by product and then calculating the proportion of reorder occurrences."
   ]
  },
  {
   "cell_type": "code",
   "execution_count": 43,
   "id": "103e7fe1",
   "metadata": {
    "scrolled": false
   },
   "outputs": [
    {
     "name": "stdout",
     "output_type": "stream",
     "text": [
      "    product_id                                       product_name  \\\n",
      "0            1                         chocolate sandwich cookies   \n",
      "1            2                                   all-seasons salt   \n",
      "2            3               robust golden unsweetened oolong tea   \n",
      "3            4  smart ones classic favorites mini rigatoni wit...   \n",
      "4            7                     pure coconut water with orange   \n",
      "5            8                  cut russet potatoes steam n' mash   \n",
      "6            9                  light strawberry blueberry yogurt   \n",
      "7           10     sparkling orange juice & prickly pear beverage   \n",
      "8           11                                  peach mango juice   \n",
      "9           12                         chocolate fudge layer cake   \n",
      "10          13                                  saline nasal mist   \n",
      "11          14                     fresh scent dishwasher cleaner   \n",
      "12          17                                  rendered duck fat   \n",
      "13          18                pizza for one suprema  frozen pizza   \n",
      "14          19   gluten free quinoa three cheese & mushroom blend   \n",
      "15          21                   small & medium dental dog treats   \n",
      "16          22                  fresh breath oral rinse mild mint   \n",
      "17          23                             organic turkey burgers   \n",
      "18          24  tri-vi-sol® vitamins a-c-and d supplement drop...   \n",
      "19          25            salted caramel lean protein & fiber bar   \n",
      "\n",
      "    reorder_proportion  \n",
      "0             0.564286  \n",
      "1             0.000000  \n",
      "2             0.738095  \n",
      "3             0.510204  \n",
      "4             0.500000  \n",
      "5             0.315789  \n",
      "6             0.761905  \n",
      "7             0.448071  \n",
      "8             0.625000  \n",
      "9             0.390244  \n",
      "10            0.500000  \n",
      "11            0.000000  \n",
      "12            0.000000  \n",
      "13            0.533333  \n",
      "14            0.000000  \n",
      "15            0.000000  \n",
      "16            0.500000  \n",
      "17            0.380952  \n",
      "18            0.000000  \n",
      "19            0.674576  \n"
     ]
    }
   ],
   "source": [
    "# Calculate the total count of orders and the sum of reorder occurrences for each product\n",
    "product_orders_summary = order_products.groupby('product_id')['reordered'].agg(['count', 'sum']).reset_index()\n",
    "\n",
    "# Calculate the proportion of orders that are reorders for each product\n",
    "product_orders_summary['reorder_proportion'] = product_orders_summary['sum'] / product_orders_summary['count']\n",
    "\n",
    "# Merge with 'products' DataFrame to get product names\n",
    "product_orders_summary = pd.merge(product_orders_summary, products[['product_id', 'product_name']], on='product_id')\n",
    "\n",
    "# Display the proportion of orders that are reorders for each product (product names and IDs)\n",
    "print(product_orders_summary[['product_id', 'product_name', 'reorder_proportion']].head(20))"
   ]
  },
  {
   "cell_type": "markdown",
   "id": "subject-boxing",
   "metadata": {},
   "source": [
    "### [C4] For each customer, what proportion of their products ordered are reorders?"
   ]
  },
  {
   "cell_type": "markdown",
   "id": "bdd1f4f6",
   "metadata": {},
   "source": [
    "To calculate the proportion of products that are reorders for each customer, we'll need to utilize the order_products DataFrame to determine the number of products ordered and the number of reorders for each customer. You'll then compute the ratio of reorders to the total products ordered for each customer."
   ]
  },
  {
   "cell_type": "code",
   "execution_count": null,
   "id": "medical-couple",
   "metadata": {
    "scrolled": false
   },
   "outputs": [],
   "source": [
    "# Merge order_products with instacart_orders to associate orders with users\n",
    "merged_data = pd.merge(order_products, orders[['order_id', 'user_id']], on='order_id')\n",
    "\n",
    "# Calculate the total count of products ordered and the sum of reorder occurrences for each customer\n",
    "customer_products_summary = merged_data.groupby(['user_id', 'order_id'])['reordered'].agg(['count', 'sum']).reset_index()\n",
    "\n",
    "# Calculate the total products ordered and total reorders for each customer\n",
    "customer_summary = customer_products_summary.groupby('user_id').agg({'count': 'sum', 'sum': 'sum'}).reset_index()\n",
    "customer_summary.columns = ['user_id', 'total_products', 'total_reorders']\n",
    "\n",
    "# Calculate the proportion of products that are reorders for each customer\n",
    "customer_summary['reorder_proportion'] = customer_summary['total_reorders'] / customer_summary['total_products']\n",
    "\n",
    "# Display the proportion of products that are reorders for each customer\n",
    "print(customer_summary[['user_id', 'reorder_proportion']].head(20))"
   ]
  },
  {
   "cell_type": "markdown",
   "id": "92d35137",
   "metadata": {},
   "source": [
    "### [C5] What are the top 20 items that people put in their carts first? "
   ]
  },
  {
   "cell_type": "markdown",
   "id": "9e4f7faf",
   "metadata": {
    "scrolled": true
   },
   "source": [
    "To find the top 20 items that people put in their carts first, we can analyze the order_products DataFrame to identify the items added to the cart first. The 'add_to_cart_order' column indicates the sequence in which items were added to the cart. The items with 'add_to_cart_order' equal to 1 are the ones put in the cart first. To refine the process and obtain a clearer presentation of the top 20 items added first to the cart, we can group by both 'product_id' and 'product_name' after filtering the rows where 'add_to_cart_order' is 1. "
   ]
  },
  {
   "cell_type": "code",
   "execution_count": null,
   "id": "forty-netherlands",
   "metadata": {
    "scrolled": false
   },
   "outputs": [],
   "source": [
    "# Filter order_products to get items that were added first (add_to_cart_order = 1)\n",
    "first_items = order_products[order_products['add_to_cart_order'] == 1]\n",
    "\n",
    "# Merge with 'products' DataFrame to get product names\n",
    "first_items_with_names = pd.merge(first_items, products[['product_id', 'product_name']], on='product_id')\n",
    "\n",
    "# Group by product_id and product_name, count occurrences, and find the top 20 items\n",
    "top_first_items = first_items_with_names.groupby(['product_id', 'product_name']).size().reset_index(name='count')\n",
    "top_first_items = top_first_items.sort_values(by='count', ascending=False).head(20)\n",
    "\n",
    "# Display the top 20 items put in carts first (product IDs and names)\n",
    "print(top_first_items[['product_id', 'product_name']])"
   ]
  },
  {
   "cell_type": "markdown",
   "id": "28ce9872",
   "metadata": {},
   "source": [
    "## Conclusions\n",
    "\n",
    "#### Missing Values:\n",
    "\n",
    "Identified missing values in all data frames and replaced them with appropriate value.\n",
    "The missing values might have occurred due to various reasons such as data collection errors or system-related issues.\n",
    "\n",
    "#### Items Reordered Most Frequently:\n",
    "\n",
    "Determined the top 20 items that are reordered most frequently.\n",
    "These items could be popular or essential items that customers tend to repurchase regularly.\n",
    "\n",
    "#### Typical Number of Items Purchased in One Order:\n",
    "\n",
    "Calculated the median (8.0) and mean (10.10) number of items purchased per order.\n",
    "The distribution was found to be right-skewed, suggesting some orders have substantially more items than the median, possibly due to outliers or customers placing larger orders.\n",
    "\n",
    "#### Proportion of Orders with Missing Values:\n",
    "\n",
    "Investigated if orders with missing 'add_to_cart_order' values had more than 64 products.\n",
    "Depending on the data, some orders with missing values might have exceeded 64 products, indicating a potential correlation between missing values and larger orders.\n",
    "\n",
    "#### Proportion of Reordered Products by Customers:\n",
    "\n",
    "Calculated the proportion of products that are reorders for each customer.\n",
    "This analysis provides insights into customer behavior, indicating how often customers reorder products they've previously purchased.\n",
    "\n",
    "#### Top Items Initially Added to Carts:\n",
    "\n",
    "Identified the top 20 items that people put in their carts first (with 'add_to_cart_order' = 1).\n",
    "These items represent the most commonly chosen products as initial purchases when users start shopping.\n",
    "\n",
    "#### Overall Insights and Further Recommendations:\n",
    "\n",
    "The dataset showcases various aspects of customer behavior, purchase patterns, and product popularity.\n",
    "Further analysis could involve exploring correlations between product categories, customer demographics, or time-related factors to derive more targeted marketing strategies, optimize inventory management, or personalize recommendations.\n"
   ]
  }
 ],
 "metadata": {
  "ExecuteTimeLog": [
   {
    "duration": 680,
    "start_time": "2024-07-28T12:47:36.896Z"
   },
   {
    "duration": 321,
    "start_time": "2024-07-28T12:47:37.579Z"
   },
   {
    "duration": 34,
    "start_time": "2024-07-28T12:47:37.902Z"
   },
   {
    "duration": 92,
    "start_time": "2024-07-28T12:47:37.940Z"
   },
   {
    "duration": 72,
    "start_time": "2024-07-28T12:47:38.036Z"
   },
   {
    "duration": 37,
    "start_time": "2024-07-28T12:47:38.111Z"
   },
   {
    "duration": 21,
    "start_time": "2024-07-28T12:47:38.151Z"
   },
   {
    "duration": 1679,
    "start_time": "2024-07-28T12:47:38.175Z"
   },
   {
    "duration": 732,
    "start_time": "2024-07-28T12:47:39.857Z"
   },
   {
    "duration": 176,
    "start_time": "2024-07-28T12:47:40.594Z"
   },
   {
    "duration": 16,
    "start_time": "2024-07-28T12:47:40.772Z"
   },
   {
    "duration": 140,
    "start_time": "2024-07-28T12:47:40.791Z"
   },
   {
    "duration": 172,
    "start_time": "2024-07-28T12:47:40.934Z"
   },
   {
    "duration": 97,
    "start_time": "2024-07-28T12:47:41.109Z"
   },
   {
    "duration": 34,
    "start_time": "2024-07-28T12:47:41.210Z"
   },
   {
    "duration": 12,
    "start_time": "2024-07-28T12:47:41.247Z"
   },
   {
    "duration": 91,
    "start_time": "2024-07-28T12:47:41.262Z"
   },
   {
    "duration": 26,
    "start_time": "2024-07-28T12:47:41.358Z"
   },
   {
    "duration": 67,
    "start_time": "2024-07-28T12:47:41.390Z"
   },
   {
    "duration": 10,
    "start_time": "2024-07-28T12:47:41.459Z"
   },
   {
    "duration": 11,
    "start_time": "2024-07-28T12:47:41.472Z"
   },
   {
    "duration": 1511,
    "start_time": "2024-07-28T12:47:41.486Z"
   },
   {
    "duration": 3158,
    "start_time": "2024-07-28T12:47:42.999Z"
   },
   {
    "duration": 10,
    "start_time": "2024-07-28T12:47:46.159Z"
   },
   {
    "duration": 6,
    "start_time": "2024-07-28T12:47:46.172Z"
   },
   {
    "duration": 8,
    "start_time": "2024-07-28T12:47:46.181Z"
   },
   {
    "duration": 13,
    "start_time": "2024-07-28T12:47:46.227Z"
   },
   {
    "duration": 25,
    "start_time": "2024-07-28T12:47:46.247Z"
   },
   {
    "duration": 84,
    "start_time": "2024-07-28T12:47:46.275Z"
   },
   {
    "duration": 13,
    "start_time": "2024-07-28T12:47:46.362Z"
   },
   {
    "duration": 2825,
    "start_time": "2024-07-28T12:47:46.378Z"
   },
   {
    "duration": 62,
    "start_time": "2024-07-28T12:47:49.205Z"
   },
   {
    "duration": 9,
    "start_time": "2024-07-28T12:47:49.270Z"
   },
   {
    "duration": 555,
    "start_time": "2024-07-28T12:47:49.282Z"
   },
   {
    "duration": 421,
    "start_time": "2024-07-28T12:47:49.840Z"
   },
   {
    "duration": 22,
    "start_time": "2024-07-28T12:47:50.265Z"
   },
   {
    "duration": 615,
    "start_time": "2024-07-28T12:47:50.290Z"
   },
   {
    "duration": 0,
    "start_time": "2024-07-28T12:47:50.908Z"
   },
   {
    "duration": 0,
    "start_time": "2024-07-28T12:47:50.910Z"
   },
   {
    "duration": 0,
    "start_time": "2024-07-28T12:47:50.913Z"
   },
   {
    "duration": 0,
    "start_time": "2024-07-28T12:47:50.926Z"
   },
   {
    "duration": 0,
    "start_time": "2024-07-28T12:47:50.929Z"
   },
   {
    "duration": 0,
    "start_time": "2024-07-28T12:47:50.931Z"
   },
   {
    "duration": 0,
    "start_time": "2024-07-28T12:47:50.934Z"
   },
   {
    "duration": 0,
    "start_time": "2024-07-28T12:47:50.937Z"
   },
   {
    "duration": 661,
    "start_time": "2024-07-28T12:49:05.157Z"
   },
   {
    "duration": 307,
    "start_time": "2024-07-28T12:49:05.825Z"
   },
   {
    "duration": 19,
    "start_time": "2024-07-28T12:49:06.135Z"
   },
   {
    "duration": 98,
    "start_time": "2024-07-28T12:49:06.158Z"
   },
   {
    "duration": 85,
    "start_time": "2024-07-28T12:49:06.259Z"
   },
   {
    "duration": 23,
    "start_time": "2024-07-28T12:49:06.347Z"
   },
   {
    "duration": 22,
    "start_time": "2024-07-28T12:49:06.373Z"
   },
   {
    "duration": 1652,
    "start_time": "2024-07-28T12:49:06.427Z"
   },
   {
    "duration": 745,
    "start_time": "2024-07-28T12:49:08.082Z"
   },
   {
    "duration": 174,
    "start_time": "2024-07-28T12:49:08.832Z"
   },
   {
    "duration": 23,
    "start_time": "2024-07-28T12:49:09.009Z"
   },
   {
    "duration": 125,
    "start_time": "2024-07-28T12:49:09.038Z"
   },
   {
    "duration": 174,
    "start_time": "2024-07-28T12:49:09.166Z"
   },
   {
    "duration": 114,
    "start_time": "2024-07-28T12:49:09.345Z"
   },
   {
    "duration": 22,
    "start_time": "2024-07-28T12:49:09.462Z"
   },
   {
    "duration": 12,
    "start_time": "2024-07-28T12:49:09.487Z"
   },
   {
    "duration": 66,
    "start_time": "2024-07-28T12:49:09.527Z"
   },
   {
    "duration": 46,
    "start_time": "2024-07-28T12:49:09.595Z"
   },
   {
    "duration": 46,
    "start_time": "2024-07-28T12:49:09.644Z"
   },
   {
    "duration": 10,
    "start_time": "2024-07-28T12:49:09.693Z"
   },
   {
    "duration": 11,
    "start_time": "2024-07-28T12:49:09.727Z"
   },
   {
    "duration": 1543,
    "start_time": "2024-07-28T12:49:09.742Z"
   },
   {
    "duration": 3192,
    "start_time": "2024-07-28T12:49:11.290Z"
   },
   {
    "duration": 9,
    "start_time": "2024-07-28T12:49:14.485Z"
   },
   {
    "duration": 6,
    "start_time": "2024-07-28T12:49:14.497Z"
   },
   {
    "duration": 25,
    "start_time": "2024-07-28T12:49:14.506Z"
   },
   {
    "duration": 13,
    "start_time": "2024-07-28T12:49:14.535Z"
   },
   {
    "duration": 22,
    "start_time": "2024-07-28T12:49:14.555Z"
   },
   {
    "duration": 86,
    "start_time": "2024-07-28T12:49:14.580Z"
   },
   {
    "duration": 12,
    "start_time": "2024-07-28T12:49:14.669Z"
   },
   {
    "duration": 2824,
    "start_time": "2024-07-28T12:49:14.685Z"
   },
   {
    "duration": 63,
    "start_time": "2024-07-28T12:49:17.512Z"
   },
   {
    "duration": 9,
    "start_time": "2024-07-28T12:49:17.578Z"
   },
   {
    "duration": 560,
    "start_time": "2024-07-28T12:49:17.590Z"
   },
   {
    "duration": 416,
    "start_time": "2024-07-28T12:49:18.153Z"
   },
   {
    "duration": 22,
    "start_time": "2024-07-28T12:49:18.572Z"
   },
   {
    "duration": 369,
    "start_time": "2024-07-28T12:49:18.597Z"
   },
   {
    "duration": 1,
    "start_time": "2024-07-28T12:49:18.968Z"
   },
   {
    "duration": 0,
    "start_time": "2024-07-28T12:49:18.971Z"
   },
   {
    "duration": 0,
    "start_time": "2024-07-28T12:49:18.972Z"
   },
   {
    "duration": 0,
    "start_time": "2024-07-28T12:49:18.975Z"
   },
   {
    "duration": 0,
    "start_time": "2024-07-28T12:49:18.977Z"
   },
   {
    "duration": 0,
    "start_time": "2024-07-28T12:49:18.979Z"
   },
   {
    "duration": 0,
    "start_time": "2024-07-28T12:49:18.981Z"
   },
   {
    "duration": 0,
    "start_time": "2024-07-28T12:49:18.983Z"
   },
   {
    "duration": 28,
    "start_time": "2024-07-28T12:50:01.189Z"
   },
   {
    "duration": 978,
    "start_time": "2024-07-28T12:50:06.581Z"
   },
   {
    "duration": 702,
    "start_time": "2024-07-28T12:50:15.419Z"
   },
   {
    "duration": 317,
    "start_time": "2024-07-28T12:50:16.123Z"
   },
   {
    "duration": 18,
    "start_time": "2024-07-28T12:50:16.443Z"
   },
   {
    "duration": 96,
    "start_time": "2024-07-28T12:50:16.465Z"
   },
   {
    "duration": 83,
    "start_time": "2024-07-28T12:50:16.565Z"
   },
   {
    "duration": 23,
    "start_time": "2024-07-28T12:50:16.651Z"
   },
   {
    "duration": 51,
    "start_time": "2024-07-28T12:50:16.677Z"
   },
   {
    "duration": 1652,
    "start_time": "2024-07-28T12:50:16.732Z"
   },
   {
    "duration": 741,
    "start_time": "2024-07-28T12:50:18.387Z"
   },
   {
    "duration": 169,
    "start_time": "2024-07-28T12:50:19.134Z"
   },
   {
    "duration": 26,
    "start_time": "2024-07-28T12:50:19.306Z"
   },
   {
    "duration": 105,
    "start_time": "2024-07-28T12:50:19.335Z"
   },
   {
    "duration": 158,
    "start_time": "2024-07-28T12:50:19.443Z"
   },
   {
    "duration": 105,
    "start_time": "2024-07-28T12:50:19.604Z"
   },
   {
    "duration": 30,
    "start_time": "2024-07-28T12:50:19.711Z"
   },
   {
    "duration": 12,
    "start_time": "2024-07-28T12:50:19.744Z"
   },
   {
    "duration": 99,
    "start_time": "2024-07-28T12:50:19.759Z"
   },
   {
    "duration": 34,
    "start_time": "2024-07-28T12:50:19.860Z"
   },
   {
    "duration": 62,
    "start_time": "2024-07-28T12:50:19.899Z"
   },
   {
    "duration": 8,
    "start_time": "2024-07-28T12:50:19.965Z"
   },
   {
    "duration": 11,
    "start_time": "2024-07-28T12:50:19.976Z"
   },
   {
    "duration": 1542,
    "start_time": "2024-07-28T12:50:19.990Z"
   },
   {
    "duration": 3341,
    "start_time": "2024-07-28T12:50:21.535Z"
   },
   {
    "duration": 10,
    "start_time": "2024-07-28T12:50:24.880Z"
   },
   {
    "duration": 7,
    "start_time": "2024-07-28T12:50:24.893Z"
   },
   {
    "duration": 13,
    "start_time": "2024-07-28T12:50:24.926Z"
   },
   {
    "duration": 14,
    "start_time": "2024-07-28T12:50:24.942Z"
   },
   {
    "duration": 74,
    "start_time": "2024-07-28T12:50:24.964Z"
   },
   {
    "duration": 52,
    "start_time": "2024-07-28T12:50:25.040Z"
   },
   {
    "duration": 35,
    "start_time": "2024-07-28T12:50:25.095Z"
   },
   {
    "duration": 3030,
    "start_time": "2024-07-28T12:50:25.133Z"
   },
   {
    "duration": 71,
    "start_time": "2024-07-28T12:50:28.166Z"
   },
   {
    "duration": 10,
    "start_time": "2024-07-28T12:50:28.240Z"
   },
   {
    "duration": 605,
    "start_time": "2024-07-28T12:50:28.253Z"
   },
   {
    "duration": 420,
    "start_time": "2024-07-28T12:50:28.861Z"
   },
   {
    "duration": 22,
    "start_time": "2024-07-28T12:50:29.284Z"
   },
   {
    "duration": 1004,
    "start_time": "2024-07-28T12:50:29.325Z"
   },
   {
    "duration": 506,
    "start_time": "2024-07-28T12:50:30.332Z"
   },
   {
    "duration": 478,
    "start_time": "2024-07-28T12:50:30.841Z"
   },
   {
    "duration": 1184,
    "start_time": "2024-07-28T12:50:31.325Z"
   },
   {
    "duration": 1079,
    "start_time": "2024-07-28T12:50:32.513Z"
   },
   {
    "duration": 236,
    "start_time": "2024-07-28T12:50:33.595Z"
   },
   {
    "duration": 254,
    "start_time": "2024-07-28T12:50:33.836Z"
   },
   {
    "duration": 700,
    "start_time": "2024-07-28T12:51:40.712Z"
   },
   {
    "duration": 341,
    "start_time": "2024-07-28T12:51:41.415Z"
   },
   {
    "duration": 18,
    "start_time": "2024-07-28T12:51:41.759Z"
   },
   {
    "duration": 103,
    "start_time": "2024-07-28T12:51:41.781Z"
   },
   {
    "duration": 106,
    "start_time": "2024-07-28T12:51:41.887Z"
   },
   {
    "duration": 23,
    "start_time": "2024-07-28T12:51:41.996Z"
   },
   {
    "duration": 21,
    "start_time": "2024-07-28T12:51:42.026Z"
   },
   {
    "duration": 1710,
    "start_time": "2024-07-28T12:51:42.050Z"
   },
   {
    "duration": 738,
    "start_time": "2024-07-28T12:51:43.763Z"
   },
   {
    "duration": 174,
    "start_time": "2024-07-28T12:51:44.506Z"
   },
   {
    "duration": 16,
    "start_time": "2024-07-28T12:51:44.683Z"
   },
   {
    "duration": 133,
    "start_time": "2024-07-28T12:51:44.702Z"
   },
   {
    "duration": 168,
    "start_time": "2024-07-28T12:51:44.837Z"
   },
   {
    "duration": 100,
    "start_time": "2024-07-28T12:51:45.008Z"
   },
   {
    "duration": 34,
    "start_time": "2024-07-28T12:51:45.111Z"
   },
   {
    "duration": 12,
    "start_time": "2024-07-28T12:51:45.148Z"
   },
   {
    "duration": 91,
    "start_time": "2024-07-28T12:51:45.163Z"
   },
   {
    "duration": 26,
    "start_time": "2024-07-28T12:51:45.257Z"
   },
   {
    "duration": 70,
    "start_time": "2024-07-28T12:51:45.286Z"
   },
   {
    "duration": 10,
    "start_time": "2024-07-28T12:51:45.359Z"
   },
   {
    "duration": 12,
    "start_time": "2024-07-28T12:51:45.374Z"
   },
   {
    "duration": 1497,
    "start_time": "2024-07-28T12:51:45.389Z"
   },
   {
    "duration": 3228,
    "start_time": "2024-07-28T12:51:46.888Z"
   },
   {
    "duration": 11,
    "start_time": "2024-07-28T12:51:50.118Z"
   },
   {
    "duration": 6,
    "start_time": "2024-07-28T12:51:50.132Z"
   },
   {
    "duration": 9,
    "start_time": "2024-07-28T12:51:50.142Z"
   },
   {
    "duration": 12,
    "start_time": "2024-07-28T12:51:50.154Z"
   },
   {
    "duration": 72,
    "start_time": "2024-07-28T12:51:50.176Z"
   },
   {
    "duration": 48,
    "start_time": "2024-07-28T12:51:50.251Z"
   },
   {
    "duration": 34,
    "start_time": "2024-07-28T12:51:50.302Z"
   },
   {
    "duration": 2789,
    "start_time": "2024-07-28T12:51:50.339Z"
   },
   {
    "duration": 56,
    "start_time": "2024-07-28T12:51:53.132Z"
   },
   {
    "duration": 35,
    "start_time": "2024-07-28T12:51:53.191Z"
   },
   {
    "duration": 519,
    "start_time": "2024-07-28T12:51:53.229Z"
   },
   {
    "duration": 402,
    "start_time": "2024-07-28T12:51:53.752Z"
   },
   {
    "duration": 21,
    "start_time": "2024-07-28T12:51:54.157Z"
   },
   {
    "duration": 963,
    "start_time": "2024-07-28T12:51:54.181Z"
   },
   {
    "duration": 474,
    "start_time": "2024-07-28T12:51:55.146Z"
   },
   {
    "duration": 458,
    "start_time": "2024-07-28T12:51:55.627Z"
   },
   {
    "duration": 1157,
    "start_time": "2024-07-28T12:51:56.087Z"
   },
   {
    "duration": 528,
    "start_time": "2024-07-28T12:51:57.247Z"
   },
   {
    "duration": 229,
    "start_time": "2024-07-28T12:51:57.778Z"
   },
   {
    "duration": 263,
    "start_time": "2024-07-28T12:51:58.010Z"
   }
  ],
  "kernelspec": {
   "display_name": "Python 3 (ipykernel)",
   "language": "python",
   "name": "python3"
  },
  "language_info": {
   "codemirror_mode": {
    "name": "ipython",
    "version": 3
   },
   "file_extension": ".py",
   "mimetype": "text/x-python",
   "name": "python",
   "nbconvert_exporter": "python",
   "pygments_lexer": "ipython3",
   "version": "3.9.19"
  },
  "toc": {
   "base_numbering": 1,
   "nav_menu": {},
   "number_sections": true,
   "sideBar": true,
   "skip_h1_title": true,
   "title_cell": "Table of Contents",
   "title_sidebar": "Contents",
   "toc_cell": false,
   "toc_position": {},
   "toc_section_display": true,
   "toc_window_display": true
  },
  "vscode": {
   "interpreter": {
    "hash": "01a7be9ec63e704a62cefc5fe7a4756944464ee731be31632bdf42a4cb4688cf"
   }
  }
 },
 "nbformat": 4,
 "nbformat_minor": 5
}
